{
 "cells": [
  {
   "cell_type": "code",
   "execution_count": null,
   "id": "dae560b5",
   "metadata": {},
   "outputs": [],
   "source": [
    "from pathlib import Path\n",
    "\n",
    "import automol\n",
    "\n",
    "reverse = False\n",
    "\n",
    "forw_file = Path(\"path_forw_trj.xyz\")\n",
    "forw_geos, forw_comments = zip(\n",
    "    *automol.geom.from_xyz_trajectory_string(forw_file.read_text()),\n",
    "    strict=True,\n",
    ")\n",
    "back_file = Path(\"path_back_trj.xyz\")\n",
    "back_geos, forw_comments = zip(\n",
    "    *automol.geom.from_xyz_trajectory_string(back_file.read_text()),\n",
    "    strict=True,\n",
    ")\n",
    "path_geos = [*reversed(back_geos), *forw_geos]\n",
    "path_geos = list(reversed(path_geos)) if reverse else path_geos\n",
    "automol.geom.display_trajectory(path_geos)"
   ]
  }
 ],
 "metadata": {
  "jupytext": {
   "cell_metadata_filter": "-all",
   "main_language": "python",
   "notebook_metadata_filter": "-all"
  },
  "kernelspec": {
   "display_name": "dev",
   "language": "python",
   "name": "python3"
  },
  "language_info": {
   "codemirror_mode": {
    "name": "ipython",
    "version": 3
   },
   "file_extension": ".py",
   "mimetype": "text/x-python",
   "name": "python",
   "nbconvert_exporter": "python",
   "pygments_lexer": "ipython3",
   "version": "3.11.13"
  }
 },
 "nbformat": 4,
 "nbformat_minor": 5
}
