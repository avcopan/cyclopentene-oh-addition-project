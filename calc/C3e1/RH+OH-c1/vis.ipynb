{
 "cells": [
  {
   "cell_type": "code",
   "execution_count": 1,
   "id": "6f67978f",
   "metadata": {},
   "outputs": [
    {
     "data": {
      "application/3dmoljs_load.v0": "<div id=\"3dmolviewer_17570136186840189\"  style=\"position: relative; width: 400px; height: 400px;\">\n        <p id=\"3dmolwarning_17570136186840189\" style=\"background-color:#ffcccc;color:black\">3Dmol.js failed to load for some reason.  Please check your browser console for error messages.<br></p>\n        </div>\n<script>\n\nvar loadScriptAsync = function(uri){\n  return new Promise((resolve, reject) => {\n    //this is to ignore the existence of requirejs amd\n    var savedexports, savedmodule;\n    if (typeof exports !== 'undefined') savedexports = exports;\n    else exports = {}\n    if (typeof module !== 'undefined') savedmodule = module;\n    else module = {}\n\n    var tag = document.createElement('script');\n    tag.src = uri;\n    tag.async = true;\n    tag.onload = () => {\n        exports = savedexports;\n        module = savedmodule;\n        resolve();\n    };\n  var firstScriptTag = document.getElementsByTagName('script')[0];\n  firstScriptTag.parentNode.insertBefore(tag, firstScriptTag);\n});\n};\n\nif(typeof $3Dmolpromise === 'undefined') {\n$3Dmolpromise = null;\n  $3Dmolpromise = loadScriptAsync('https://cdn.jsdelivr.net/npm/3dmol@2.5.2/build/3Dmol-min.js');\n}\n\nvar viewer_17570136186840189 = null;\nvar warn = document.getElementById(\"3dmolwarning_17570136186840189\");\nif(warn) {\n    warn.parentNode.removeChild(warn);\n}\n$3Dmolpromise.then(function() {\nviewer_17570136186840189 = $3Dmol.createViewer(document.getElementById(\"3dmolviewer_17570136186840189\"),{backgroundColor:\"white\"});\nviewer_17570136186840189.zoomTo();\n\tviewer_17570136186840189.addModelsAsFrames(\" 11\\n\\nC    0.000000   0.000000   0.000000\\nC    0.000000   0.000000   1.340520\\nH    0.923618   0.000000  -0.565407\\nH   -0.928692  -0.015533  -0.561143\\nH    0.952982   0.007407   1.863247\\nC   -1.235980  -0.002945   2.193698\\nH   -1.244748  -0.869988   2.858779\\nH   -2.136892  -0.030024   1.578246\\nH   -1.272976   0.890771   2.821664\\nO   -0.439546   3.256058   1.028234\\nH   -0.243768   2.342278   0.750565\\n 11\\n\\nC   -0.001000   0.000695   0.002843\\nC   -0.001169   0.000726   1.339619\\nH    0.922505   0.000202  -0.562403\\nH   -0.929127  -0.015026  -0.558401\\nH    0.951612   0.007935   1.862451\\nC   -1.235021  -0.002846   2.191723\\nH   -1.243119  -0.869697   2.856643\\nH   -2.135998  -0.029844   1.577139\\nH   -1.271811   0.890228   2.820524\\nO   -0.439171   3.254698   1.027563\\nH   -0.243702   2.340952   0.750702\\n 11\\n\\nC   -0.001328   0.001092   0.003918\\nC   -0.001888   0.001046   1.339242\\nH    0.922183   0.000502  -0.561316\\nH   -0.929153  -0.014781  -0.557863\\nH    0.950851   0.008355   1.862409\\nC   -1.234729  -0.002979   2.190913\\nH   -1.242305  -0.869688   2.856106\\nH   -2.136232  -0.029925   1.577007\\nH   -1.271240   0.889583   2.820572\\nO   -0.438737   3.254352   1.026959\\nH   -0.243423   2.340468   0.750457\\n 11\\n\\nC   -0.001332   0.001334   0.004022\\nC   -0.002258   0.001146   1.339164\\nH    0.922209   0.000846  -0.561171\\nH   -0.928895  -0.014629  -0.558268\\nH    0.950398   0.008671   1.862580\\nC   -1.234817  -0.003196   2.190805\\nH   -1.242059  -0.869785   2.856226\\nH   -2.136745  -0.030099   1.577462\\nH   -1.271066   0.888992   2.821097\\nO   -0.438336   3.254340   1.026424\\nH   -0.243101   2.340402   0.750063\",\"xyz\");\n\tviewer_17570136186840189.setStyle({\"stick\": {}, \"sphere\": {\"radius\": 0.3}});\n\tviewer_17570136186840189.setBackgroundColor(\"0xeeeeee\");\n\tviewer_17570136186840189.animate({\"loop\": \"forward\"});\n\tviewer_17570136186840189.zoomTo();\nviewer_17570136186840189.render();\n});\n</script>",
      "text/html": [
       "<div id=\"3dmolviewer_17570136186840189\"  style=\"position: relative; width: 400px; height: 400px;\">\n",
       "        <p id=\"3dmolwarning_17570136186840189\" style=\"background-color:#ffcccc;color:black\">3Dmol.js failed to load for some reason.  Please check your browser console for error messages.<br></p>\n",
       "        </div>\n",
       "<script>\n",
       "\n",
       "var loadScriptAsync = function(uri){\n",
       "  return new Promise((resolve, reject) => {\n",
       "    //this is to ignore the existence of requirejs amd\n",
       "    var savedexports, savedmodule;\n",
       "    if (typeof exports !== 'undefined') savedexports = exports;\n",
       "    else exports = {}\n",
       "    if (typeof module !== 'undefined') savedmodule = module;\n",
       "    else module = {}\n",
       "\n",
       "    var tag = document.createElement('script');\n",
       "    tag.src = uri;\n",
       "    tag.async = true;\n",
       "    tag.onload = () => {\n",
       "        exports = savedexports;\n",
       "        module = savedmodule;\n",
       "        resolve();\n",
       "    };\n",
       "  var firstScriptTag = document.getElementsByTagName('script')[0];\n",
       "  firstScriptTag.parentNode.insertBefore(tag, firstScriptTag);\n",
       "});\n",
       "};\n",
       "\n",
       "if(typeof $3Dmolpromise === 'undefined') {\n",
       "$3Dmolpromise = null;\n",
       "  $3Dmolpromise = loadScriptAsync('https://cdn.jsdelivr.net/npm/3dmol@2.5.2/build/3Dmol-min.js');\n",
       "}\n",
       "\n",
       "var viewer_17570136186840189 = null;\n",
       "var warn = document.getElementById(\"3dmolwarning_17570136186840189\");\n",
       "if(warn) {\n",
       "    warn.parentNode.removeChild(warn);\n",
       "}\n",
       "$3Dmolpromise.then(function() {\n",
       "viewer_17570136186840189 = $3Dmol.createViewer(document.getElementById(\"3dmolviewer_17570136186840189\"),{backgroundColor:\"white\"});\n",
       "viewer_17570136186840189.zoomTo();\n",
       "\tviewer_17570136186840189.addModelsAsFrames(\" 11\\n\\nC    0.000000   0.000000   0.000000\\nC    0.000000   0.000000   1.340520\\nH    0.923618   0.000000  -0.565407\\nH   -0.928692  -0.015533  -0.561143\\nH    0.952982   0.007407   1.863247\\nC   -1.235980  -0.002945   2.193698\\nH   -1.244748  -0.869988   2.858779\\nH   -2.136892  -0.030024   1.578246\\nH   -1.272976   0.890771   2.821664\\nO   -0.439546   3.256058   1.028234\\nH   -0.243768   2.342278   0.750565\\n 11\\n\\nC   -0.001000   0.000695   0.002843\\nC   -0.001169   0.000726   1.339619\\nH    0.922505   0.000202  -0.562403\\nH   -0.929127  -0.015026  -0.558401\\nH    0.951612   0.007935   1.862451\\nC   -1.235021  -0.002846   2.191723\\nH   -1.243119  -0.869697   2.856643\\nH   -2.135998  -0.029844   1.577139\\nH   -1.271811   0.890228   2.820524\\nO   -0.439171   3.254698   1.027563\\nH   -0.243702   2.340952   0.750702\\n 11\\n\\nC   -0.001328   0.001092   0.003918\\nC   -0.001888   0.001046   1.339242\\nH    0.922183   0.000502  -0.561316\\nH   -0.929153  -0.014781  -0.557863\\nH    0.950851   0.008355   1.862409\\nC   -1.234729  -0.002979   2.190913\\nH   -1.242305  -0.869688   2.856106\\nH   -2.136232  -0.029925   1.577007\\nH   -1.271240   0.889583   2.820572\\nO   -0.438737   3.254352   1.026959\\nH   -0.243423   2.340468   0.750457\\n 11\\n\\nC   -0.001332   0.001334   0.004022\\nC   -0.002258   0.001146   1.339164\\nH    0.922209   0.000846  -0.561171\\nH   -0.928895  -0.014629  -0.558268\\nH    0.950398   0.008671   1.862580\\nC   -1.234817  -0.003196   2.190805\\nH   -1.242059  -0.869785   2.856226\\nH   -2.136745  -0.030099   1.577462\\nH   -1.271066   0.888992   2.821097\\nO   -0.438336   3.254340   1.026424\\nH   -0.243101   2.340402   0.750063\",\"xyz\");\n",
       "\tviewer_17570136186840189.setStyle({\"stick\": {}, \"sphere\": {\"radius\": 0.3}});\n",
       "\tviewer_17570136186840189.setBackgroundColor(\"0xeeeeee\");\n",
       "\tviewer_17570136186840189.animate({\"loop\": \"forward\"});\n",
       "\tviewer_17570136186840189.zoomTo();\n",
       "viewer_17570136186840189.render();\n",
       "});\n",
       "</script>"
      ]
     },
     "metadata": {},
     "output_type": "display_data"
    }
   ],
   "source": [
    "from pathlib import Path\n",
    "\n",
    "import automol\n",
    "\n",
    "geo_file = Path(\"opt_trj.xyz\")\n",
    "geos, comments = zip(\n",
    "    *automol.geom.from_xyz_trajectory_string(geo_file.read_text()),\n",
    "    strict=True,\n",
    ")\n",
    "automol.geom.display_trajectory(geos)"
   ]
  },
  {
   "cell_type": "code",
   "execution_count": null,
   "id": "6e7adfe7",
   "metadata": {},
   "outputs": [],
   "source": []
  }
 ],
 "metadata": {
  "jupytext": {
   "cell_metadata_filter": "-all",
   "main_language": "python",
   "notebook_metadata_filter": "-all"
  },
  "kernelspec": {
   "display_name": "dev",
   "language": "python",
   "name": "python3"
  },
  "language_info": {
   "codemirror_mode": {
    "name": "ipython",
    "version": 3
   },
   "file_extension": ".py",
   "mimetype": "text/x-python",
   "name": "python",
   "nbconvert_exporter": "python",
   "pygments_lexer": "ipython3",
   "version": "3.11.13"
  }
 },
 "nbformat": 4,
 "nbformat_minor": 5
}
