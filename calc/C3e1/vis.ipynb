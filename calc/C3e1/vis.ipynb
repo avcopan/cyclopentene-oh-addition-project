{
 "cells": [
  {
   "cell_type": "code",
   "execution_count": 1,
   "id": "77526dce",
   "metadata": {},
   "outputs": [
    {
     "data": {
      "application/3dmoljs_load.v0": "<div id=\"3dmolviewer_17556983408167672\"  style=\"position: relative; width: 400px; height: 400px;\">\n        <p id=\"3dmolwarning_17556983408167672\" style=\"background-color:#ffcccc;color:black\">3Dmol.js failed to load for some reason.  Please check your browser console for error messages.<br></p>\n        </div>\n<script>\n\nvar loadScriptAsync = function(uri){\n  return new Promise((resolve, reject) => {\n    //this is to ignore the existence of requirejs amd\n    var savedexports, savedmodule;\n    if (typeof exports !== 'undefined') savedexports = exports;\n    else exports = {}\n    if (typeof module !== 'undefined') savedmodule = module;\n    else module = {}\n\n    var tag = document.createElement('script');\n    tag.src = uri;\n    tag.async = true;\n    tag.onload = () => {\n        exports = savedexports;\n        module = savedmodule;\n        resolve();\n    };\n  var firstScriptTag = document.getElementsByTagName('script')[0];\n  firstScriptTag.parentNode.insertBefore(tag, firstScriptTag);\n});\n};\n\nif(typeof $3Dmolpromise === 'undefined') {\n$3Dmolpromise = null;\n  $3Dmolpromise = loadScriptAsync('https://cdn.jsdelivr.net/npm/3dmol@2.5.2/build/3Dmol-min.js');\n}\n\nvar viewer_17556983408167672 = null;\nvar warn = document.getElementById(\"3dmolwarning_17556983408167672\");\nif(warn) {\n    warn.parentNode.removeChild(warn);\n}\n$3Dmolpromise.then(function() {\nviewer_17556983408167672 = $3Dmol.createViewer(document.getElementById(\"3dmolviewer_17556983408167672\"),{backgroundColor:\"white\"});\nviewer_17556983408167672.zoomTo();\n\tviewer_17556983408167672.addModelsAsFrames(\" 9\\n\\nC    0.000000   0.000000   0.000000\\nC    0.000000   0.000000   1.338046\\nH    0.923527   0.000000  -0.565162\\nH   -0.928282   0.001427  -0.561212\\nH    0.951542  -0.002100   1.862874\\nC   -1.238315   0.003137   2.188068\\nH   -1.267906  -0.874284   2.839733\\nH   -2.137098   0.002112   1.568848\\nH   -1.266698   0.884124   2.835031\\n 9\\n\\nC   -0.000996   0.000304   0.003041\\nC   -0.001655   0.000463   1.336856\\nH    0.922768  -0.001182  -0.561377\\nH   -0.928528   0.001681  -0.558758\\nH    0.949860  -0.001319   1.861732\\nC   -1.237473   0.003060   2.185866\\nH   -1.265784  -0.874341   2.837344\\nH   -2.136837   0.002319   1.568137\\nH   -1.264585   0.883432   2.833386\\n 9\\n\\nC   -0.000964   0.000199   0.003415\\nC   -0.002701   0.000568   1.336128\\nH    0.923200  -0.001431  -0.560467\\nH   -0.927790   0.001469  -0.559699\\nH    0.948734  -0.000754   1.861466\\nC   -1.237416   0.003060   2.185454\\nH   -1.265024  -0.874389   2.836992\\nH   -2.137753   0.002726   1.569177\\nH   -1.263516   0.882968   2.833761\\n 9\\n\\nC   -0.000764   0.000116   0.003160\\nC   -0.003312   0.000708   1.335741\\nH    0.923644  -0.001549  -0.560345\\nH   -0.927001   0.001217  -0.560995\\nH    0.947979  -0.000422   1.861458\\nC   -1.237522   0.003089   2.185506\\nH   -1.264682  -0.874431   2.837025\\nH   -2.138592   0.003058   1.570293\\nH   -1.262980   0.882631   2.834384\",\"xyz\");\n\tviewer_17556983408167672.setStyle({\"stick\": {}, \"sphere\": {\"radius\": 0.3}});\n\tviewer_17556983408167672.setBackgroundColor(\"0xeeeeee\");\n\tviewer_17556983408167672.animate({\"loop\": \"forward\"});\n\tviewer_17556983408167672.zoomTo();\nviewer_17556983408167672.render();\n});\n</script>",
      "text/html": [
       "<div id=\"3dmolviewer_17556983408167672\"  style=\"position: relative; width: 400px; height: 400px;\">\n",
       "        <p id=\"3dmolwarning_17556983408167672\" style=\"background-color:#ffcccc;color:black\">3Dmol.js failed to load for some reason.  Please check your browser console for error messages.<br></p>\n",
       "        </div>\n",
       "<script>\n",
       "\n",
       "var loadScriptAsync = function(uri){\n",
       "  return new Promise((resolve, reject) => {\n",
       "    //this is to ignore the existence of requirejs amd\n",
       "    var savedexports, savedmodule;\n",
       "    if (typeof exports !== 'undefined') savedexports = exports;\n",
       "    else exports = {}\n",
       "    if (typeof module !== 'undefined') savedmodule = module;\n",
       "    else module = {}\n",
       "\n",
       "    var tag = document.createElement('script');\n",
       "    tag.src = uri;\n",
       "    tag.async = true;\n",
       "    tag.onload = () => {\n",
       "        exports = savedexports;\n",
       "        module = savedmodule;\n",
       "        resolve();\n",
       "    };\n",
       "  var firstScriptTag = document.getElementsByTagName('script')[0];\n",
       "  firstScriptTag.parentNode.insertBefore(tag, firstScriptTag);\n",
       "});\n",
       "};\n",
       "\n",
       "if(typeof $3Dmolpromise === 'undefined') {\n",
       "$3Dmolpromise = null;\n",
       "  $3Dmolpromise = loadScriptAsync('https://cdn.jsdelivr.net/npm/3dmol@2.5.2/build/3Dmol-min.js');\n",
       "}\n",
       "\n",
       "var viewer_17556983408167672 = null;\n",
       "var warn = document.getElementById(\"3dmolwarning_17556983408167672\");\n",
       "if(warn) {\n",
       "    warn.parentNode.removeChild(warn);\n",
       "}\n",
       "$3Dmolpromise.then(function() {\n",
       "viewer_17556983408167672 = $3Dmol.createViewer(document.getElementById(\"3dmolviewer_17556983408167672\"),{backgroundColor:\"white\"});\n",
       "viewer_17556983408167672.zoomTo();\n",
       "\tviewer_17556983408167672.addModelsAsFrames(\" 9\\n\\nC    0.000000   0.000000   0.000000\\nC    0.000000   0.000000   1.338046\\nH    0.923527   0.000000  -0.565162\\nH   -0.928282   0.001427  -0.561212\\nH    0.951542  -0.002100   1.862874\\nC   -1.238315   0.003137   2.188068\\nH   -1.267906  -0.874284   2.839733\\nH   -2.137098   0.002112   1.568848\\nH   -1.266698   0.884124   2.835031\\n 9\\n\\nC   -0.000996   0.000304   0.003041\\nC   -0.001655   0.000463   1.336856\\nH    0.922768  -0.001182  -0.561377\\nH   -0.928528   0.001681  -0.558758\\nH    0.949860  -0.001319   1.861732\\nC   -1.237473   0.003060   2.185866\\nH   -1.265784  -0.874341   2.837344\\nH   -2.136837   0.002319   1.568137\\nH   -1.264585   0.883432   2.833386\\n 9\\n\\nC   -0.000964   0.000199   0.003415\\nC   -0.002701   0.000568   1.336128\\nH    0.923200  -0.001431  -0.560467\\nH   -0.927790   0.001469  -0.559699\\nH    0.948734  -0.000754   1.861466\\nC   -1.237416   0.003060   2.185454\\nH   -1.265024  -0.874389   2.836992\\nH   -2.137753   0.002726   1.569177\\nH   -1.263516   0.882968   2.833761\\n 9\\n\\nC   -0.000764   0.000116   0.003160\\nC   -0.003312   0.000708   1.335741\\nH    0.923644  -0.001549  -0.560345\\nH   -0.927001   0.001217  -0.560995\\nH    0.947979  -0.000422   1.861458\\nC   -1.237522   0.003089   2.185506\\nH   -1.264682  -0.874431   2.837025\\nH   -2.138592   0.003058   1.570293\\nH   -1.262980   0.882631   2.834384\",\"xyz\");\n",
       "\tviewer_17556983408167672.setStyle({\"stick\": {}, \"sphere\": {\"radius\": 0.3}});\n",
       "\tviewer_17556983408167672.setBackgroundColor(\"0xeeeeee\");\n",
       "\tviewer_17556983408167672.animate({\"loop\": \"forward\"});\n",
       "\tviewer_17556983408167672.zoomTo();\n",
       "viewer_17556983408167672.render();\n",
       "});\n",
       "</script>"
      ]
     },
     "metadata": {},
     "output_type": "display_data"
    }
   ],
   "source": [
    "from pathlib import Path\n",
    "\n",
    "import automol\n",
    "\n",
    "geo_file = Path(\"opt_trj.xyz\")\n",
    "geos, comments = zip(\n",
    "    *automol.geom.from_xyz_trajectory_string(geo_file.read_text()),\n",
    "    strict=True,\n",
    ")\n",
    "automol.geom.display_trajectory(geos)"
   ]
  }
 ],
 "metadata": {
  "jupytext": {
   "cell_metadata_filter": "-all",
   "main_language": "python",
   "notebook_metadata_filter": "-all"
  },
  "kernelspec": {
   "display_name": "dev",
   "language": "python",
   "name": "python3"
  },
  "language_info": {
   "codemirror_mode": {
    "name": "ipython",
    "version": 3
   },
   "file_extension": ".py",
   "mimetype": "text/x-python",
   "name": "python",
   "nbconvert_exporter": "python",
   "pygments_lexer": "ipython3",
   "version": "3.11.13"
  }
 },
 "nbformat": 4,
 "nbformat_minor": 5
}
