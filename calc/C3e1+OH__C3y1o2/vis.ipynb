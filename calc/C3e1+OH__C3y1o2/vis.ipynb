{
 "cells": [
  {
   "cell_type": "code",
   "execution_count": 1,
   "id": "28156a0d",
   "metadata": {},
   "outputs": [
    {
     "ename": "TypeError",
     "evalue": "int() argument must be a string, a bytes-like object or a real number, not 'NoneType'",
     "output_type": "error",
     "traceback": [
      "\u001b[0;31m---------------------------------------------------------------------------\u001b[0m",
      "\u001b[0;31mAttributeError\u001b[0m                            Traceback (most recent call last)",
      "File \u001b[0;32m~/proj/cyclopentene-oh-addition-project/.pixi/envs/dev/lib/python3.11/site-packages/qcelemental/periodic_table.py:76\u001b[0m, in \u001b[0;36mPeriodicTable._resolve_atom_to_key.<locals>.resolve_eliso\u001b[0;34m(atom)\u001b[0m\n\u001b[1;32m     75\u001b[0m \u001b[38;5;28;01mtry\u001b[39;00m:\n\u001b[0;32m---> 76\u001b[0m     \u001b[38;5;28mself\u001b[39m\u001b[38;5;241m.\u001b[39m_eliso2mass[\u001b[43matom\u001b[49m\u001b[38;5;241;43m.\u001b[39;49m\u001b[43mcapitalize\u001b[49m()]  \u001b[38;5;66;03m# type: ignore\u001b[39;00m\n\u001b[1;32m     77\u001b[0m \u001b[38;5;28;01mexcept\u001b[39;00m (\u001b[38;5;167;01mKeyError\u001b[39;00m, \u001b[38;5;167;01mAttributeError\u001b[39;00m):\n",
      "\u001b[0;31mAttributeError\u001b[0m: 'NoneType' object has no attribute 'capitalize'",
      "\nDuring handling of the above exception, another exception occurred:\n",
      "\u001b[0;31mTypeError\u001b[0m                                 Traceback (most recent call last)",
      "Cell \u001b[0;32mIn[1], line 7\u001b[0m\n\u001b[1;32m      5\u001b[0m geo_forw_path \u001b[38;5;241m=\u001b[39m Path(\u001b[38;5;124m\"\u001b[39m\u001b[38;5;124mpath_init_forw.xyz\u001b[39m\u001b[38;5;124m\"\u001b[39m)\n\u001b[1;32m      6\u001b[0m geo_back_path \u001b[38;5;241m=\u001b[39m Path(\u001b[38;5;124m\"\u001b[39m\u001b[38;5;124mpath_init_back.xyz\u001b[39m\u001b[38;5;124m\"\u001b[39m)\n\u001b[0;32m----> 7\u001b[0m geo_forw \u001b[38;5;241m=\u001b[39m \u001b[43mautomol\u001b[49m\u001b[38;5;241;43m.\u001b[39;49m\u001b[43mgeom\u001b[49m\u001b[38;5;241;43m.\u001b[39;49m\u001b[43mfrom_xyz_string\u001b[49m\u001b[43m(\u001b[49m\u001b[43mgeo_forw_path\u001b[49m\u001b[38;5;241;43m.\u001b[39;49m\u001b[43mread_text\u001b[49m\u001b[43m(\u001b[49m\u001b[43m)\u001b[49m\u001b[43m)\u001b[49m\n\u001b[1;32m      8\u001b[0m geo_back \u001b[38;5;241m=\u001b[39m automol\u001b[38;5;241m.\u001b[39mgeom\u001b[38;5;241m.\u001b[39mfrom_xyz_string(geo_back_path\u001b[38;5;241m.\u001b[39mread_text())\n\u001b[1;32m     10\u001b[0m automol\u001b[38;5;241m.\u001b[39mgeom\u001b[38;5;241m.\u001b[39mdisplay(geo_forw)\n",
      "File \u001b[0;32m/gpfs/fs1/home/copan/proj/cyclopentene-oh-addition-project/src/_autochem/automol/geom/base/_0core.py:272\u001b[0m, in \u001b[0;36mfrom_xyz_string\u001b[0;34m(xyz_str)\u001b[0m\n\u001b[1;32m    270\u001b[0m geo_str \u001b[38;5;241m=\u001b[39m \u001b[38;5;124m\"\u001b[39m\u001b[38;5;130;01m\\n\u001b[39;00m\u001b[38;5;124m\"\u001b[39m\u001b[38;5;241m.\u001b[39mjoin(lines)\n\u001b[1;32m    271\u001b[0m \u001b[38;5;66;03m# geo = from_string(geo_str, angstrom=True)\u001b[39;00m\n\u001b[0;32m--> 272\u001b[0m geo \u001b[38;5;241m=\u001b[39m \u001b[43mfrom_string\u001b[49m\u001b[43m(\u001b[49m\u001b[43mgeo_str\u001b[49m\u001b[43m,\u001b[49m\u001b[43m \u001b[49m\u001b[43mangstrom\u001b[49m\u001b[38;5;241;43m=\u001b[39;49m\u001b[38;5;28;43;01mFalse\u001b[39;49;00m\u001b[43m)\u001b[49m\n\u001b[1;32m    273\u001b[0m \u001b[38;5;28mprint\u001b[39m(geo)\n\u001b[1;32m    275\u001b[0m \u001b[38;5;28;01massert\u001b[39;00m natms \u001b[38;5;241m==\u001b[39m count(geo), \u001b[38;5;124mf\u001b[39m\u001b[38;5;124m\"\u001b[39m\u001b[38;5;124mXYZ string with inconsistent count: \u001b[39m\u001b[38;5;132;01m{\u001b[39;00mxyz_str\u001b[38;5;132;01m}\u001b[39;00m\u001b[38;5;124m\"\u001b[39m\n",
      "File \u001b[0;32m/gpfs/fs1/home/copan/proj/cyclopentene-oh-addition-project/src/_autochem/automol/geom/base/_0core.py:228\u001b[0m, in \u001b[0;36mfrom_string\u001b[0;34m(geo_str, angstrom)\u001b[0m\n\u001b[1;32m    218\u001b[0m \u001b[38;5;28;01mdef\u001b[39;00m\u001b[38;5;250m \u001b[39m\u001b[38;5;21mfrom_string\u001b[39m(geo_str, angstrom\u001b[38;5;241m=\u001b[39m\u001b[38;5;28;01mTrue\u001b[39;00m):\n\u001b[1;32m    219\u001b[0m \u001b[38;5;250m    \u001b[39m\u001b[38;5;124;03m\"\"\"Read a Cartesian molecular geometry from a string comprised\u001b[39;00m\n\u001b[1;32m    220\u001b[0m \u001b[38;5;124;03m    of just the atomic symbols and coordinates.\u001b[39;00m\n\u001b[1;32m    221\u001b[0m \n\u001b[0;32m   (...)\u001b[0m\n\u001b[1;32m    226\u001b[0m \u001b[38;5;124;03m    :rtype: automol geometry data structure\u001b[39;00m\n\u001b[1;32m    227\u001b[0m \u001b[38;5;124;03m    \"\"\"\u001b[39;00m\n\u001b[0;32m--> 228\u001b[0m     geo, \u001b[38;5;241m*\u001b[39m_ \u001b[38;5;241m=\u001b[39m \u001b[43mfrom_string_with_mode\u001b[49m\u001b[43m(\u001b[49m\u001b[43mgeo_str\u001b[49m\u001b[43m,\u001b[49m\u001b[43m \u001b[49m\u001b[43mangstrom\u001b[49m\u001b[38;5;241;43m=\u001b[39;49m\u001b[43mangstrom\u001b[49m\u001b[43m)\u001b[49m\n\u001b[1;32m    229\u001b[0m     \u001b[38;5;28;01mreturn\u001b[39;00m geo\n",
      "File \u001b[0;32m/gpfs/fs1/home/copan/proj/cyclopentene-oh-addition-project/src/_autochem/automol/geom/base/_0core.py:254\u001b[0m, in \u001b[0;36mfrom_string_with_mode\u001b[0;34m(geo_str, angstrom)\u001b[0m\n\u001b[1;32m    251\u001b[0m         mode\u001b[38;5;241m.\u001b[39mappend(res\u001b[38;5;241m.\u001b[39mget(\u001b[38;5;124m\"\u001b[39m\u001b[38;5;124mmode_xyz\u001b[39m\u001b[38;5;124m\"\u001b[39m))\n\u001b[1;32m    253\u001b[0m mode \u001b[38;5;241m=\u001b[39m numpy\u001b[38;5;241m.\u001b[39marray(mode)\n\u001b[0;32m--> 254\u001b[0m geo \u001b[38;5;241m=\u001b[39m \u001b[43mfrom_data\u001b[49m\u001b[43m(\u001b[49m\u001b[43msymbs\u001b[49m\u001b[43m,\u001b[49m\u001b[43m \u001b[49m\u001b[43mxyzs\u001b[49m\u001b[43m,\u001b[49m\u001b[43m \u001b[49m\u001b[43mangstrom\u001b[49m\u001b[38;5;241;43m=\u001b[39;49m\u001b[43mangstrom\u001b[49m\u001b[43m)\u001b[49m\n\u001b[1;32m    255\u001b[0m \u001b[38;5;28;01mreturn\u001b[39;00m geo, mode\n",
      "File \u001b[0;32m/gpfs/fs1/home/copan/proj/cyclopentene-oh-addition-project/src/_autochem/automol/geom/base/_0core.py:45\u001b[0m, in \u001b[0;36mfrom_data\u001b[0;34m(symbs, xyzs, angstrom, check)\u001b[0m\n\u001b[1;32m     28\u001b[0m \u001b[38;5;28;01mdef\u001b[39;00m\u001b[38;5;250m \u001b[39m\u001b[38;5;21mfrom_data\u001b[39m(symbs, xyzs, angstrom\u001b[38;5;241m=\u001b[39m\u001b[38;5;28;01mFalse\u001b[39;00m, check\u001b[38;5;241m=\u001b[39m\u001b[38;5;28;01mTrue\u001b[39;00m):\n\u001b[1;32m     29\u001b[0m \u001b[38;5;250m    \u001b[39m\u001b[38;5;124;03m\"\"\"Build a geometry data structure from atomic symbols and coordinates.\u001b[39;00m\n\u001b[1;32m     30\u001b[0m \n\u001b[1;32m     31\u001b[0m \u001b[38;5;124;03m    format:\u001b[39;00m\n\u001b[0;32m   (...)\u001b[0m\n\u001b[1;32m     42\u001b[0m \u001b[38;5;124;03m    :type check: bool\u001b[39;00m\n\u001b[1;32m     43\u001b[0m \u001b[38;5;124;03m    \"\"\"\u001b[39;00m\n\u001b[0;32m---> 45\u001b[0m     symbs \u001b[38;5;241m=\u001b[39m \u001b[38;5;28;43mlist\u001b[39;49m\u001b[43m(\u001b[49m\u001b[38;5;28;43mmap\u001b[39;49m\u001b[43m(\u001b[49m\u001b[43mptab\u001b[49m\u001b[38;5;241;43m.\u001b[39;49m\u001b[43mto_symbol\u001b[49m\u001b[43m,\u001b[49m\u001b[43m \u001b[49m\u001b[43msymbs\u001b[49m\u001b[43m)\u001b[49m\u001b[43m)\u001b[49m\n\u001b[1;32m     46\u001b[0m     natms \u001b[38;5;241m=\u001b[39m \u001b[38;5;28mlen\u001b[39m(symbs)\n\u001b[1;32m     48\u001b[0m     xyzs \u001b[38;5;241m=\u001b[39m numpy\u001b[38;5;241m.\u001b[39marray(xyzs, dtype\u001b[38;5;241m=\u001b[39m\u001b[38;5;28mfloat\u001b[39m)\n",
      "File \u001b[0;32m/gpfs/fs1/home/copan/proj/cyclopentene-oh-addition-project/src/_autochem/phydat/ptab.py:43\u001b[0m, in \u001b[0;36mto_symbol\u001b[0;34m(atom)\u001b[0m\n\u001b[1;32m     36\u001b[0m \u001b[38;5;250m\u001b[39m\u001b[38;5;124;03m\"\"\"Obtain the atomic symbol for a given atom.\u001b[39;00m\n\u001b[1;32m     37\u001b[0m \n\u001b[1;32m     38\u001b[0m \u001b[38;5;124;03m:param atom: atom representation (symbol, number, mass)\u001b[39;00m\n\u001b[1;32m     39\u001b[0m \u001b[38;5;124;03m:type atom: str/int\u001b[39;00m\n\u001b[1;32m     40\u001b[0m \u001b[38;5;124;03m:rtype: str\u001b[39;00m\n\u001b[1;32m     41\u001b[0m \u001b[38;5;124;03m\"\"\"\u001b[39;00m\n\u001b[1;32m     42\u001b[0m atom \u001b[38;5;241m=\u001b[39m \u001b[38;5;241m0\u001b[39m \u001b[38;5;28;01mif\u001b[39;00m atom \u001b[38;5;241m==\u001b[39m \u001b[38;5;241m-\u001b[39m\u001b[38;5;241m1\u001b[39m \u001b[38;5;28;01melse\u001b[39;00m atom\n\u001b[0;32m---> 43\u001b[0m \u001b[38;5;28;01mreturn\u001b[39;00m \u001b[43mperiodictable\u001b[49m\u001b[38;5;241;43m.\u001b[39;49m\u001b[43mto_E\u001b[49m\u001b[43m(\u001b[49m\u001b[43matom\u001b[49m\u001b[43m)\u001b[49m\n",
      "File \u001b[0;32m~/proj/cyclopentene-oh-addition-project/.pixi/envs/dev/lib/python3.11/site-packages/qcelemental/periodic_table.py:212\u001b[0m, in \u001b[0;36mPeriodicTable.to_E\u001b[0;34m(self, atom, strict)\u001b[0m\n\u001b[1;32m    188\u001b[0m \u001b[38;5;28;01mdef\u001b[39;00m\u001b[38;5;250m \u001b[39m\u001b[38;5;21mto_E\u001b[39m(\u001b[38;5;28mself\u001b[39m, atom: Union[\u001b[38;5;28mint\u001b[39m, \u001b[38;5;28mstr\u001b[39m], strict: \u001b[38;5;28mbool\u001b[39m \u001b[38;5;241m=\u001b[39m \u001b[38;5;28;01mFalse\u001b[39;00m) \u001b[38;5;241m-\u001b[39m\u001b[38;5;241m>\u001b[39m \u001b[38;5;28mstr\u001b[39m:\n\u001b[1;32m    189\u001b[0m \u001b[38;5;250m    \u001b[39m\u001b[38;5;124mr\u001b[39m\u001b[38;5;124;03m\"\"\"Get element symbol of `atom`.\u001b[39;00m\n\u001b[1;32m    190\u001b[0m \n\u001b[1;32m    191\u001b[0m \u001b[38;5;124;03m    Functions :py:func:`to_E` and :py:func:`to_symbol` are aliases.\u001b[39;00m\n\u001b[0;32m   (...)\u001b[0m\n\u001b[1;32m    210\u001b[0m \n\u001b[1;32m    211\u001b[0m \u001b[38;5;124;03m    \"\"\"\u001b[39;00m\n\u001b[0;32m--> 212\u001b[0m     identifier \u001b[38;5;241m=\u001b[39m \u001b[38;5;28;43mself\u001b[39;49m\u001b[38;5;241;43m.\u001b[39;49m\u001b[43m_resolve_atom_to_key\u001b[49m\u001b[43m(\u001b[49m\u001b[43matom\u001b[49m\u001b[43m,\u001b[49m\u001b[43m \u001b[49m\u001b[43mstrict\u001b[49m\u001b[38;5;241;43m=\u001b[39;49m\u001b[43mstrict\u001b[49m\u001b[43m)\u001b[49m\n\u001b[1;32m    213\u001b[0m     \u001b[38;5;28;01mreturn\u001b[39;00m \u001b[38;5;28mself\u001b[39m\u001b[38;5;241m.\u001b[39m_eliso2el[identifier]\n",
      "File \u001b[0;32m~/proj/cyclopentene-oh-addition-project/.pixi/envs/dev/lib/python3.11/site-packages/qcelemental/periodic_table.py:93\u001b[0m, in \u001b[0;36mPeriodicTable._resolve_atom_to_key\u001b[0;34m(self, atom, strict)\u001b[0m\n\u001b[1;32m     90\u001b[0m         \u001b[38;5;28;01massert\u001b[39;00m \u001b[38;5;28misinstance\u001b[39m(atom, \u001b[38;5;28mstr\u001b[39m)\n\u001b[1;32m     91\u001b[0m         \u001b[38;5;28;01mreturn\u001b[39;00m atom\u001b[38;5;241m.\u001b[39mcapitalize()\n\u001b[0;32m---> 93\u001b[0m eliso \u001b[38;5;241m=\u001b[39m \u001b[43mresolve_eliso\u001b[49m\u001b[43m(\u001b[49m\u001b[43matom\u001b[49m\u001b[43m)\u001b[49m\n\u001b[1;32m     95\u001b[0m \u001b[38;5;28;01mif\u001b[39;00m strict \u001b[38;5;129;01mand\u001b[39;00m eliso \u001b[38;5;129;01mnot\u001b[39;00m \u001b[38;5;129;01min\u001b[39;00m \u001b[38;5;28mself\u001b[39m\u001b[38;5;241m.\u001b[39mE:\n\u001b[1;32m     96\u001b[0m     \u001b[38;5;28;01mraise\u001b[39;00m NotAnElementError(eliso, strict\u001b[38;5;241m=\u001b[39mstrict)\n",
      "File \u001b[0;32m~/proj/cyclopentene-oh-addition-project/.pixi/envs/dev/lib/python3.11/site-packages/qcelemental/periodic_table.py:79\u001b[0m, in \u001b[0;36mPeriodicTable._resolve_atom_to_key.<locals>.resolve_eliso\u001b[0;34m(atom)\u001b[0m\n\u001b[1;32m     77\u001b[0m \u001b[38;5;28;01mexcept\u001b[39;00m (\u001b[38;5;167;01mKeyError\u001b[39;00m, \u001b[38;5;167;01mAttributeError\u001b[39;00m):\n\u001b[1;32m     78\u001b[0m     \u001b[38;5;28;01mtry\u001b[39;00m:\n\u001b[0;32m---> 79\u001b[0m         E \u001b[38;5;241m=\u001b[39m \u001b[38;5;28mself\u001b[39m\u001b[38;5;241m.\u001b[39m_z2el[\u001b[38;5;28;43mint\u001b[39;49m\u001b[43m(\u001b[49m\u001b[43matom\u001b[49m\u001b[43m)\u001b[49m]\n\u001b[1;32m     80\u001b[0m     \u001b[38;5;28;01mexcept\u001b[39;00m (\u001b[38;5;167;01mKeyError\u001b[39;00m, \u001b[38;5;167;01mValueError\u001b[39;00m):\n\u001b[1;32m     81\u001b[0m         \u001b[38;5;28;01mtry\u001b[39;00m:\n",
      "\u001b[0;31mTypeError\u001b[0m: int() argument must be a string, a bytes-like object or a real number, not 'NoneType'"
     ]
    }
   ],
   "source": [
    "from pathlib import Path\n",
    "\n",
    "import automol\n",
    "\n",
    "geo_forw_path = Path(\"path_init_forw.xyz\")\n",
    "geo_back_path = Path(\"path_init_back.xyz\")\n",
    "geo_forw = automol.geom.from_xyz_string(geo_forw_path.read_text())\n",
    "geo_back = automol.geom.from_xyz_string(geo_back_path.read_text())\n",
    "\n",
    "automol.geom.display(geo_forw)"
   ]
  },
  {
   "cell_type": "code",
   "execution_count": null,
   "id": "b2b86436",
   "metadata": {},
   "outputs": [],
   "source": []
  }
 ],
 "metadata": {
  "kernelspec": {
   "display_name": "dev",
   "language": "python",
   "name": "python3"
  },
  "language_info": {
   "codemirror_mode": {
    "name": "ipython",
    "version": 3
   },
   "file_extension": ".py",
   "mimetype": "text/x-python",
   "name": "python",
   "nbconvert_exporter": "python",
   "pygments_lexer": "ipython3",
   "version": "3.11.13"
  }
 },
 "nbformat": 4,
 "nbformat_minor": 5
}
