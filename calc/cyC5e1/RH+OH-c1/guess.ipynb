{
 "cells": [
  {
   "cell_type": "code",
   "execution_count": 1,
   "id": "a117136b",
   "metadata": {},
   "outputs": [],
   "source": [
    "from pathlib import Path\n",
    "\n",
    "import automol"
   ]
  },
  {
   "cell_type": "code",
   "execution_count": 2,
   "id": "b1fe6444",
   "metadata": {},
   "outputs": [
    {
     "data": {
      "application/3dmoljs_load.v0": "<div id=\"3dmolviewer_17543344910474062\"  style=\"position: relative; width: 400px; height: 400px;\">\n        <p id=\"3dmolwarning_17543344910474062\" style=\"background-color:#ffcccc;color:black\">3Dmol.js failed to load for some reason.  Please check your browser console for error messages.<br></p>\n        </div>\n<script>\n\nvar loadScriptAsync = function(uri){\n  return new Promise((resolve, reject) => {\n    //this is to ignore the existence of requirejs amd\n    var savedexports, savedmodule;\n    if (typeof exports !== 'undefined') savedexports = exports;\n    else exports = {}\n    if (typeof module !== 'undefined') savedmodule = module;\n    else module = {}\n\n    var tag = document.createElement('script');\n    tag.src = uri;\n    tag.async = true;\n    tag.onload = () => {\n        exports = savedexports;\n        module = savedmodule;\n        resolve();\n    };\n  var firstScriptTag = document.getElementsByTagName('script')[0];\n  firstScriptTag.parentNode.insertBefore(tag, firstScriptTag);\n});\n};\n\nif(typeof $3Dmolpromise === 'undefined') {\n$3Dmolpromise = null;\n  $3Dmolpromise = loadScriptAsync('https://cdn.jsdelivr.net/npm/3dmol@2.5.2/build/3Dmol-min.js');\n}\n\nvar viewer_17543344910474062 = null;\nvar warn = document.getElementById(\"3dmolwarning_17543344910474062\");\nif(warn) {\n    warn.parentNode.removeChild(warn);\n}\n$3Dmolpromise.then(function() {\nviewer_17543344910474062 = $3Dmol.createViewer(document.getElementById(\"3dmolviewer_17543344910474062\"),{backgroundColor:\"white\"});\nviewer_17543344910474062.zoomTo();\n\tviewer_17543344910474062.addModel(\"\\n  automech\\n\\n  0  0  0  0  0  0  0  0  0  0999 V3000\\nM  V30 BEGIN CTAB\\nM  V30 COUNTS 13 13 0 0 0\\nM  V30 BEGIN ATOM\\nM  V30 1 C -1.088 0.579 -0.172 RAD=1 VAL=4\\nM  V30 2 C -0.653 -0.694 0.554 RAD=1 VAL=4\\nM  V30 3 C 0.802 -0.939 0.154 RAD=1 VAL=4\\nM  V30 4 C 1.245 0.403 -0.325 RAD=2 VAL=3\\nM  V30 5 C 0.212 1.233 -0.503 RAD=2 VAL=3\\nM  V30 6 H -1.643 0.351 -1.087 RAD=1 VAL=1\\nM  V30 7 H -1.708 1.209 0.473 RAD=1 VAL=1\\nM  V30 8 H -1.296 -1.546 0.312 RAD=1 VAL=1\\nM  V30 9 H -0.717 -0.540 1.640 RAD=1 VAL=1\\nM  V30 10 H 1.393 -1.282 1.008 RAD=1 VAL=1\\nM  V30 11 H 0.879 -1.675 -0.652 RAD=1 VAL=1\\nM  V30 12 H 2.277 0.653 -0.530 RAD=1 VAL=1\\nM  V30 13 H 0.294 2.246 -0.872 RAD=1 VAL=1\\nM  V30 END ATOM\\nM  V30 BEGIN BOND\\nM  V30 1 1 4 5 CFG=0\\nM  V30 2 1 2 8 CFG=0\\nM  V30 3 1 1 7 CFG=0\\nM  V30 4 1 3 4 CFG=0\\nM  V30 5 1 2 3 CFG=0\\nM  V30 6 1 3 11 CFG=0\\nM  V30 7 1 1 2 CFG=0\\nM  V30 8 1 5 13 CFG=0\\nM  V30 9 1 1 5 CFG=0\\nM  V30 10 1 1 6 CFG=0\\nM  V30 11 1 2 9 CFG=0\\nM  V30 12 1 4 12 CFG=0\\nM  V30 13 1 3 10 CFG=0\\nM  V30 END BOND\\nM  V30 END CTAB\\nM  END\\n\",\"sdf\");\n\tviewer_17543344910474062.setStyle({\"stick\": {}, \"sphere\": {\"radius\": 0.3}});\n\tviewer_17543344910474062.setBackgroundColor(\"0xeeeeee\");\n\tviewer_17543344910474062.zoomTo();\n\tviewer_17543344910474062.addLabel(0,{\"backgroundOpacity\": 0.0, \"fontColor\": \"black\", \"alignment\": \"center\", \"inFront\": true},{\"index\": 0});\n\tviewer_17543344910474062.addLabel(1,{\"backgroundOpacity\": 0.0, \"fontColor\": \"black\", \"alignment\": \"center\", \"inFront\": true},{\"index\": 1});\n\tviewer_17543344910474062.addLabel(2,{\"backgroundOpacity\": 0.0, \"fontColor\": \"black\", \"alignment\": \"center\", \"inFront\": true},{\"index\": 2});\n\tviewer_17543344910474062.addLabel(3,{\"backgroundOpacity\": 0.0, \"fontColor\": \"black\", \"alignment\": \"center\", \"inFront\": true},{\"index\": 3});\n\tviewer_17543344910474062.addLabel(4,{\"backgroundOpacity\": 0.0, \"fontColor\": \"black\", \"alignment\": \"center\", \"inFront\": true},{\"index\": 4});\n\tviewer_17543344910474062.addLabel(5,{\"backgroundOpacity\": 0.0, \"fontColor\": \"black\", \"alignment\": \"center\", \"inFront\": true},{\"index\": 5});\n\tviewer_17543344910474062.addLabel(6,{\"backgroundOpacity\": 0.0, \"fontColor\": \"black\", \"alignment\": \"center\", \"inFront\": true},{\"index\": 6});\n\tviewer_17543344910474062.addLabel(7,{\"backgroundOpacity\": 0.0, \"fontColor\": \"black\", \"alignment\": \"center\", \"inFront\": true},{\"index\": 7});\n\tviewer_17543344910474062.addLabel(8,{\"backgroundOpacity\": 0.0, \"fontColor\": \"black\", \"alignment\": \"center\", \"inFront\": true},{\"index\": 8});\n\tviewer_17543344910474062.addLabel(9,{\"backgroundOpacity\": 0.0, \"fontColor\": \"black\", \"alignment\": \"center\", \"inFront\": true},{\"index\": 9});\n\tviewer_17543344910474062.addLabel(10,{\"backgroundOpacity\": 0.0, \"fontColor\": \"black\", \"alignment\": \"center\", \"inFront\": true},{\"index\": 10});\n\tviewer_17543344910474062.addLabel(11,{\"backgroundOpacity\": 0.0, \"fontColor\": \"black\", \"alignment\": \"center\", \"inFront\": true},{\"index\": 11});\n\tviewer_17543344910474062.addLabel(12,{\"backgroundOpacity\": 0.0, \"fontColor\": \"black\", \"alignment\": \"center\", \"inFront\": true},{\"index\": 12});\nviewer_17543344910474062.render();\n});\n</script>",
      "text/html": [
       "<div id=\"3dmolviewer_17543344910474062\"  style=\"position: relative; width: 400px; height: 400px;\">\n",
       "        <p id=\"3dmolwarning_17543344910474062\" style=\"background-color:#ffcccc;color:black\">3Dmol.js failed to load for some reason.  Please check your browser console for error messages.<br></p>\n",
       "        </div>\n",
       "<script>\n",
       "\n",
       "var loadScriptAsync = function(uri){\n",
       "  return new Promise((resolve, reject) => {\n",
       "    //this is to ignore the existence of requirejs amd\n",
       "    var savedexports, savedmodule;\n",
       "    if (typeof exports !== 'undefined') savedexports = exports;\n",
       "    else exports = {}\n",
       "    if (typeof module !== 'undefined') savedmodule = module;\n",
       "    else module = {}\n",
       "\n",
       "    var tag = document.createElement('script');\n",
       "    tag.src = uri;\n",
       "    tag.async = true;\n",
       "    tag.onload = () => {\n",
       "        exports = savedexports;\n",
       "        module = savedmodule;\n",
       "        resolve();\n",
       "    };\n",
       "  var firstScriptTag = document.getElementsByTagName('script')[0];\n",
       "  firstScriptTag.parentNode.insertBefore(tag, firstScriptTag);\n",
       "});\n",
       "};\n",
       "\n",
       "if(typeof $3Dmolpromise === 'undefined') {\n",
       "$3Dmolpromise = null;\n",
       "  $3Dmolpromise = loadScriptAsync('https://cdn.jsdelivr.net/npm/3dmol@2.5.2/build/3Dmol-min.js');\n",
       "}\n",
       "\n",
       "var viewer_17543344910474062 = null;\n",
       "var warn = document.getElementById(\"3dmolwarning_17543344910474062\");\n",
       "if(warn) {\n",
       "    warn.parentNode.removeChild(warn);\n",
       "}\n",
       "$3Dmolpromise.then(function() {\n",
       "viewer_17543344910474062 = $3Dmol.createViewer(document.getElementById(\"3dmolviewer_17543344910474062\"),{backgroundColor:\"white\"});\n",
       "viewer_17543344910474062.zoomTo();\n",
       "\tviewer_17543344910474062.addModel(\"\\n  automech\\n\\n  0  0  0  0  0  0  0  0  0  0999 V3000\\nM  V30 BEGIN CTAB\\nM  V30 COUNTS 13 13 0 0 0\\nM  V30 BEGIN ATOM\\nM  V30 1 C -1.088 0.579 -0.172 RAD=1 VAL=4\\nM  V30 2 C -0.653 -0.694 0.554 RAD=1 VAL=4\\nM  V30 3 C 0.802 -0.939 0.154 RAD=1 VAL=4\\nM  V30 4 C 1.245 0.403 -0.325 RAD=2 VAL=3\\nM  V30 5 C 0.212 1.233 -0.503 RAD=2 VAL=3\\nM  V30 6 H -1.643 0.351 -1.087 RAD=1 VAL=1\\nM  V30 7 H -1.708 1.209 0.473 RAD=1 VAL=1\\nM  V30 8 H -1.296 -1.546 0.312 RAD=1 VAL=1\\nM  V30 9 H -0.717 -0.540 1.640 RAD=1 VAL=1\\nM  V30 10 H 1.393 -1.282 1.008 RAD=1 VAL=1\\nM  V30 11 H 0.879 -1.675 -0.652 RAD=1 VAL=1\\nM  V30 12 H 2.277 0.653 -0.530 RAD=1 VAL=1\\nM  V30 13 H 0.294 2.246 -0.872 RAD=1 VAL=1\\nM  V30 END ATOM\\nM  V30 BEGIN BOND\\nM  V30 1 1 4 5 CFG=0\\nM  V30 2 1 2 8 CFG=0\\nM  V30 3 1 1 7 CFG=0\\nM  V30 4 1 3 4 CFG=0\\nM  V30 5 1 2 3 CFG=0\\nM  V30 6 1 3 11 CFG=0\\nM  V30 7 1 1 2 CFG=0\\nM  V30 8 1 5 13 CFG=0\\nM  V30 9 1 1 5 CFG=0\\nM  V30 10 1 1 6 CFG=0\\nM  V30 11 1 2 9 CFG=0\\nM  V30 12 1 4 12 CFG=0\\nM  V30 13 1 3 10 CFG=0\\nM  V30 END BOND\\nM  V30 END CTAB\\nM  END\\n\",\"sdf\");\n",
       "\tviewer_17543344910474062.setStyle({\"stick\": {}, \"sphere\": {\"radius\": 0.3}});\n",
       "\tviewer_17543344910474062.setBackgroundColor(\"0xeeeeee\");\n",
       "\tviewer_17543344910474062.zoomTo();\n",
       "\tviewer_17543344910474062.addLabel(0,{\"backgroundOpacity\": 0.0, \"fontColor\": \"black\", \"alignment\": \"center\", \"inFront\": true},{\"index\": 0});\n",
       "\tviewer_17543344910474062.addLabel(1,{\"backgroundOpacity\": 0.0, \"fontColor\": \"black\", \"alignment\": \"center\", \"inFront\": true},{\"index\": 1});\n",
       "\tviewer_17543344910474062.addLabel(2,{\"backgroundOpacity\": 0.0, \"fontColor\": \"black\", \"alignment\": \"center\", \"inFront\": true},{\"index\": 2});\n",
       "\tviewer_17543344910474062.addLabel(3,{\"backgroundOpacity\": 0.0, \"fontColor\": \"black\", \"alignment\": \"center\", \"inFront\": true},{\"index\": 3});\n",
       "\tviewer_17543344910474062.addLabel(4,{\"backgroundOpacity\": 0.0, \"fontColor\": \"black\", \"alignment\": \"center\", \"inFront\": true},{\"index\": 4});\n",
       "\tviewer_17543344910474062.addLabel(5,{\"backgroundOpacity\": 0.0, \"fontColor\": \"black\", \"alignment\": \"center\", \"inFront\": true},{\"index\": 5});\n",
       "\tviewer_17543344910474062.addLabel(6,{\"backgroundOpacity\": 0.0, \"fontColor\": \"black\", \"alignment\": \"center\", \"inFront\": true},{\"index\": 6});\n",
       "\tviewer_17543344910474062.addLabel(7,{\"backgroundOpacity\": 0.0, \"fontColor\": \"black\", \"alignment\": \"center\", \"inFront\": true},{\"index\": 7});\n",
       "\tviewer_17543344910474062.addLabel(8,{\"backgroundOpacity\": 0.0, \"fontColor\": \"black\", \"alignment\": \"center\", \"inFront\": true},{\"index\": 8});\n",
       "\tviewer_17543344910474062.addLabel(9,{\"backgroundOpacity\": 0.0, \"fontColor\": \"black\", \"alignment\": \"center\", \"inFront\": true},{\"index\": 9});\n",
       "\tviewer_17543344910474062.addLabel(10,{\"backgroundOpacity\": 0.0, \"fontColor\": \"black\", \"alignment\": \"center\", \"inFront\": true},{\"index\": 10});\n",
       "\tviewer_17543344910474062.addLabel(11,{\"backgroundOpacity\": 0.0, \"fontColor\": \"black\", \"alignment\": \"center\", \"inFront\": true},{\"index\": 11});\n",
       "\tviewer_17543344910474062.addLabel(12,{\"backgroundOpacity\": 0.0, \"fontColor\": \"black\", \"alignment\": \"center\", \"inFront\": true},{\"index\": 12});\n",
       "viewer_17543344910474062.render();\n",
       "});\n",
       "</script>"
      ]
     },
     "metadata": {},
     "output_type": "display_data"
    }
   ],
   "source": [
    "c5_geo = automol.smiles.geometry(\"C1CCC=C1\")\n",
    "automol.geom.display(c5_geo, label=True)"
   ]
  },
  {
   "cell_type": "code",
   "execution_count": 3,
   "id": "2b7df0e3",
   "metadata": {},
   "outputs": [
    {
     "data": {
      "application/3dmoljs_load.v0": "<div id=\"3dmolviewer_1754334491084904\"  style=\"position: relative; width: 400px; height: 400px;\">\n        <p id=\"3dmolwarning_1754334491084904\" style=\"background-color:#ffcccc;color:black\">3Dmol.js failed to load for some reason.  Please check your browser console for error messages.<br></p>\n        </div>\n<script>\n\nvar loadScriptAsync = function(uri){\n  return new Promise((resolve, reject) => {\n    //this is to ignore the existence of requirejs amd\n    var savedexports, savedmodule;\n    if (typeof exports !== 'undefined') savedexports = exports;\n    else exports = {}\n    if (typeof module !== 'undefined') savedmodule = module;\n    else module = {}\n\n    var tag = document.createElement('script');\n    tag.src = uri;\n    tag.async = true;\n    tag.onload = () => {\n        exports = savedexports;\n        module = savedmodule;\n        resolve();\n    };\n  var firstScriptTag = document.getElementsByTagName('script')[0];\n  firstScriptTag.parentNode.insertBefore(tag, firstScriptTag);\n});\n};\n\nif(typeof $3Dmolpromise === 'undefined') {\n$3Dmolpromise = null;\n  $3Dmolpromise = loadScriptAsync('https://cdn.jsdelivr.net/npm/3dmol@2.5.2/build/3Dmol-min.js');\n}\n\nvar viewer_1754334491084904 = null;\nvar warn = document.getElementById(\"3dmolwarning_1754334491084904\");\nif(warn) {\n    warn.parentNode.removeChild(warn);\n}\n$3Dmolpromise.then(function() {\nviewer_1754334491084904 = $3Dmol.createViewer(document.getElementById(\"3dmolviewer_1754334491084904\"),{backgroundColor:\"white\"});\nviewer_1754334491084904.zoomTo();\n\tviewer_1754334491084904.addModel(\"\\n  automech\\n\\n  0  0  0  0  0  0  0  0  0  0999 V3000\\nM  V30 BEGIN CTAB\\nM  V30 COUNTS 11 9 0 0 0\\nM  V30 BEGIN ATOM\\nM  V30 1 C -0.619 1.335 -0.212 RAD=2 VAL=3\\nM  V30 2 C -0.828 0.203 0.455 RAD=2 VAL=3\\nM  V30 3 H -0.405 2.264 0.299 RAD=1 VAL=1\\nM  V30 4 H -0.674 1.373 -1.294 RAD=1 VAL=1\\nM  V30 5 C -1.138 -1.125 -0.161 RAD=1 VAL=4\\nM  V30 6 H -2.086 -1.516 0.218 RAD=1 VAL=1\\nM  V30 7 H -1.204 -1.059 -1.247 RAD=1 VAL=1\\nM  V30 8 H -0.369 -1.858 0.094 RAD=1 VAL=1\\nM  V30 9 H -0.772 0.222 1.540 RAD=1 VAL=1\\nM  V30 10 O 2.431 -0.265 -0.006 RAD=2 VAL=1\\nM  V30 11 H 1.576 0.211 -0.060 RAD=1 VAL=1\\nM  V30 END ATOM\\nM  V30 BEGIN BOND\\nM  V30 1 1 2 5 CFG=0\\nM  V30 2 1 5 7 CFG=0\\nM  V30 3 1 10 11 CFG=0\\nM  V30 4 1 1 4 CFG=0\\nM  V30 5 1 5 6 CFG=0\\nM  V30 6 1 1 2 CFG=0\\nM  V30 7 1 1 3 CFG=0\\nM  V30 8 1 2 9 CFG=0\\nM  V30 9 1 5 8 CFG=0\\nM  V30 END BOND\\nM  V30 END CTAB\\nM  END\\n\",\"sdf\");\n\tviewer_1754334491084904.setStyle({\"stick\": {}, \"sphere\": {\"radius\": 0.3}});\n\tviewer_1754334491084904.setBackgroundColor(\"0xeeeeee\");\n\tviewer_1754334491084904.zoomTo();\n\tviewer_1754334491084904.addLabel(0,{\"backgroundOpacity\": 0.0, \"fontColor\": \"black\", \"alignment\": \"center\", \"inFront\": true},{\"index\": 0});\n\tviewer_1754334491084904.addLabel(1,{\"backgroundOpacity\": 0.0, \"fontColor\": \"black\", \"alignment\": \"center\", \"inFront\": true},{\"index\": 1});\n\tviewer_1754334491084904.addLabel(2,{\"backgroundOpacity\": 0.0, \"fontColor\": \"black\", \"alignment\": \"center\", \"inFront\": true},{\"index\": 2});\n\tviewer_1754334491084904.addLabel(3,{\"backgroundOpacity\": 0.0, \"fontColor\": \"black\", \"alignment\": \"center\", \"inFront\": true},{\"index\": 3});\n\tviewer_1754334491084904.addLabel(4,{\"backgroundOpacity\": 0.0, \"fontColor\": \"black\", \"alignment\": \"center\", \"inFront\": true},{\"index\": 4});\n\tviewer_1754334491084904.addLabel(5,{\"backgroundOpacity\": 0.0, \"fontColor\": \"black\", \"alignment\": \"center\", \"inFront\": true},{\"index\": 5});\n\tviewer_1754334491084904.addLabel(6,{\"backgroundOpacity\": 0.0, \"fontColor\": \"black\", \"alignment\": \"center\", \"inFront\": true},{\"index\": 6});\n\tviewer_1754334491084904.addLabel(7,{\"backgroundOpacity\": 0.0, \"fontColor\": \"black\", \"alignment\": \"center\", \"inFront\": true},{\"index\": 7});\n\tviewer_1754334491084904.addLabel(8,{\"backgroundOpacity\": 0.0, \"fontColor\": \"black\", \"alignment\": \"center\", \"inFront\": true},{\"index\": 8});\n\tviewer_1754334491084904.addLabel(9,{\"backgroundOpacity\": 0.0, \"fontColor\": \"black\", \"alignment\": \"center\", \"inFront\": true},{\"index\": 9});\n\tviewer_1754334491084904.addLabel(10,{\"backgroundOpacity\": 0.0, \"fontColor\": \"black\", \"alignment\": \"center\", \"inFront\": true},{\"index\": 10});\nviewer_1754334491084904.render();\n});\n</script>",
      "text/html": [
       "<div id=\"3dmolviewer_1754334491084904\"  style=\"position: relative; width: 400px; height: 400px;\">\n",
       "        <p id=\"3dmolwarning_1754334491084904\" style=\"background-color:#ffcccc;color:black\">3Dmol.js failed to load for some reason.  Please check your browser console for error messages.<br></p>\n",
       "        </div>\n",
       "<script>\n",
       "\n",
       "var loadScriptAsync = function(uri){\n",
       "  return new Promise((resolve, reject) => {\n",
       "    //this is to ignore the existence of requirejs amd\n",
       "    var savedexports, savedmodule;\n",
       "    if (typeof exports !== 'undefined') savedexports = exports;\n",
       "    else exports = {}\n",
       "    if (typeof module !== 'undefined') savedmodule = module;\n",
       "    else module = {}\n",
       "\n",
       "    var tag = document.createElement('script');\n",
       "    tag.src = uri;\n",
       "    tag.async = true;\n",
       "    tag.onload = () => {\n",
       "        exports = savedexports;\n",
       "        module = savedmodule;\n",
       "        resolve();\n",
       "    };\n",
       "  var firstScriptTag = document.getElementsByTagName('script')[0];\n",
       "  firstScriptTag.parentNode.insertBefore(tag, firstScriptTag);\n",
       "});\n",
       "};\n",
       "\n",
       "if(typeof $3Dmolpromise === 'undefined') {\n",
       "$3Dmolpromise = null;\n",
       "  $3Dmolpromise = loadScriptAsync('https://cdn.jsdelivr.net/npm/3dmol@2.5.2/build/3Dmol-min.js');\n",
       "}\n",
       "\n",
       "var viewer_1754334491084904 = null;\n",
       "var warn = document.getElementById(\"3dmolwarning_1754334491084904\");\n",
       "if(warn) {\n",
       "    warn.parentNode.removeChild(warn);\n",
       "}\n",
       "$3Dmolpromise.then(function() {\n",
       "viewer_1754334491084904 = $3Dmol.createViewer(document.getElementById(\"3dmolviewer_1754334491084904\"),{backgroundColor:\"white\"});\n",
       "viewer_1754334491084904.zoomTo();\n",
       "\tviewer_1754334491084904.addModel(\"\\n  automech\\n\\n  0  0  0  0  0  0  0  0  0  0999 V3000\\nM  V30 BEGIN CTAB\\nM  V30 COUNTS 11 9 0 0 0\\nM  V30 BEGIN ATOM\\nM  V30 1 C -0.619 1.335 -0.212 RAD=2 VAL=3\\nM  V30 2 C -0.828 0.203 0.455 RAD=2 VAL=3\\nM  V30 3 H -0.405 2.264 0.299 RAD=1 VAL=1\\nM  V30 4 H -0.674 1.373 -1.294 RAD=1 VAL=1\\nM  V30 5 C -1.138 -1.125 -0.161 RAD=1 VAL=4\\nM  V30 6 H -2.086 -1.516 0.218 RAD=1 VAL=1\\nM  V30 7 H -1.204 -1.059 -1.247 RAD=1 VAL=1\\nM  V30 8 H -0.369 -1.858 0.094 RAD=1 VAL=1\\nM  V30 9 H -0.772 0.222 1.540 RAD=1 VAL=1\\nM  V30 10 O 2.431 -0.265 -0.006 RAD=2 VAL=1\\nM  V30 11 H 1.576 0.211 -0.060 RAD=1 VAL=1\\nM  V30 END ATOM\\nM  V30 BEGIN BOND\\nM  V30 1 1 2 5 CFG=0\\nM  V30 2 1 5 7 CFG=0\\nM  V30 3 1 10 11 CFG=0\\nM  V30 4 1 1 4 CFG=0\\nM  V30 5 1 5 6 CFG=0\\nM  V30 6 1 1 2 CFG=0\\nM  V30 7 1 1 3 CFG=0\\nM  V30 8 1 2 9 CFG=0\\nM  V30 9 1 5 8 CFG=0\\nM  V30 END BOND\\nM  V30 END CTAB\\nM  END\\n\",\"sdf\");\n",
       "\tviewer_1754334491084904.setStyle({\"stick\": {}, \"sphere\": {\"radius\": 0.3}});\n",
       "\tviewer_1754334491084904.setBackgroundColor(\"0xeeeeee\");\n",
       "\tviewer_1754334491084904.zoomTo();\n",
       "\tviewer_1754334491084904.addLabel(0,{\"backgroundOpacity\": 0.0, \"fontColor\": \"black\", \"alignment\": \"center\", \"inFront\": true},{\"index\": 0});\n",
       "\tviewer_1754334491084904.addLabel(1,{\"backgroundOpacity\": 0.0, \"fontColor\": \"black\", \"alignment\": \"center\", \"inFront\": true},{\"index\": 1});\n",
       "\tviewer_1754334491084904.addLabel(2,{\"backgroundOpacity\": 0.0, \"fontColor\": \"black\", \"alignment\": \"center\", \"inFront\": true},{\"index\": 2});\n",
       "\tviewer_1754334491084904.addLabel(3,{\"backgroundOpacity\": 0.0, \"fontColor\": \"black\", \"alignment\": \"center\", \"inFront\": true},{\"index\": 3});\n",
       "\tviewer_1754334491084904.addLabel(4,{\"backgroundOpacity\": 0.0, \"fontColor\": \"black\", \"alignment\": \"center\", \"inFront\": true},{\"index\": 4});\n",
       "\tviewer_1754334491084904.addLabel(5,{\"backgroundOpacity\": 0.0, \"fontColor\": \"black\", \"alignment\": \"center\", \"inFront\": true},{\"index\": 5});\n",
       "\tviewer_1754334491084904.addLabel(6,{\"backgroundOpacity\": 0.0, \"fontColor\": \"black\", \"alignment\": \"center\", \"inFront\": true},{\"index\": 6});\n",
       "\tviewer_1754334491084904.addLabel(7,{\"backgroundOpacity\": 0.0, \"fontColor\": \"black\", \"alignment\": \"center\", \"inFront\": true},{\"index\": 7});\n",
       "\tviewer_1754334491084904.addLabel(8,{\"backgroundOpacity\": 0.0, \"fontColor\": \"black\", \"alignment\": \"center\", \"inFront\": true},{\"index\": 8});\n",
       "\tviewer_1754334491084904.addLabel(9,{\"backgroundOpacity\": 0.0, \"fontColor\": \"black\", \"alignment\": \"center\", \"inFront\": true},{\"index\": 9});\n",
       "\tviewer_1754334491084904.addLabel(10,{\"backgroundOpacity\": 0.0, \"fontColor\": \"black\", \"alignment\": \"center\", \"inFront\": true},{\"index\": 10});\n",
       "viewer_1754334491084904.render();\n",
       "});\n",
       "</script>"
      ]
     },
     "metadata": {},
     "output_type": "display_data"
    }
   ],
   "source": [
    "c3oh_xyz_file = Path(\"C3e1+OH.xyz\")\n",
    "c3oh_geo = automol.geom.from_xyz_string(c3oh_xyz_file.read_text())\n",
    "automol.geom.display(c3oh_geo, label=True)"
   ]
  },
  {
   "cell_type": "code",
   "execution_count": 4,
   "id": "0bbf733e",
   "metadata": {},
   "outputs": [
    {
     "data": {
      "application/3dmoljs_load.v0": "<div id=\"3dmolviewer_17543344911313791\"  style=\"position: relative; width: 400px; height: 400px;\">\n        <p id=\"3dmolwarning_17543344911313791\" style=\"background-color:#ffcccc;color:black\">3Dmol.js failed to load for some reason.  Please check your browser console for error messages.<br></p>\n        </div>\n<script>\n\nvar loadScriptAsync = function(uri){\n  return new Promise((resolve, reject) => {\n    //this is to ignore the existence of requirejs amd\n    var savedexports, savedmodule;\n    if (typeof exports !== 'undefined') savedexports = exports;\n    else exports = {}\n    if (typeof module !== 'undefined') savedmodule = module;\n    else module = {}\n\n    var tag = document.createElement('script');\n    tag.src = uri;\n    tag.async = true;\n    tag.onload = () => {\n        exports = savedexports;\n        module = savedmodule;\n        resolve();\n    };\n  var firstScriptTag = document.getElementsByTagName('script')[0];\n  firstScriptTag.parentNode.insertBefore(tag, firstScriptTag);\n});\n};\n\nif(typeof $3Dmolpromise === 'undefined') {\n$3Dmolpromise = null;\n  $3Dmolpromise = loadScriptAsync('https://cdn.jsdelivr.net/npm/3dmol@2.5.2/build/3Dmol-min.js');\n}\n\nvar viewer_17543344911313791 = null;\nvar warn = document.getElementById(\"3dmolwarning_17543344911313791\");\nif(warn) {\n    warn.parentNode.removeChild(warn);\n}\n$3Dmolpromise.then(function() {\nviewer_17543344911313791 = $3Dmol.createViewer(document.getElementById(\"3dmolviewer_17543344911313791\"),{backgroundColor:\"white\"});\nviewer_17543344911313791.zoomTo();\n\tviewer_17543344911313791.addModel(\"\\n  automech\\n\\n  0  0  0  0  0  0  0  0  0  0999 V3000\\nM  V30 BEGIN CTAB\\nM  V30 COUNTS 15 14 0 0 0\\nM  V30 BEGIN ATOM\\nM  V30 1 C 1.891 1.386 -0.000 RAD=1 VAL=4\\nM  V30 2 C 0.668 2.241 0.330 RAD=1 VAL=4\\nM  V30 3 C -0.554 1.386 -0.000 RAD=1 VAL=4\\nM  V30 4 C 0.000 0.000 0.000 RAD=2 VAL=3\\nM  V30 5 C 1.337 -0.000 -0.000 RAD=2 VAL=3\\nM  V30 6 H 2.301 1.631 -0.985 RAD=1 VAL=1\\nM  V30 7 H 2.675 1.511 0.752 RAD=1 VAL=1\\nM  V30 8 H 0.668 3.189 -0.218 RAD=1 VAL=1\\nM  V30 9 H 0.668 2.488 1.400 RAD=1 VAL=1\\nM  V30 10 H -1.338 1.511 0.752 RAD=1 VAL=1\\nM  V30 11 H -0.964 1.631 -0.985 RAD=1 VAL=1\\nM  V30 12 H -0.615 -0.889 -0.028 RAD=1 VAL=1\\nM  V30 13 H 1.952 -0.889 -0.028 RAD=1 VAL=1\\nM  V30 14 O 0.984 0.162 3.303 RAD=2 VAL=1\\nM  V30 15 H 0.686 0.100 2.372 RAD=1 VAL=1\\nM  V30 END ATOM\\nM  V30 BEGIN BOND\\nM  V30 1 1 4 5 CFG=0\\nM  V30 2 1 2 8 CFG=0\\nM  V30 3 1 1 7 CFG=0\\nM  V30 4 1 3 4 CFG=0\\nM  V30 5 1 2 3 CFG=0\\nM  V30 6 1 3 11 CFG=0\\nM  V30 7 1 1 2 CFG=0\\nM  V30 8 1 14 15 CFG=0\\nM  V30 9 1 5 13 CFG=0\\nM  V30 10 1 1 5 CFG=0\\nM  V30 11 1 1 6 CFG=0\\nM  V30 12 1 2 9 CFG=0\\nM  V30 13 1 4 12 CFG=0\\nM  V30 14 1 3 10 CFG=0\\nM  V30 END BOND\\nM  V30 END CTAB\\nM  END\\n\",\"sdf\");\n\tviewer_17543344911313791.setStyle({\"stick\": {}, \"sphere\": {\"radius\": 0.3}});\n\tviewer_17543344911313791.setBackgroundColor(\"0xeeeeee\");\n\tviewer_17543344911313791.zoomTo();\n\tviewer_17543344911313791.addLabel(0,{\"backgroundOpacity\": 0.0, \"fontColor\": \"black\", \"alignment\": \"center\", \"inFront\": true},{\"index\": 0});\n\tviewer_17543344911313791.addLabel(1,{\"backgroundOpacity\": 0.0, \"fontColor\": \"black\", \"alignment\": \"center\", \"inFront\": true},{\"index\": 1});\n\tviewer_17543344911313791.addLabel(2,{\"backgroundOpacity\": 0.0, \"fontColor\": \"black\", \"alignment\": \"center\", \"inFront\": true},{\"index\": 2});\n\tviewer_17543344911313791.addLabel(3,{\"backgroundOpacity\": 0.0, \"fontColor\": \"black\", \"alignment\": \"center\", \"inFront\": true},{\"index\": 3});\n\tviewer_17543344911313791.addLabel(4,{\"backgroundOpacity\": 0.0, \"fontColor\": \"black\", \"alignment\": \"center\", \"inFront\": true},{\"index\": 4});\n\tviewer_17543344911313791.addLabel(5,{\"backgroundOpacity\": 0.0, \"fontColor\": \"black\", \"alignment\": \"center\", \"inFront\": true},{\"index\": 5});\n\tviewer_17543344911313791.addLabel(6,{\"backgroundOpacity\": 0.0, \"fontColor\": \"black\", \"alignment\": \"center\", \"inFront\": true},{\"index\": 6});\n\tviewer_17543344911313791.addLabel(7,{\"backgroundOpacity\": 0.0, \"fontColor\": \"black\", \"alignment\": \"center\", \"inFront\": true},{\"index\": 7});\n\tviewer_17543344911313791.addLabel(8,{\"backgroundOpacity\": 0.0, \"fontColor\": \"black\", \"alignment\": \"center\", \"inFront\": true},{\"index\": 8});\n\tviewer_17543344911313791.addLabel(9,{\"backgroundOpacity\": 0.0, \"fontColor\": \"black\", \"alignment\": \"center\", \"inFront\": true},{\"index\": 9});\n\tviewer_17543344911313791.addLabel(10,{\"backgroundOpacity\": 0.0, \"fontColor\": \"black\", \"alignment\": \"center\", \"inFront\": true},{\"index\": 10});\n\tviewer_17543344911313791.addLabel(11,{\"backgroundOpacity\": 0.0, \"fontColor\": \"black\", \"alignment\": \"center\", \"inFront\": true},{\"index\": 11});\n\tviewer_17543344911313791.addLabel(12,{\"backgroundOpacity\": 0.0, \"fontColor\": \"black\", \"alignment\": \"center\", \"inFront\": true},{\"index\": 12});\n\tviewer_17543344911313791.addLabel(13,{\"backgroundOpacity\": 0.0, \"fontColor\": \"black\", \"alignment\": \"center\", \"inFront\": true},{\"index\": 13});\n\tviewer_17543344911313791.addLabel(14,{\"backgroundOpacity\": 0.0, \"fontColor\": \"black\", \"alignment\": \"center\", \"inFront\": true},{\"index\": 14});\nviewer_17543344911313791.render();\n});\n</script>",
      "text/html": [
       "<div id=\"3dmolviewer_17543344911313791\"  style=\"position: relative; width: 400px; height: 400px;\">\n",
       "        <p id=\"3dmolwarning_17543344911313791\" style=\"background-color:#ffcccc;color:black\">3Dmol.js failed to load for some reason.  Please check your browser console for error messages.<br></p>\n",
       "        </div>\n",
       "<script>\n",
       "\n",
       "var loadScriptAsync = function(uri){\n",
       "  return new Promise((resolve, reject) => {\n",
       "    //this is to ignore the existence of requirejs amd\n",
       "    var savedexports, savedmodule;\n",
       "    if (typeof exports !== 'undefined') savedexports = exports;\n",
       "    else exports = {}\n",
       "    if (typeof module !== 'undefined') savedmodule = module;\n",
       "    else module = {}\n",
       "\n",
       "    var tag = document.createElement('script');\n",
       "    tag.src = uri;\n",
       "    tag.async = true;\n",
       "    tag.onload = () => {\n",
       "        exports = savedexports;\n",
       "        module = savedmodule;\n",
       "        resolve();\n",
       "    };\n",
       "  var firstScriptTag = document.getElementsByTagName('script')[0];\n",
       "  firstScriptTag.parentNode.insertBefore(tag, firstScriptTag);\n",
       "});\n",
       "};\n",
       "\n",
       "if(typeof $3Dmolpromise === 'undefined') {\n",
       "$3Dmolpromise = null;\n",
       "  $3Dmolpromise = loadScriptAsync('https://cdn.jsdelivr.net/npm/3dmol@2.5.2/build/3Dmol-min.js');\n",
       "}\n",
       "\n",
       "var viewer_17543344911313791 = null;\n",
       "var warn = document.getElementById(\"3dmolwarning_17543344911313791\");\n",
       "if(warn) {\n",
       "    warn.parentNode.removeChild(warn);\n",
       "}\n",
       "$3Dmolpromise.then(function() {\n",
       "viewer_17543344911313791 = $3Dmol.createViewer(document.getElementById(\"3dmolviewer_17543344911313791\"),{backgroundColor:\"white\"});\n",
       "viewer_17543344911313791.zoomTo();\n",
       "\tviewer_17543344911313791.addModel(\"\\n  automech\\n\\n  0  0  0  0  0  0  0  0  0  0999 V3000\\nM  V30 BEGIN CTAB\\nM  V30 COUNTS 15 14 0 0 0\\nM  V30 BEGIN ATOM\\nM  V30 1 C 1.891 1.386 -0.000 RAD=1 VAL=4\\nM  V30 2 C 0.668 2.241 0.330 RAD=1 VAL=4\\nM  V30 3 C -0.554 1.386 -0.000 RAD=1 VAL=4\\nM  V30 4 C 0.000 0.000 0.000 RAD=2 VAL=3\\nM  V30 5 C 1.337 -0.000 -0.000 RAD=2 VAL=3\\nM  V30 6 H 2.301 1.631 -0.985 RAD=1 VAL=1\\nM  V30 7 H 2.675 1.511 0.752 RAD=1 VAL=1\\nM  V30 8 H 0.668 3.189 -0.218 RAD=1 VAL=1\\nM  V30 9 H 0.668 2.488 1.400 RAD=1 VAL=1\\nM  V30 10 H -1.338 1.511 0.752 RAD=1 VAL=1\\nM  V30 11 H -0.964 1.631 -0.985 RAD=1 VAL=1\\nM  V30 12 H -0.615 -0.889 -0.028 RAD=1 VAL=1\\nM  V30 13 H 1.952 -0.889 -0.028 RAD=1 VAL=1\\nM  V30 14 O 0.984 0.162 3.303 RAD=2 VAL=1\\nM  V30 15 H 0.686 0.100 2.372 RAD=1 VAL=1\\nM  V30 END ATOM\\nM  V30 BEGIN BOND\\nM  V30 1 1 4 5 CFG=0\\nM  V30 2 1 2 8 CFG=0\\nM  V30 3 1 1 7 CFG=0\\nM  V30 4 1 3 4 CFG=0\\nM  V30 5 1 2 3 CFG=0\\nM  V30 6 1 3 11 CFG=0\\nM  V30 7 1 1 2 CFG=0\\nM  V30 8 1 14 15 CFG=0\\nM  V30 9 1 5 13 CFG=0\\nM  V30 10 1 1 5 CFG=0\\nM  V30 11 1 1 6 CFG=0\\nM  V30 12 1 2 9 CFG=0\\nM  V30 13 1 4 12 CFG=0\\nM  V30 14 1 3 10 CFG=0\\nM  V30 END BOND\\nM  V30 END CTAB\\nM  END\\n\",\"sdf\");\n",
       "\tviewer_17543344911313791.setStyle({\"stick\": {}, \"sphere\": {\"radius\": 0.3}});\n",
       "\tviewer_17543344911313791.setBackgroundColor(\"0xeeeeee\");\n",
       "\tviewer_17543344911313791.zoomTo();\n",
       "\tviewer_17543344911313791.addLabel(0,{\"backgroundOpacity\": 0.0, \"fontColor\": \"black\", \"alignment\": \"center\", \"inFront\": true},{\"index\": 0});\n",
       "\tviewer_17543344911313791.addLabel(1,{\"backgroundOpacity\": 0.0, \"fontColor\": \"black\", \"alignment\": \"center\", \"inFront\": true},{\"index\": 1});\n",
       "\tviewer_17543344911313791.addLabel(2,{\"backgroundOpacity\": 0.0, \"fontColor\": \"black\", \"alignment\": \"center\", \"inFront\": true},{\"index\": 2});\n",
       "\tviewer_17543344911313791.addLabel(3,{\"backgroundOpacity\": 0.0, \"fontColor\": \"black\", \"alignment\": \"center\", \"inFront\": true},{\"index\": 3});\n",
       "\tviewer_17543344911313791.addLabel(4,{\"backgroundOpacity\": 0.0, \"fontColor\": \"black\", \"alignment\": \"center\", \"inFront\": true},{\"index\": 4});\n",
       "\tviewer_17543344911313791.addLabel(5,{\"backgroundOpacity\": 0.0, \"fontColor\": \"black\", \"alignment\": \"center\", \"inFront\": true},{\"index\": 5});\n",
       "\tviewer_17543344911313791.addLabel(6,{\"backgroundOpacity\": 0.0, \"fontColor\": \"black\", \"alignment\": \"center\", \"inFront\": true},{\"index\": 6});\n",
       "\tviewer_17543344911313791.addLabel(7,{\"backgroundOpacity\": 0.0, \"fontColor\": \"black\", \"alignment\": \"center\", \"inFront\": true},{\"index\": 7});\n",
       "\tviewer_17543344911313791.addLabel(8,{\"backgroundOpacity\": 0.0, \"fontColor\": \"black\", \"alignment\": \"center\", \"inFront\": true},{\"index\": 8});\n",
       "\tviewer_17543344911313791.addLabel(9,{\"backgroundOpacity\": 0.0, \"fontColor\": \"black\", \"alignment\": \"center\", \"inFront\": true},{\"index\": 9});\n",
       "\tviewer_17543344911313791.addLabel(10,{\"backgroundOpacity\": 0.0, \"fontColor\": \"black\", \"alignment\": \"center\", \"inFront\": true},{\"index\": 10});\n",
       "\tviewer_17543344911313791.addLabel(11,{\"backgroundOpacity\": 0.0, \"fontColor\": \"black\", \"alignment\": \"center\", \"inFront\": true},{\"index\": 11});\n",
       "\tviewer_17543344911313791.addLabel(12,{\"backgroundOpacity\": 0.0, \"fontColor\": \"black\", \"alignment\": \"center\", \"inFront\": true},{\"index\": 12});\n",
       "\tviewer_17543344911313791.addLabel(13,{\"backgroundOpacity\": 0.0, \"fontColor\": \"black\", \"alignment\": \"center\", \"inFront\": true},{\"index\": 13});\n",
       "\tviewer_17543344911313791.addLabel(14,{\"backgroundOpacity\": 0.0, \"fontColor\": \"black\", \"alignment\": \"center\", \"inFront\": true},{\"index\": 14});\n",
       "viewer_17543344911313791.render();\n",
       "});\n",
       "</script>"
      ]
     },
     "metadata": {},
     "output_type": "display_data"
    }
   ],
   "source": [
    "c5_geo = automol.geom.align_to_atoms(c5_geo, idxs=(3, 4, 0), oop_idxs=(0, 6))\n",
    "c3oh_geo = automol.geom.align_to_atoms(c3oh_geo, idxs=(0, 1, 4), oop_idxs=(4, 7))\n",
    "oh_geo = automol.geom.subgeom(c3oh_geo, idxs=(9, 10))\n",
    "c5oh_geo = c5_geo + oh_geo\n",
    "automol.geom.display(c5oh_geo, label=True)"
   ]
  },
  {
   "cell_type": "code",
   "execution_count": 5,
   "id": "ebfd6bc0",
   "metadata": {},
   "outputs": [
    {
     "data": {
      "text/plain": [
       "544"
      ]
     },
     "execution_count": 5,
     "metadata": {},
     "output_type": "execute_result"
    }
   ],
   "source": [
    "c5oh_xyz_file = Path(\"guess.xyz\")\n",
    "c5oh_xyz_file.write_text(automol.geom.xyz_string(c5oh_geo))"
   ]
  },
  {
   "cell_type": "code",
   "execution_count": null,
   "id": "2623d0f5",
   "metadata": {},
   "outputs": [],
   "source": []
  }
 ],
 "metadata": {
  "kernelspec": {
   "display_name": "dev",
   "language": "python",
   "name": "python3"
  },
  "language_info": {
   "codemirror_mode": {
    "name": "ipython",
    "version": 3
   },
   "file_extension": ".py",
   "mimetype": "text/x-python",
   "name": "python",
   "nbconvert_exporter": "python",
   "pygments_lexer": "ipython3",
   "version": "3.11.13"
  }
 },
 "nbformat": 4,
 "nbformat_minor": 5
}
