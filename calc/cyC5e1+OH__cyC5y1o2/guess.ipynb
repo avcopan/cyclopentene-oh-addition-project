{
 "cells": [
  {
   "cell_type": "code",
   "execution_count": 1,
   "id": "e8c17bb8",
   "metadata": {},
   "outputs": [],
   "source": [
    "from pathlib import Path\n",
    "\n",
    "import automol"
   ]
  },
  {
   "cell_type": "code",
   "execution_count": 2,
   "id": "8244ca20",
   "metadata": {},
   "outputs": [
    {
     "data": {
      "application/3dmoljs_load.v0": "<div id=\"3dmolviewer_17557237261458387\"  style=\"position: relative; width: 400px; height: 400px;\">\n        <p id=\"3dmolwarning_17557237261458387\" style=\"background-color:#ffcccc;color:black\">3Dmol.js failed to load for some reason.  Please check your browser console for error messages.<br></p>\n        </div>\n<script>\n\nvar loadScriptAsync = function(uri){\n  return new Promise((resolve, reject) => {\n    //this is to ignore the existence of requirejs amd\n    var savedexports, savedmodule;\n    if (typeof exports !== 'undefined') savedexports = exports;\n    else exports = {}\n    if (typeof module !== 'undefined') savedmodule = module;\n    else module = {}\n\n    var tag = document.createElement('script');\n    tag.src = uri;\n    tag.async = true;\n    tag.onload = () => {\n        exports = savedexports;\n        module = savedmodule;\n        resolve();\n    };\n  var firstScriptTag = document.getElementsByTagName('script')[0];\n  firstScriptTag.parentNode.insertBefore(tag, firstScriptTag);\n});\n};\n\nif(typeof $3Dmolpromise === 'undefined') {\n$3Dmolpromise = null;\n  $3Dmolpromise = loadScriptAsync('https://cdn.jsdelivr.net/npm/3dmol@2.5.2/build/3Dmol-min.js');\n}\n\nvar viewer_17557237261458387 = null;\nvar warn = document.getElementById(\"3dmolwarning_17557237261458387\");\nif(warn) {\n    warn.parentNode.removeChild(warn);\n}\n$3Dmolpromise.then(function() {\nviewer_17557237261458387 = $3Dmol.createViewer(document.getElementById(\"3dmolviewer_17557237261458387\"),{backgroundColor:\"white\"});\nviewer_17557237261458387.zoomTo();\n\tviewer_17557237261458387.addModel(\"\\n  automech\\n\\n  0  0  0  0  0  0  0  0  0  0999 V3000\\nM  V30 BEGIN CTAB\\nM  V30 COUNTS 13 13 0 0 0\\nM  V30 BEGIN ATOM\\nM  V30 1 C 1.900 1.394 -0.007 RAD=1 VAL=4\\nM  V30 2 C 0.671 2.263 0.343 RAD=1 VAL=4\\nM  V30 3 C -0.560 1.392 0.009 RAD=1 VAL=4\\nM  V30 4 C 0.002 -0.009 0.028 RAD=2 VAL=3\\nM  V30 5 C 1.340 -0.008 0.018 RAD=2 VAL=3\\nM  V30 6 H 2.291 1.620 -1.005 RAD=1 VAL=1\\nM  V30 7 H 2.723 1.536 0.696 RAD=1 VAL=1\\nM  V30 8 H 0.667 3.218 -0.183 RAD=1 VAL=1\\nM  V30 9 H 0.681 2.474 1.414 RAD=1 VAL=1\\nM  V30 10 H -1.378 1.534 0.720 RAD=1 VAL=1\\nM  V30 11 H -0.963 1.616 -0.985 RAD=1 VAL=1\\nM  V30 12 H -0.616 -0.898 -0.003 RAD=1 VAL=1\\nM  V30 13 H 1.958 -0.896 -0.024 RAD=1 VAL=1\\nM  V30 END ATOM\\nM  V30 BEGIN BOND\\nM  V30 1 1 4 5 CFG=0\\nM  V30 2 1 2 8 CFG=0\\nM  V30 3 1 1 7 CFG=0\\nM  V30 4 1 3 4 CFG=0\\nM  V30 5 1 2 3 CFG=0\\nM  V30 6 1 3 11 CFG=0\\nM  V30 7 1 1 2 CFG=0\\nM  V30 8 1 5 13 CFG=0\\nM  V30 9 1 1 5 CFG=0\\nM  V30 10 1 1 6 CFG=0\\nM  V30 11 1 2 9 CFG=0\\nM  V30 12 1 4 12 CFG=0\\nM  V30 13 1 3 10 CFG=0\\nM  V30 END BOND\\nM  V30 END CTAB\\nM  END\\n\",\"sdf\");\n\tviewer_17557237261458387.setStyle({\"stick\": {}, \"sphere\": {\"radius\": 0.3}});\n\tviewer_17557237261458387.setBackgroundColor(\"0xeeeeee\");\n\tviewer_17557237261458387.zoomTo();\n\tviewer_17557237261458387.addLabel(0,{\"backgroundOpacity\": 0.0, \"fontColor\": \"black\", \"alignment\": \"center\", \"inFront\": true},{\"index\": 0});\n\tviewer_17557237261458387.addLabel(1,{\"backgroundOpacity\": 0.0, \"fontColor\": \"black\", \"alignment\": \"center\", \"inFront\": true},{\"index\": 1});\n\tviewer_17557237261458387.addLabel(2,{\"backgroundOpacity\": 0.0, \"fontColor\": \"black\", \"alignment\": \"center\", \"inFront\": true},{\"index\": 2});\n\tviewer_17557237261458387.addLabel(3,{\"backgroundOpacity\": 0.0, \"fontColor\": \"black\", \"alignment\": \"center\", \"inFront\": true},{\"index\": 3});\n\tviewer_17557237261458387.addLabel(4,{\"backgroundOpacity\": 0.0, \"fontColor\": \"black\", \"alignment\": \"center\", \"inFront\": true},{\"index\": 4});\n\tviewer_17557237261458387.addLabel(5,{\"backgroundOpacity\": 0.0, \"fontColor\": \"black\", \"alignment\": \"center\", \"inFront\": true},{\"index\": 5});\n\tviewer_17557237261458387.addLabel(6,{\"backgroundOpacity\": 0.0, \"fontColor\": \"black\", \"alignment\": \"center\", \"inFront\": true},{\"index\": 6});\n\tviewer_17557237261458387.addLabel(7,{\"backgroundOpacity\": 0.0, \"fontColor\": \"black\", \"alignment\": \"center\", \"inFront\": true},{\"index\": 7});\n\tviewer_17557237261458387.addLabel(8,{\"backgroundOpacity\": 0.0, \"fontColor\": \"black\", \"alignment\": \"center\", \"inFront\": true},{\"index\": 8});\n\tviewer_17557237261458387.addLabel(9,{\"backgroundOpacity\": 0.0, \"fontColor\": \"black\", \"alignment\": \"center\", \"inFront\": true},{\"index\": 9});\n\tviewer_17557237261458387.addLabel(10,{\"backgroundOpacity\": 0.0, \"fontColor\": \"black\", \"alignment\": \"center\", \"inFront\": true},{\"index\": 10});\n\tviewer_17557237261458387.addLabel(11,{\"backgroundOpacity\": 0.0, \"fontColor\": \"black\", \"alignment\": \"center\", \"inFront\": true},{\"index\": 11});\n\tviewer_17557237261458387.addLabel(12,{\"backgroundOpacity\": 0.0, \"fontColor\": \"black\", \"alignment\": \"center\", \"inFront\": true},{\"index\": 12});\nviewer_17557237261458387.render();\n});\n</script>",
      "text/html": [
       "<div id=\"3dmolviewer_17557237261458387\"  style=\"position: relative; width: 400px; height: 400px;\">\n",
       "        <p id=\"3dmolwarning_17557237261458387\" style=\"background-color:#ffcccc;color:black\">3Dmol.js failed to load for some reason.  Please check your browser console for error messages.<br></p>\n",
       "        </div>\n",
       "<script>\n",
       "\n",
       "var loadScriptAsync = function(uri){\n",
       "  return new Promise((resolve, reject) => {\n",
       "    //this is to ignore the existence of requirejs amd\n",
       "    var savedexports, savedmodule;\n",
       "    if (typeof exports !== 'undefined') savedexports = exports;\n",
       "    else exports = {}\n",
       "    if (typeof module !== 'undefined') savedmodule = module;\n",
       "    else module = {}\n",
       "\n",
       "    var tag = document.createElement('script');\n",
       "    tag.src = uri;\n",
       "    tag.async = true;\n",
       "    tag.onload = () => {\n",
       "        exports = savedexports;\n",
       "        module = savedmodule;\n",
       "        resolve();\n",
       "    };\n",
       "  var firstScriptTag = document.getElementsByTagName('script')[0];\n",
       "  firstScriptTag.parentNode.insertBefore(tag, firstScriptTag);\n",
       "});\n",
       "};\n",
       "\n",
       "if(typeof $3Dmolpromise === 'undefined') {\n",
       "$3Dmolpromise = null;\n",
       "  $3Dmolpromise = loadScriptAsync('https://cdn.jsdelivr.net/npm/3dmol@2.5.2/build/3Dmol-min.js');\n",
       "}\n",
       "\n",
       "var viewer_17557237261458387 = null;\n",
       "var warn = document.getElementById(\"3dmolwarning_17557237261458387\");\n",
       "if(warn) {\n",
       "    warn.parentNode.removeChild(warn);\n",
       "}\n",
       "$3Dmolpromise.then(function() {\n",
       "viewer_17557237261458387 = $3Dmol.createViewer(document.getElementById(\"3dmolviewer_17557237261458387\"),{backgroundColor:\"white\"});\n",
       "viewer_17557237261458387.zoomTo();\n",
       "\tviewer_17557237261458387.addModel(\"\\n  automech\\n\\n  0  0  0  0  0  0  0  0  0  0999 V3000\\nM  V30 BEGIN CTAB\\nM  V30 COUNTS 13 13 0 0 0\\nM  V30 BEGIN ATOM\\nM  V30 1 C 1.900 1.394 -0.007 RAD=1 VAL=4\\nM  V30 2 C 0.671 2.263 0.343 RAD=1 VAL=4\\nM  V30 3 C -0.560 1.392 0.009 RAD=1 VAL=4\\nM  V30 4 C 0.002 -0.009 0.028 RAD=2 VAL=3\\nM  V30 5 C 1.340 -0.008 0.018 RAD=2 VAL=3\\nM  V30 6 H 2.291 1.620 -1.005 RAD=1 VAL=1\\nM  V30 7 H 2.723 1.536 0.696 RAD=1 VAL=1\\nM  V30 8 H 0.667 3.218 -0.183 RAD=1 VAL=1\\nM  V30 9 H 0.681 2.474 1.414 RAD=1 VAL=1\\nM  V30 10 H -1.378 1.534 0.720 RAD=1 VAL=1\\nM  V30 11 H -0.963 1.616 -0.985 RAD=1 VAL=1\\nM  V30 12 H -0.616 -0.898 -0.003 RAD=1 VAL=1\\nM  V30 13 H 1.958 -0.896 -0.024 RAD=1 VAL=1\\nM  V30 END ATOM\\nM  V30 BEGIN BOND\\nM  V30 1 1 4 5 CFG=0\\nM  V30 2 1 2 8 CFG=0\\nM  V30 3 1 1 7 CFG=0\\nM  V30 4 1 3 4 CFG=0\\nM  V30 5 1 2 3 CFG=0\\nM  V30 6 1 3 11 CFG=0\\nM  V30 7 1 1 2 CFG=0\\nM  V30 8 1 5 13 CFG=0\\nM  V30 9 1 1 5 CFG=0\\nM  V30 10 1 1 6 CFG=0\\nM  V30 11 1 2 9 CFG=0\\nM  V30 12 1 4 12 CFG=0\\nM  V30 13 1 3 10 CFG=0\\nM  V30 END BOND\\nM  V30 END CTAB\\nM  END\\n\",\"sdf\");\n",
       "\tviewer_17557237261458387.setStyle({\"stick\": {}, \"sphere\": {\"radius\": 0.3}});\n",
       "\tviewer_17557237261458387.setBackgroundColor(\"0xeeeeee\");\n",
       "\tviewer_17557237261458387.zoomTo();\n",
       "\tviewer_17557237261458387.addLabel(0,{\"backgroundOpacity\": 0.0, \"fontColor\": \"black\", \"alignment\": \"center\", \"inFront\": true},{\"index\": 0});\n",
       "\tviewer_17557237261458387.addLabel(1,{\"backgroundOpacity\": 0.0, \"fontColor\": \"black\", \"alignment\": \"center\", \"inFront\": true},{\"index\": 1});\n",
       "\tviewer_17557237261458387.addLabel(2,{\"backgroundOpacity\": 0.0, \"fontColor\": \"black\", \"alignment\": \"center\", \"inFront\": true},{\"index\": 2});\n",
       "\tviewer_17557237261458387.addLabel(3,{\"backgroundOpacity\": 0.0, \"fontColor\": \"black\", \"alignment\": \"center\", \"inFront\": true},{\"index\": 3});\n",
       "\tviewer_17557237261458387.addLabel(4,{\"backgroundOpacity\": 0.0, \"fontColor\": \"black\", \"alignment\": \"center\", \"inFront\": true},{\"index\": 4});\n",
       "\tviewer_17557237261458387.addLabel(5,{\"backgroundOpacity\": 0.0, \"fontColor\": \"black\", \"alignment\": \"center\", \"inFront\": true},{\"index\": 5});\n",
       "\tviewer_17557237261458387.addLabel(6,{\"backgroundOpacity\": 0.0, \"fontColor\": \"black\", \"alignment\": \"center\", \"inFront\": true},{\"index\": 6});\n",
       "\tviewer_17557237261458387.addLabel(7,{\"backgroundOpacity\": 0.0, \"fontColor\": \"black\", \"alignment\": \"center\", \"inFront\": true},{\"index\": 7});\n",
       "\tviewer_17557237261458387.addLabel(8,{\"backgroundOpacity\": 0.0, \"fontColor\": \"black\", \"alignment\": \"center\", \"inFront\": true},{\"index\": 8});\n",
       "\tviewer_17557237261458387.addLabel(9,{\"backgroundOpacity\": 0.0, \"fontColor\": \"black\", \"alignment\": \"center\", \"inFront\": true},{\"index\": 9});\n",
       "\tviewer_17557237261458387.addLabel(10,{\"backgroundOpacity\": 0.0, \"fontColor\": \"black\", \"alignment\": \"center\", \"inFront\": true},{\"index\": 10});\n",
       "\tviewer_17557237261458387.addLabel(11,{\"backgroundOpacity\": 0.0, \"fontColor\": \"black\", \"alignment\": \"center\", \"inFront\": true},{\"index\": 11});\n",
       "\tviewer_17557237261458387.addLabel(12,{\"backgroundOpacity\": 0.0, \"fontColor\": \"black\", \"alignment\": \"center\", \"inFront\": true},{\"index\": 12});\n",
       "viewer_17557237261458387.render();\n",
       "});\n",
       "</script>"
      ]
     },
     "metadata": {},
     "output_type": "display_data"
    }
   ],
   "source": [
    "c5_geo_path = Path(\"cyC5.xyz\")\n",
    "c5_geo = automol.geom.from_xyz_string(c5_geo_path.read_text())\n",
    "automol.geom.display(c5_geo, label=True)"
   ]
  },
  {
   "cell_type": "code",
   "execution_count": 3,
   "id": "1176f2db",
   "metadata": {},
   "outputs": [
    {
     "data": {
      "application/3dmoljs_load.v0": "<div id=\"3dmolviewer_1755723726181841\"  style=\"position: relative; width: 400px; height: 400px;\">\n        <p id=\"3dmolwarning_1755723726181841\" style=\"background-color:#ffcccc;color:black\">3Dmol.js failed to load for some reason.  Please check your browser console for error messages.<br></p>\n        </div>\n<script>\n\nvar loadScriptAsync = function(uri){\n  return new Promise((resolve, reject) => {\n    //this is to ignore the existence of requirejs amd\n    var savedexports, savedmodule;\n    if (typeof exports !== 'undefined') savedexports = exports;\n    else exports = {}\n    if (typeof module !== 'undefined') savedmodule = module;\n    else module = {}\n\n    var tag = document.createElement('script');\n    tag.src = uri;\n    tag.async = true;\n    tag.onload = () => {\n        exports = savedexports;\n        module = savedmodule;\n        resolve();\n    };\n  var firstScriptTag = document.getElementsByTagName('script')[0];\n  firstScriptTag.parentNode.insertBefore(tag, firstScriptTag);\n});\n};\n\nif(typeof $3Dmolpromise === 'undefined') {\n$3Dmolpromise = null;\n  $3Dmolpromise = loadScriptAsync('https://cdn.jsdelivr.net/npm/3dmol@2.5.2/build/3Dmol-min.js');\n}\n\nvar viewer_1755723726181841 = null;\nvar warn = document.getElementById(\"3dmolwarning_1755723726181841\");\nif(warn) {\n    warn.parentNode.removeChild(warn);\n}\n$3Dmolpromise.then(function() {\nviewer_1755723726181841 = $3Dmol.createViewer(document.getElementById(\"3dmolviewer_1755723726181841\"),{backgroundColor:\"white\"});\nviewer_1755723726181841.zoomTo();\n\tviewer_1755723726181841.addModel(\"\\n  automech\\n\\n  0  0  0  0  0  0  0  0  0  0999 V3000\\nM  V30 BEGIN CTAB\\nM  V30 COUNTS 11 9 0 0 0\\nM  V30 BEGIN ATOM\\nM  V30 1 C 0.020 -0.062 -0.028 RAD=2 VAL=3\\nM  V30 2 H -0.058 0.126 1.036 RAD=1 VAL=1\\nM  V30 3 C 1.241 -0.025 -0.598 RAD=2 VAL=3\\nM  V30 4 H 2.136 0.076 -0.000 RAD=1 VAL=1\\nM  V30 5 H 1.358 -0.134 -1.670 RAD=1 VAL=1\\nM  V30 6 C -1.263 -0.084 -0.799 RAD=1 VAL=4\\nM  V30 7 H -1.093 -0.362 -1.840 RAD=1 VAL=1\\nM  V30 8 H -1.963 -0.789 -0.354 RAD=1 VAL=1\\nM  V30 9 H -1.724 0.908 -0.780 RAD=1 VAL=1\\nM  V30 10 O 0.255 -2.098 0.465 RAD=2 VAL=1\\nM  V30 11 H 0.675 -2.435 -0.339 RAD=1 VAL=1\\nM  V30 END ATOM\\nM  V30 BEGIN BOND\\nM  V30 1 1 3 4 CFG=0\\nM  V30 2 1 10 11 CFG=0\\nM  V30 3 1 1 2 CFG=0\\nM  V30 4 1 1 3 CFG=0\\nM  V30 5 1 1 6 CFG=0\\nM  V30 6 1 3 5 CFG=0\\nM  V30 7 1 6 7 CFG=0\\nM  V30 8 1 6 9 CFG=0\\nM  V30 9 1 6 8 CFG=0\\nM  V30 END BOND\\nM  V30 END CTAB\\nM  END\\n\",\"sdf\");\n\tviewer_1755723726181841.setStyle({\"stick\": {}, \"sphere\": {\"radius\": 0.3}});\n\tviewer_1755723726181841.setBackgroundColor(\"0xeeeeee\");\n\tviewer_1755723726181841.zoomTo();\n\tviewer_1755723726181841.addLabel(0,{\"backgroundOpacity\": 0.0, \"fontColor\": \"black\", \"alignment\": \"center\", \"inFront\": true},{\"index\": 0});\n\tviewer_1755723726181841.addLabel(1,{\"backgroundOpacity\": 0.0, \"fontColor\": \"black\", \"alignment\": \"center\", \"inFront\": true},{\"index\": 1});\n\tviewer_1755723726181841.addLabel(2,{\"backgroundOpacity\": 0.0, \"fontColor\": \"black\", \"alignment\": \"center\", \"inFront\": true},{\"index\": 2});\n\tviewer_1755723726181841.addLabel(3,{\"backgroundOpacity\": 0.0, \"fontColor\": \"black\", \"alignment\": \"center\", \"inFront\": true},{\"index\": 3});\n\tviewer_1755723726181841.addLabel(4,{\"backgroundOpacity\": 0.0, \"fontColor\": \"black\", \"alignment\": \"center\", \"inFront\": true},{\"index\": 4});\n\tviewer_1755723726181841.addLabel(5,{\"backgroundOpacity\": 0.0, \"fontColor\": \"black\", \"alignment\": \"center\", \"inFront\": true},{\"index\": 5});\n\tviewer_1755723726181841.addLabel(6,{\"backgroundOpacity\": 0.0, \"fontColor\": \"black\", \"alignment\": \"center\", \"inFront\": true},{\"index\": 6});\n\tviewer_1755723726181841.addLabel(7,{\"backgroundOpacity\": 0.0, \"fontColor\": \"black\", \"alignment\": \"center\", \"inFront\": true},{\"index\": 7});\n\tviewer_1755723726181841.addLabel(8,{\"backgroundOpacity\": 0.0, \"fontColor\": \"black\", \"alignment\": \"center\", \"inFront\": true},{\"index\": 8});\n\tviewer_1755723726181841.addLabel(9,{\"backgroundOpacity\": 0.0, \"fontColor\": \"black\", \"alignment\": \"center\", \"inFront\": true},{\"index\": 9});\n\tviewer_1755723726181841.addLabel(10,{\"backgroundOpacity\": 0.0, \"fontColor\": \"black\", \"alignment\": \"center\", \"inFront\": true},{\"index\": 10});\nviewer_1755723726181841.render();\n});\n</script>",
      "text/html": [
       "<div id=\"3dmolviewer_1755723726181841\"  style=\"position: relative; width: 400px; height: 400px;\">\n",
       "        <p id=\"3dmolwarning_1755723726181841\" style=\"background-color:#ffcccc;color:black\">3Dmol.js failed to load for some reason.  Please check your browser console for error messages.<br></p>\n",
       "        </div>\n",
       "<script>\n",
       "\n",
       "var loadScriptAsync = function(uri){\n",
       "  return new Promise((resolve, reject) => {\n",
       "    //this is to ignore the existence of requirejs amd\n",
       "    var savedexports, savedmodule;\n",
       "    if (typeof exports !== 'undefined') savedexports = exports;\n",
       "    else exports = {}\n",
       "    if (typeof module !== 'undefined') savedmodule = module;\n",
       "    else module = {}\n",
       "\n",
       "    var tag = document.createElement('script');\n",
       "    tag.src = uri;\n",
       "    tag.async = true;\n",
       "    tag.onload = () => {\n",
       "        exports = savedexports;\n",
       "        module = savedmodule;\n",
       "        resolve();\n",
       "    };\n",
       "  var firstScriptTag = document.getElementsByTagName('script')[0];\n",
       "  firstScriptTag.parentNode.insertBefore(tag, firstScriptTag);\n",
       "});\n",
       "};\n",
       "\n",
       "if(typeof $3Dmolpromise === 'undefined') {\n",
       "$3Dmolpromise = null;\n",
       "  $3Dmolpromise = loadScriptAsync('https://cdn.jsdelivr.net/npm/3dmol@2.5.2/build/3Dmol-min.js');\n",
       "}\n",
       "\n",
       "var viewer_1755723726181841 = null;\n",
       "var warn = document.getElementById(\"3dmolwarning_1755723726181841\");\n",
       "if(warn) {\n",
       "    warn.parentNode.removeChild(warn);\n",
       "}\n",
       "$3Dmolpromise.then(function() {\n",
       "viewer_1755723726181841 = $3Dmol.createViewer(document.getElementById(\"3dmolviewer_1755723726181841\"),{backgroundColor:\"white\"});\n",
       "viewer_1755723726181841.zoomTo();\n",
       "\tviewer_1755723726181841.addModel(\"\\n  automech\\n\\n  0  0  0  0  0  0  0  0  0  0999 V3000\\nM  V30 BEGIN CTAB\\nM  V30 COUNTS 11 9 0 0 0\\nM  V30 BEGIN ATOM\\nM  V30 1 C 0.020 -0.062 -0.028 RAD=2 VAL=3\\nM  V30 2 H -0.058 0.126 1.036 RAD=1 VAL=1\\nM  V30 3 C 1.241 -0.025 -0.598 RAD=2 VAL=3\\nM  V30 4 H 2.136 0.076 -0.000 RAD=1 VAL=1\\nM  V30 5 H 1.358 -0.134 -1.670 RAD=1 VAL=1\\nM  V30 6 C -1.263 -0.084 -0.799 RAD=1 VAL=4\\nM  V30 7 H -1.093 -0.362 -1.840 RAD=1 VAL=1\\nM  V30 8 H -1.963 -0.789 -0.354 RAD=1 VAL=1\\nM  V30 9 H -1.724 0.908 -0.780 RAD=1 VAL=1\\nM  V30 10 O 0.255 -2.098 0.465 RAD=2 VAL=1\\nM  V30 11 H 0.675 -2.435 -0.339 RAD=1 VAL=1\\nM  V30 END ATOM\\nM  V30 BEGIN BOND\\nM  V30 1 1 3 4 CFG=0\\nM  V30 2 1 10 11 CFG=0\\nM  V30 3 1 1 2 CFG=0\\nM  V30 4 1 1 3 CFG=0\\nM  V30 5 1 1 6 CFG=0\\nM  V30 6 1 3 5 CFG=0\\nM  V30 7 1 6 7 CFG=0\\nM  V30 8 1 6 9 CFG=0\\nM  V30 9 1 6 8 CFG=0\\nM  V30 END BOND\\nM  V30 END CTAB\\nM  END\\n\",\"sdf\");\n",
       "\tviewer_1755723726181841.setStyle({\"stick\": {}, \"sphere\": {\"radius\": 0.3}});\n",
       "\tviewer_1755723726181841.setBackgroundColor(\"0xeeeeee\");\n",
       "\tviewer_1755723726181841.zoomTo();\n",
       "\tviewer_1755723726181841.addLabel(0,{\"backgroundOpacity\": 0.0, \"fontColor\": \"black\", \"alignment\": \"center\", \"inFront\": true},{\"index\": 0});\n",
       "\tviewer_1755723726181841.addLabel(1,{\"backgroundOpacity\": 0.0, \"fontColor\": \"black\", \"alignment\": \"center\", \"inFront\": true},{\"index\": 1});\n",
       "\tviewer_1755723726181841.addLabel(2,{\"backgroundOpacity\": 0.0, \"fontColor\": \"black\", \"alignment\": \"center\", \"inFront\": true},{\"index\": 2});\n",
       "\tviewer_1755723726181841.addLabel(3,{\"backgroundOpacity\": 0.0, \"fontColor\": \"black\", \"alignment\": \"center\", \"inFront\": true},{\"index\": 3});\n",
       "\tviewer_1755723726181841.addLabel(4,{\"backgroundOpacity\": 0.0, \"fontColor\": \"black\", \"alignment\": \"center\", \"inFront\": true},{\"index\": 4});\n",
       "\tviewer_1755723726181841.addLabel(5,{\"backgroundOpacity\": 0.0, \"fontColor\": \"black\", \"alignment\": \"center\", \"inFront\": true},{\"index\": 5});\n",
       "\tviewer_1755723726181841.addLabel(6,{\"backgroundOpacity\": 0.0, \"fontColor\": \"black\", \"alignment\": \"center\", \"inFront\": true},{\"index\": 6});\n",
       "\tviewer_1755723726181841.addLabel(7,{\"backgroundOpacity\": 0.0, \"fontColor\": \"black\", \"alignment\": \"center\", \"inFront\": true},{\"index\": 7});\n",
       "\tviewer_1755723726181841.addLabel(8,{\"backgroundOpacity\": 0.0, \"fontColor\": \"black\", \"alignment\": \"center\", \"inFront\": true},{\"index\": 8});\n",
       "\tviewer_1755723726181841.addLabel(9,{\"backgroundOpacity\": 0.0, \"fontColor\": \"black\", \"alignment\": \"center\", \"inFront\": true},{\"index\": 9});\n",
       "\tviewer_1755723726181841.addLabel(10,{\"backgroundOpacity\": 0.0, \"fontColor\": \"black\", \"alignment\": \"center\", \"inFront\": true},{\"index\": 10});\n",
       "viewer_1755723726181841.render();\n",
       "});\n",
       "</script>"
      ]
     },
     "metadata": {},
     "output_type": "display_data"
    }
   ],
   "source": [
    "c3oh_geo_file = Path(\"C3+OH_ts.xyz\")\n",
    "c3oh_geo = automol.geom.from_xyz_string(c3oh_geo_file.read_text())\n",
    "automol.geom.display(c3oh_geo, label=True)"
   ]
  },
  {
   "cell_type": "code",
   "execution_count": 4,
   "id": "9344fbdd",
   "metadata": {},
   "outputs": [
    {
     "data": {
      "application/3dmoljs_load.v0": "<div id=\"3dmolviewer_17557237262442563\"  style=\"position: relative; width: 400px; height: 400px;\">\n        <p id=\"3dmolwarning_17557237262442563\" style=\"background-color:#ffcccc;color:black\">3Dmol.js failed to load for some reason.  Please check your browser console for error messages.<br></p>\n        </div>\n<script>\n\nvar loadScriptAsync = function(uri){\n  return new Promise((resolve, reject) => {\n    //this is to ignore the existence of requirejs amd\n    var savedexports, savedmodule;\n    if (typeof exports !== 'undefined') savedexports = exports;\n    else exports = {}\n    if (typeof module !== 'undefined') savedmodule = module;\n    else module = {}\n\n    var tag = document.createElement('script');\n    tag.src = uri;\n    tag.async = true;\n    tag.onload = () => {\n        exports = savedexports;\n        module = savedmodule;\n        resolve();\n    };\n  var firstScriptTag = document.getElementsByTagName('script')[0];\n  firstScriptTag.parentNode.insertBefore(tag, firstScriptTag);\n});\n};\n\nif(typeof $3Dmolpromise === 'undefined') {\n$3Dmolpromise = null;\n  $3Dmolpromise = loadScriptAsync('https://cdn.jsdelivr.net/npm/3dmol@2.5.2/build/3Dmol-min.js');\n}\n\nvar viewer_17557237262442563 = null;\nvar warn = document.getElementById(\"3dmolwarning_17557237262442563\");\nif(warn) {\n    warn.parentNode.removeChild(warn);\n}\n$3Dmolpromise.then(function() {\nviewer_17557237262442563 = $3Dmol.createViewer(document.getElementById(\"3dmolviewer_17557237262442563\"),{backgroundColor:\"white\"});\nviewer_17557237262442563.zoomTo();\n\tviewer_17557237262442563.addModel(\"\\n  automech\\n\\n  0  0  0  0  0  0  0  0  0  0999 V3000\\nM  V30 BEGIN CTAB\\nM  V30 COUNTS 15 14 0 0 0\\nM  V30 BEGIN ATOM\\nM  V30 1 C 1.900 1.401 0.000 RAD=1 VAL=4\\nM  V30 2 C 0.670 2.267 0.353 RAD=1 VAL=4\\nM  V30 3 C -0.560 1.402 -0.003 RAD=1 VAL=4\\nM  V30 4 C 0.000 0.000 0.000 RAD=2 VAL=3\\nM  V30 5 C 1.338 0.000 0.000 RAD=2 VAL=3\\nM  V30 6 H 2.299 1.642 -0.992 RAD=1 VAL=1\\nM  V30 7 H 2.718 1.532 0.711 RAD=1 VAL=1\\nM  V30 8 H 0.670 3.229 -0.158 RAD=1 VAL=1\\nM  V30 9 H 0.671 2.462 1.427 RAD=1 VAL=1\\nM  V30 10 H -1.383 1.534 0.703 RAD=1 VAL=1\\nM  V30 11 H -0.955 1.641 -0.997 RAD=1 VAL=1\\nM  V30 12 H -0.619 -0.888 -0.049 RAD=1 VAL=1\\nM  V30 13 H 1.956 -0.889 -0.051 RAD=1 VAL=1\\nM  V30 14 O 1.399 -0.549 2.034 RAD=2 VAL=1\\nM  V30 15 H 0.688 0.002 2.392 RAD=1 VAL=1\\nM  V30 END ATOM\\nM  V30 BEGIN BOND\\nM  V30 1 1 4 5 CFG=0\\nM  V30 2 1 2 8 CFG=0\\nM  V30 3 1 1 7 CFG=0\\nM  V30 4 1 3 4 CFG=0\\nM  V30 5 1 2 3 CFG=0\\nM  V30 6 1 3 11 CFG=0\\nM  V30 7 1 1 2 CFG=0\\nM  V30 8 1 14 15 CFG=0\\nM  V30 9 1 5 13 CFG=0\\nM  V30 10 1 1 5 CFG=0\\nM  V30 11 1 1 6 CFG=0\\nM  V30 12 1 2 9 CFG=0\\nM  V30 13 1 4 12 CFG=0\\nM  V30 14 1 3 10 CFG=0\\nM  V30 END BOND\\nM  V30 END CTAB\\nM  END\\n\",\"sdf\");\n\tviewer_17557237262442563.setStyle({\"stick\": {}, \"sphere\": {\"radius\": 0.3}});\n\tviewer_17557237262442563.setBackgroundColor(\"0xeeeeee\");\n\tviewer_17557237262442563.zoomTo();\n\tviewer_17557237262442563.addLabel(0,{\"backgroundOpacity\": 0.0, \"fontColor\": \"black\", \"alignment\": \"center\", \"inFront\": true},{\"index\": 0});\n\tviewer_17557237262442563.addLabel(1,{\"backgroundOpacity\": 0.0, \"fontColor\": \"black\", \"alignment\": \"center\", \"inFront\": true},{\"index\": 1});\n\tviewer_17557237262442563.addLabel(2,{\"backgroundOpacity\": 0.0, \"fontColor\": \"black\", \"alignment\": \"center\", \"inFront\": true},{\"index\": 2});\n\tviewer_17557237262442563.addLabel(3,{\"backgroundOpacity\": 0.0, \"fontColor\": \"black\", \"alignment\": \"center\", \"inFront\": true},{\"index\": 3});\n\tviewer_17557237262442563.addLabel(4,{\"backgroundOpacity\": 0.0, \"fontColor\": \"black\", \"alignment\": \"center\", \"inFront\": true},{\"index\": 4});\n\tviewer_17557237262442563.addLabel(5,{\"backgroundOpacity\": 0.0, \"fontColor\": \"black\", \"alignment\": \"center\", \"inFront\": true},{\"index\": 5});\n\tviewer_17557237262442563.addLabel(6,{\"backgroundOpacity\": 0.0, \"fontColor\": \"black\", \"alignment\": \"center\", \"inFront\": true},{\"index\": 6});\n\tviewer_17557237262442563.addLabel(7,{\"backgroundOpacity\": 0.0, \"fontColor\": \"black\", \"alignment\": \"center\", \"inFront\": true},{\"index\": 7});\n\tviewer_17557237262442563.addLabel(8,{\"backgroundOpacity\": 0.0, \"fontColor\": \"black\", \"alignment\": \"center\", \"inFront\": true},{\"index\": 8});\n\tviewer_17557237262442563.addLabel(9,{\"backgroundOpacity\": 0.0, \"fontColor\": \"black\", \"alignment\": \"center\", \"inFront\": true},{\"index\": 9});\n\tviewer_17557237262442563.addLabel(10,{\"backgroundOpacity\": 0.0, \"fontColor\": \"black\", \"alignment\": \"center\", \"inFront\": true},{\"index\": 10});\n\tviewer_17557237262442563.addLabel(11,{\"backgroundOpacity\": 0.0, \"fontColor\": \"black\", \"alignment\": \"center\", \"inFront\": true},{\"index\": 11});\n\tviewer_17557237262442563.addLabel(12,{\"backgroundOpacity\": 0.0, \"fontColor\": \"black\", \"alignment\": \"center\", \"inFront\": true},{\"index\": 12});\n\tviewer_17557237262442563.addLabel(13,{\"backgroundOpacity\": 0.0, \"fontColor\": \"black\", \"alignment\": \"center\", \"inFront\": true},{\"index\": 13});\n\tviewer_17557237262442563.addLabel(14,{\"backgroundOpacity\": 0.0, \"fontColor\": \"black\", \"alignment\": \"center\", \"inFront\": true},{\"index\": 14});\nviewer_17557237262442563.render();\n});\n</script>",
      "text/html": [
       "<div id=\"3dmolviewer_17557237262442563\"  style=\"position: relative; width: 400px; height: 400px;\">\n",
       "        <p id=\"3dmolwarning_17557237262442563\" style=\"background-color:#ffcccc;color:black\">3Dmol.js failed to load for some reason.  Please check your browser console for error messages.<br></p>\n",
       "        </div>\n",
       "<script>\n",
       "\n",
       "var loadScriptAsync = function(uri){\n",
       "  return new Promise((resolve, reject) => {\n",
       "    //this is to ignore the existence of requirejs amd\n",
       "    var savedexports, savedmodule;\n",
       "    if (typeof exports !== 'undefined') savedexports = exports;\n",
       "    else exports = {}\n",
       "    if (typeof module !== 'undefined') savedmodule = module;\n",
       "    else module = {}\n",
       "\n",
       "    var tag = document.createElement('script');\n",
       "    tag.src = uri;\n",
       "    tag.async = true;\n",
       "    tag.onload = () => {\n",
       "        exports = savedexports;\n",
       "        module = savedmodule;\n",
       "        resolve();\n",
       "    };\n",
       "  var firstScriptTag = document.getElementsByTagName('script')[0];\n",
       "  firstScriptTag.parentNode.insertBefore(tag, firstScriptTag);\n",
       "});\n",
       "};\n",
       "\n",
       "if(typeof $3Dmolpromise === 'undefined') {\n",
       "$3Dmolpromise = null;\n",
       "  $3Dmolpromise = loadScriptAsync('https://cdn.jsdelivr.net/npm/3dmol@2.5.2/build/3Dmol-min.js');\n",
       "}\n",
       "\n",
       "var viewer_17557237262442563 = null;\n",
       "var warn = document.getElementById(\"3dmolwarning_17557237262442563\");\n",
       "if(warn) {\n",
       "    warn.parentNode.removeChild(warn);\n",
       "}\n",
       "$3Dmolpromise.then(function() {\n",
       "viewer_17557237262442563 = $3Dmol.createViewer(document.getElementById(\"3dmolviewer_17557237262442563\"),{backgroundColor:\"white\"});\n",
       "viewer_17557237262442563.zoomTo();\n",
       "\tviewer_17557237262442563.addModel(\"\\n  automech\\n\\n  0  0  0  0  0  0  0  0  0  0999 V3000\\nM  V30 BEGIN CTAB\\nM  V30 COUNTS 15 14 0 0 0\\nM  V30 BEGIN ATOM\\nM  V30 1 C 1.900 1.401 0.000 RAD=1 VAL=4\\nM  V30 2 C 0.670 2.267 0.353 RAD=1 VAL=4\\nM  V30 3 C -0.560 1.402 -0.003 RAD=1 VAL=4\\nM  V30 4 C 0.000 0.000 0.000 RAD=2 VAL=3\\nM  V30 5 C 1.338 0.000 0.000 RAD=2 VAL=3\\nM  V30 6 H 2.299 1.642 -0.992 RAD=1 VAL=1\\nM  V30 7 H 2.718 1.532 0.711 RAD=1 VAL=1\\nM  V30 8 H 0.670 3.229 -0.158 RAD=1 VAL=1\\nM  V30 9 H 0.671 2.462 1.427 RAD=1 VAL=1\\nM  V30 10 H -1.383 1.534 0.703 RAD=1 VAL=1\\nM  V30 11 H -0.955 1.641 -0.997 RAD=1 VAL=1\\nM  V30 12 H -0.619 -0.888 -0.049 RAD=1 VAL=1\\nM  V30 13 H 1.956 -0.889 -0.051 RAD=1 VAL=1\\nM  V30 14 O 1.399 -0.549 2.034 RAD=2 VAL=1\\nM  V30 15 H 0.688 0.002 2.392 RAD=1 VAL=1\\nM  V30 END ATOM\\nM  V30 BEGIN BOND\\nM  V30 1 1 4 5 CFG=0\\nM  V30 2 1 2 8 CFG=0\\nM  V30 3 1 1 7 CFG=0\\nM  V30 4 1 3 4 CFG=0\\nM  V30 5 1 2 3 CFG=0\\nM  V30 6 1 3 11 CFG=0\\nM  V30 7 1 1 2 CFG=0\\nM  V30 8 1 14 15 CFG=0\\nM  V30 9 1 5 13 CFG=0\\nM  V30 10 1 1 5 CFG=0\\nM  V30 11 1 1 6 CFG=0\\nM  V30 12 1 2 9 CFG=0\\nM  V30 13 1 4 12 CFG=0\\nM  V30 14 1 3 10 CFG=0\\nM  V30 END BOND\\nM  V30 END CTAB\\nM  END\\n\",\"sdf\");\n",
       "\tviewer_17557237262442563.setStyle({\"stick\": {}, \"sphere\": {\"radius\": 0.3}});\n",
       "\tviewer_17557237262442563.setBackgroundColor(\"0xeeeeee\");\n",
       "\tviewer_17557237262442563.zoomTo();\n",
       "\tviewer_17557237262442563.addLabel(0,{\"backgroundOpacity\": 0.0, \"fontColor\": \"black\", \"alignment\": \"center\", \"inFront\": true},{\"index\": 0});\n",
       "\tviewer_17557237262442563.addLabel(1,{\"backgroundOpacity\": 0.0, \"fontColor\": \"black\", \"alignment\": \"center\", \"inFront\": true},{\"index\": 1});\n",
       "\tviewer_17557237262442563.addLabel(2,{\"backgroundOpacity\": 0.0, \"fontColor\": \"black\", \"alignment\": \"center\", \"inFront\": true},{\"index\": 2});\n",
       "\tviewer_17557237262442563.addLabel(3,{\"backgroundOpacity\": 0.0, \"fontColor\": \"black\", \"alignment\": \"center\", \"inFront\": true},{\"index\": 3});\n",
       "\tviewer_17557237262442563.addLabel(4,{\"backgroundOpacity\": 0.0, \"fontColor\": \"black\", \"alignment\": \"center\", \"inFront\": true},{\"index\": 4});\n",
       "\tviewer_17557237262442563.addLabel(5,{\"backgroundOpacity\": 0.0, \"fontColor\": \"black\", \"alignment\": \"center\", \"inFront\": true},{\"index\": 5});\n",
       "\tviewer_17557237262442563.addLabel(6,{\"backgroundOpacity\": 0.0, \"fontColor\": \"black\", \"alignment\": \"center\", \"inFront\": true},{\"index\": 6});\n",
       "\tviewer_17557237262442563.addLabel(7,{\"backgroundOpacity\": 0.0, \"fontColor\": \"black\", \"alignment\": \"center\", \"inFront\": true},{\"index\": 7});\n",
       "\tviewer_17557237262442563.addLabel(8,{\"backgroundOpacity\": 0.0, \"fontColor\": \"black\", \"alignment\": \"center\", \"inFront\": true},{\"index\": 8});\n",
       "\tviewer_17557237262442563.addLabel(9,{\"backgroundOpacity\": 0.0, \"fontColor\": \"black\", \"alignment\": \"center\", \"inFront\": true},{\"index\": 9});\n",
       "\tviewer_17557237262442563.addLabel(10,{\"backgroundOpacity\": 0.0, \"fontColor\": \"black\", \"alignment\": \"center\", \"inFront\": true},{\"index\": 10});\n",
       "\tviewer_17557237262442563.addLabel(11,{\"backgroundOpacity\": 0.0, \"fontColor\": \"black\", \"alignment\": \"center\", \"inFront\": true},{\"index\": 11});\n",
       "\tviewer_17557237262442563.addLabel(12,{\"backgroundOpacity\": 0.0, \"fontColor\": \"black\", \"alignment\": \"center\", \"inFront\": true},{\"index\": 12});\n",
       "\tviewer_17557237262442563.addLabel(13,{\"backgroundOpacity\": 0.0, \"fontColor\": \"black\", \"alignment\": \"center\", \"inFront\": true},{\"index\": 13});\n",
       "\tviewer_17557237262442563.addLabel(14,{\"backgroundOpacity\": 0.0, \"fontColor\": \"black\", \"alignment\": \"center\", \"inFront\": true},{\"index\": 14});\n",
       "viewer_17557237262442563.render();\n",
       "});\n",
       "</script>"
      ]
     },
     "metadata": {},
     "output_type": "display_data"
    }
   ],
   "source": [
    "c5_geo = automol.geom.align_to_atoms(c5_geo, idxs=(3, 4, 0), oop_idxs=(0, 6))\n",
    "c3oh_geo = automol.geom.align_to_atoms(c3oh_geo, idxs=(2, 0, 5), oop_idxs=(5, 7))\n",
    "oh_geo = automol.geom.subgeom(c3oh_geo, idxs=(9, 10))\n",
    "c5oh_geo = c5_geo + oh_geo\n",
    "automol.geom.display(c5oh_geo, label=True)"
   ]
  },
  {
   "cell_type": "code",
   "execution_count": 5,
   "id": "4b0085d6",
   "metadata": {},
   "outputs": [
    {
     "data": {
      "text/plain": [
       "544"
      ]
     },
     "execution_count": 5,
     "metadata": {},
     "output_type": "execute_result"
    }
   ],
   "source": [
    "c5oh_xyz_file = Path(\"guess.xyz\")\n",
    "c5oh_xyz_file.write_text(automol.geom.xyz_string(c5oh_geo))"
   ]
  },
  {
   "cell_type": "code",
   "execution_count": null,
   "id": "1522d17a",
   "metadata": {},
   "outputs": [],
   "source": []
  }
 ],
 "metadata": {
  "kernelspec": {
   "display_name": "dev",
   "language": "python",
   "name": "python3"
  },
  "language_info": {
   "codemirror_mode": {
    "name": "ipython",
    "version": 3
   },
   "file_extension": ".py",
   "mimetype": "text/x-python",
   "name": "python",
   "nbconvert_exporter": "python",
   "pygments_lexer": "ipython3",
   "version": "3.11.13"
  }
 },
 "nbformat": 4,
 "nbformat_minor": 5
}
