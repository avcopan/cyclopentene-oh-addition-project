{
 "cells": [
  {
   "cell_type": "code",
   "execution_count": 1,
   "id": "e8c17bb8",
   "metadata": {},
   "outputs": [
    {
     "data": {
      "application/3dmoljs_load.v0": "<div id=\"3dmolviewer_17545951906301403\"  style=\"position: relative; width: 400px; height: 400px;\">\n        <p id=\"3dmolwarning_17545951906301403\" style=\"background-color:#ffcccc;color:black\">3Dmol.js failed to load for some reason.  Please check your browser console for error messages.<br></p>\n        </div>\n<script>\n\nvar loadScriptAsync = function(uri){\n  return new Promise((resolve, reject) => {\n    //this is to ignore the existence of requirejs amd\n    var savedexports, savedmodule;\n    if (typeof exports !== 'undefined') savedexports = exports;\n    else exports = {}\n    if (typeof module !== 'undefined') savedmodule = module;\n    else module = {}\n\n    var tag = document.createElement('script');\n    tag.src = uri;\n    tag.async = true;\n    tag.onload = () => {\n        exports = savedexports;\n        module = savedmodule;\n        resolve();\n    };\n  var firstScriptTag = document.getElementsByTagName('script')[0];\n  firstScriptTag.parentNode.insertBefore(tag, firstScriptTag);\n});\n};\n\nif(typeof $3Dmolpromise === 'undefined') {\n$3Dmolpromise = null;\n  $3Dmolpromise = loadScriptAsync('https://cdn.jsdelivr.net/npm/3dmol@2.5.2/build/3Dmol-min.js');\n}\n\nvar viewer_17545951906301403 = null;\nvar warn = document.getElementById(\"3dmolwarning_17545951906301403\");\nif(warn) {\n    warn.parentNode.removeChild(warn);\n}\n$3Dmolpromise.then(function() {\nviewer_17545951906301403 = $3Dmol.createViewer(document.getElementById(\"3dmolviewer_17545951906301403\"),{backgroundColor:\"white\"});\nviewer_17545951906301403.zoomTo();\n\tviewer_17545951906301403.addModel(\"\\n  automech\\n\\n  0  0  0  0  0  0  0  0  0  0999 V3000\\nM  V30 BEGIN CTAB\\nM  V30 COUNTS 11 9 0 0 0\\nM  V30 BEGIN ATOM\\nM  V30 1 C 0.296 1.262 -0.212 RAD=2 VAL=3\\nM  V30 2 C -0.434 0.359 0.465 RAD=2 VAL=3\\nM  V30 3 H 0.981 1.929 0.294 RAD=1 VAL=1\\nM  V30 4 H 0.224 1.352 -1.287 RAD=1 VAL=1\\nM  V30 5 C -1.451 -0.548 -0.142 RAD=1 VAL=4\\nM  V30 6 H -2.450 -0.300 0.226 RAD=1 VAL=1\\nM  V30 7 H -1.453 -0.475 -1.228 RAD=1 VAL=1\\nM  V30 8 H -1.248 -1.582 0.135 RAD=1 VAL=1\\nM  V30 9 H -0.335 0.314 1.544 RAD=1 VAL=1\\nM  V30 10 O 1.467 -0.895 -0.112 RAD=2 VAL=1\\nM  V30 11 H 2.074 -0.511 0.539 RAD=1 VAL=1\\nM  V30 END ATOM\\nM  V30 BEGIN BOND\\nM  V30 1 1 2 5 CFG=0\\nM  V30 2 1 5 7 CFG=0\\nM  V30 3 1 10 11 CFG=0\\nM  V30 4 1 1 4 CFG=0\\nM  V30 5 1 5 6 CFG=0\\nM  V30 6 1 1 2 CFG=0\\nM  V30 7 1 1 3 CFG=0\\nM  V30 8 1 2 9 CFG=0\\nM  V30 9 1 5 8 CFG=0\\nM  V30 END BOND\\nM  V30 END CTAB\\nM  END\\n\",\"sdf\");\n\tviewer_17545951906301403.setStyle({\"stick\": {}, \"sphere\": {\"radius\": 0.3}});\n\tviewer_17545951906301403.setBackgroundColor(\"0xeeeeee\");\n\tviewer_17545951906301403.zoomTo();\nviewer_17545951906301403.render();\n});\n</script>",
      "text/html": [
       "<div id=\"3dmolviewer_17545951906301403\"  style=\"position: relative; width: 400px; height: 400px;\">\n",
       "        <p id=\"3dmolwarning_17545951906301403\" style=\"background-color:#ffcccc;color:black\">3Dmol.js failed to load for some reason.  Please check your browser console for error messages.<br></p>\n",
       "        </div>\n",
       "<script>\n",
       "\n",
       "var loadScriptAsync = function(uri){\n",
       "  return new Promise((resolve, reject) => {\n",
       "    //this is to ignore the existence of requirejs amd\n",
       "    var savedexports, savedmodule;\n",
       "    if (typeof exports !== 'undefined') savedexports = exports;\n",
       "    else exports = {}\n",
       "    if (typeof module !== 'undefined') savedmodule = module;\n",
       "    else module = {}\n",
       "\n",
       "    var tag = document.createElement('script');\n",
       "    tag.src = uri;\n",
       "    tag.async = true;\n",
       "    tag.onload = () => {\n",
       "        exports = savedexports;\n",
       "        module = savedmodule;\n",
       "        resolve();\n",
       "    };\n",
       "  var firstScriptTag = document.getElementsByTagName('script')[0];\n",
       "  firstScriptTag.parentNode.insertBefore(tag, firstScriptTag);\n",
       "});\n",
       "};\n",
       "\n",
       "if(typeof $3Dmolpromise === 'undefined') {\n",
       "$3Dmolpromise = null;\n",
       "  $3Dmolpromise = loadScriptAsync('https://cdn.jsdelivr.net/npm/3dmol@2.5.2/build/3Dmol-min.js');\n",
       "}\n",
       "\n",
       "var viewer_17545951906301403 = null;\n",
       "var warn = document.getElementById(\"3dmolwarning_17545951906301403\");\n",
       "if(warn) {\n",
       "    warn.parentNode.removeChild(warn);\n",
       "}\n",
       "$3Dmolpromise.then(function() {\n",
       "viewer_17545951906301403 = $3Dmol.createViewer(document.getElementById(\"3dmolviewer_17545951906301403\"),{backgroundColor:\"white\"});\n",
       "viewer_17545951906301403.zoomTo();\n",
       "\tviewer_17545951906301403.addModel(\"\\n  automech\\n\\n  0  0  0  0  0  0  0  0  0  0999 V3000\\nM  V30 BEGIN CTAB\\nM  V30 COUNTS 11 9 0 0 0\\nM  V30 BEGIN ATOM\\nM  V30 1 C 0.296 1.262 -0.212 RAD=2 VAL=3\\nM  V30 2 C -0.434 0.359 0.465 RAD=2 VAL=3\\nM  V30 3 H 0.981 1.929 0.294 RAD=1 VAL=1\\nM  V30 4 H 0.224 1.352 -1.287 RAD=1 VAL=1\\nM  V30 5 C -1.451 -0.548 -0.142 RAD=1 VAL=4\\nM  V30 6 H -2.450 -0.300 0.226 RAD=1 VAL=1\\nM  V30 7 H -1.453 -0.475 -1.228 RAD=1 VAL=1\\nM  V30 8 H -1.248 -1.582 0.135 RAD=1 VAL=1\\nM  V30 9 H -0.335 0.314 1.544 RAD=1 VAL=1\\nM  V30 10 O 1.467 -0.895 -0.112 RAD=2 VAL=1\\nM  V30 11 H 2.074 -0.511 0.539 RAD=1 VAL=1\\nM  V30 END ATOM\\nM  V30 BEGIN BOND\\nM  V30 1 1 2 5 CFG=0\\nM  V30 2 1 5 7 CFG=0\\nM  V30 3 1 10 11 CFG=0\\nM  V30 4 1 1 4 CFG=0\\nM  V30 5 1 5 6 CFG=0\\nM  V30 6 1 1 2 CFG=0\\nM  V30 7 1 1 3 CFG=0\\nM  V30 8 1 2 9 CFG=0\\nM  V30 9 1 5 8 CFG=0\\nM  V30 END BOND\\nM  V30 END CTAB\\nM  END\\n\",\"sdf\");\n",
       "\tviewer_17545951906301403.setStyle({\"stick\": {}, \"sphere\": {\"radius\": 0.3}});\n",
       "\tviewer_17545951906301403.setBackgroundColor(\"0xeeeeee\");\n",
       "\tviewer_17545951906301403.zoomTo();\n",
       "viewer_17545951906301403.render();\n",
       "});\n",
       "</script>"
      ]
     },
     "metadata": {},
     "output_type": "display_data"
    }
   ],
   "source": [
    "from pathlib import Path\n",
    "\n",
    "import automol\n",
    "\n",
    "geo_file = Path(\"C3+OH_ts.xyz\")\n",
    "geo = automol.geom.from_xyz_string(geo_file.read_text())\n",
    "automol.geom.display(geo)"
   ]
  },
  {
   "cell_type": "code",
   "execution_count": null,
   "id": "1176f2db",
   "metadata": {},
   "outputs": [],
   "source": []
  }
 ],
 "metadata": {
  "kernelspec": {
   "display_name": "dev",
   "language": "python",
   "name": "python3"
  },
  "language_info": {
   "codemirror_mode": {
    "name": "ipython",
    "version": 3
   },
   "file_extension": ".py",
   "mimetype": "text/x-python",
   "name": "python",
   "nbconvert_exporter": "python",
   "pygments_lexer": "ipython3",
   "version": "3.11.13"
  }
 },
 "nbformat": 4,
 "nbformat_minor": 5
}
