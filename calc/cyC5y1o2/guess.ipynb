{
 "cells": [
  {
   "cell_type": "code",
   "execution_count": 1,
   "id": "a117136b",
   "metadata": {},
   "outputs": [],
   "source": [
    "from pathlib import Path\n",
    "\n",
    "import automol"
   ]
  },
  {
   "cell_type": "code",
   "execution_count": 2,
   "id": "b1fe6444",
   "metadata": {},
   "outputs": [
    {
     "data": {
      "application/3dmoljs_load.v0": "<div id=\"3dmolviewer_17544189114125896\"  style=\"position: relative; width: 400px; height: 400px;\">\n        <p id=\"3dmolwarning_17544189114125896\" style=\"background-color:#ffcccc;color:black\">3Dmol.js failed to load for some reason.  Please check your browser console for error messages.<br></p>\n        </div>\n<script>\n\nvar loadScriptAsync = function(uri){\n  return new Promise((resolve, reject) => {\n    //this is to ignore the existence of requirejs amd\n    var savedexports, savedmodule;\n    if (typeof exports !== 'undefined') savedexports = exports;\n    else exports = {}\n    if (typeof module !== 'undefined') savedmodule = module;\n    else module = {}\n\n    var tag = document.createElement('script');\n    tag.src = uri;\n    tag.async = true;\n    tag.onload = () => {\n        exports = savedexports;\n        module = savedmodule;\n        resolve();\n    };\n  var firstScriptTag = document.getElementsByTagName('script')[0];\n  firstScriptTag.parentNode.insertBefore(tag, firstScriptTag);\n});\n};\n\nif(typeof $3Dmolpromise === 'undefined') {\n$3Dmolpromise = null;\n  $3Dmolpromise = loadScriptAsync('https://cdn.jsdelivr.net/npm/3dmol@2.5.2/build/3Dmol-min.js');\n}\n\nvar viewer_17544189114125896 = null;\nvar warn = document.getElementById(\"3dmolwarning_17544189114125896\");\nif(warn) {\n    warn.parentNode.removeChild(warn);\n}\n$3Dmolpromise.then(function() {\nviewer_17544189114125896 = $3Dmol.createViewer(document.getElementById(\"3dmolviewer_17544189114125896\"),{backgroundColor:\"white\"});\nviewer_17544189114125896.zoomTo();\n\tviewer_17544189114125896.addModel(\"\\n  automech\\n\\n  0  0  0  0  0  0  0  0  0  0999 V3000\\nM  V30 BEGIN CTAB\\nM  V30 COUNTS 15 15 0 0 0\\nM  V30 BEGIN ATOM\\nM  V30 1 C -0.100 1.195 -0.189 RAD=1 VAL=4\\nM  V30 2 C -0.788 0.359 0.887 RAD=1 VAL=4\\nM  V30 3 C -0.923 -1.024 0.262 RAD=1 VAL=4\\nM  V30 4 C 0.260 -1.096 -0.643 RAD=2 VAL=3\\nM  V30 5 H 0.600 -1.996 -1.132 RAD=1 VAL=1\\nM  V30 6 C 0.894 0.236 -0.836 RAD=1 VAL=4\\nM  V30 7 O 2.131 0.251 -0.150 RAD=1 VAL=2\\nM  V30 8 H 0.378 2.081 0.240 RAD=1 VAL=1\\nM  V30 9 H -0.845 1.521 -0.926 RAD=1 VAL=1\\nM  V30 10 H -1.756 0.776 1.181 RAD=1 VAL=1\\nM  V30 11 H -0.158 0.309 1.785 RAD=1 VAL=1\\nM  V30 12 H -0.910 -1.812 1.019 RAD=1 VAL=1\\nM  V30 13 H -1.844 -1.104 -0.324 RAD=1 VAL=1\\nM  V30 14 H 1.063 0.474 -1.889 RAD=1 VAL=1\\nM  V30 15 H 1.998 -0.170 0.715 RAD=1 VAL=1\\nM  V30 END ATOM\\nM  V30 BEGIN BOND\\nM  V30 1 1 4 5 CFG=0\\nM  V30 2 1 2 10 CFG=0\\nM  V30 3 1 3 4 CFG=0\\nM  V30 4 1 2 3 CFG=0\\nM  V30 5 1 1 2 CFG=0\\nM  V30 6 1 7 15 CFG=0\\nM  V30 7 1 1 6 CFG=0\\nM  V30 8 1 3 13 CFG=0\\nM  V30 9 1 6 7 CFG=0\\nM  V30 10 1 4 6 CFG=0\\nM  V30 11 1 6 14 CFG=0\\nM  V30 12 1 3 12 CFG=0\\nM  V30 13 1 1 8 CFG=0\\nM  V30 14 1 2 11 CFG=0\\nM  V30 15 1 1 9 CFG=0\\nM  V30 END BOND\\nM  V30 END CTAB\\nM  END\\n\",\"sdf\");\n\tviewer_17544189114125896.setStyle({\"stick\": {}, \"sphere\": {\"radius\": 0.3}});\n\tviewer_17544189114125896.setBackgroundColor(\"0xeeeeee\");\n\tviewer_17544189114125896.zoomTo();\n\tviewer_17544189114125896.addLabel(0,{\"backgroundOpacity\": 0.0, \"fontColor\": \"black\", \"alignment\": \"center\", \"inFront\": true},{\"index\": 0});\n\tviewer_17544189114125896.addLabel(1,{\"backgroundOpacity\": 0.0, \"fontColor\": \"black\", \"alignment\": \"center\", \"inFront\": true},{\"index\": 1});\n\tviewer_17544189114125896.addLabel(2,{\"backgroundOpacity\": 0.0, \"fontColor\": \"black\", \"alignment\": \"center\", \"inFront\": true},{\"index\": 2});\n\tviewer_17544189114125896.addLabel(3,{\"backgroundOpacity\": 0.0, \"fontColor\": \"black\", \"alignment\": \"center\", \"inFront\": true},{\"index\": 3});\n\tviewer_17544189114125896.addLabel(4,{\"backgroundOpacity\": 0.0, \"fontColor\": \"black\", \"alignment\": \"center\", \"inFront\": true},{\"index\": 4});\n\tviewer_17544189114125896.addLabel(5,{\"backgroundOpacity\": 0.0, \"fontColor\": \"black\", \"alignment\": \"center\", \"inFront\": true},{\"index\": 5});\n\tviewer_17544189114125896.addLabel(6,{\"backgroundOpacity\": 0.0, \"fontColor\": \"black\", \"alignment\": \"center\", \"inFront\": true},{\"index\": 6});\n\tviewer_17544189114125896.addLabel(7,{\"backgroundOpacity\": 0.0, \"fontColor\": \"black\", \"alignment\": \"center\", \"inFront\": true},{\"index\": 7});\n\tviewer_17544189114125896.addLabel(8,{\"backgroundOpacity\": 0.0, \"fontColor\": \"black\", \"alignment\": \"center\", \"inFront\": true},{\"index\": 8});\n\tviewer_17544189114125896.addLabel(9,{\"backgroundOpacity\": 0.0, \"fontColor\": \"black\", \"alignment\": \"center\", \"inFront\": true},{\"index\": 9});\n\tviewer_17544189114125896.addLabel(10,{\"backgroundOpacity\": 0.0, \"fontColor\": \"black\", \"alignment\": \"center\", \"inFront\": true},{\"index\": 10});\n\tviewer_17544189114125896.addLabel(11,{\"backgroundOpacity\": 0.0, \"fontColor\": \"black\", \"alignment\": \"center\", \"inFront\": true},{\"index\": 11});\n\tviewer_17544189114125896.addLabel(12,{\"backgroundOpacity\": 0.0, \"fontColor\": \"black\", \"alignment\": \"center\", \"inFront\": true},{\"index\": 12});\n\tviewer_17544189114125896.addLabel(13,{\"backgroundOpacity\": 0.0, \"fontColor\": \"black\", \"alignment\": \"center\", \"inFront\": true},{\"index\": 13});\n\tviewer_17544189114125896.addLabel(14,{\"backgroundOpacity\": 0.0, \"fontColor\": \"black\", \"alignment\": \"center\", \"inFront\": true},{\"index\": 14});\nviewer_17544189114125896.render();\n});\n</script>",
      "text/html": [
       "<div id=\"3dmolviewer_17544189114125896\"  style=\"position: relative; width: 400px; height: 400px;\">\n",
       "        <p id=\"3dmolwarning_17544189114125896\" style=\"background-color:#ffcccc;color:black\">3Dmol.js failed to load for some reason.  Please check your browser console for error messages.<br></p>\n",
       "        </div>\n",
       "<script>\n",
       "\n",
       "var loadScriptAsync = function(uri){\n",
       "  return new Promise((resolve, reject) => {\n",
       "    //this is to ignore the existence of requirejs amd\n",
       "    var savedexports, savedmodule;\n",
       "    if (typeof exports !== 'undefined') savedexports = exports;\n",
       "    else exports = {}\n",
       "    if (typeof module !== 'undefined') savedmodule = module;\n",
       "    else module = {}\n",
       "\n",
       "    var tag = document.createElement('script');\n",
       "    tag.src = uri;\n",
       "    tag.async = true;\n",
       "    tag.onload = () => {\n",
       "        exports = savedexports;\n",
       "        module = savedmodule;\n",
       "        resolve();\n",
       "    };\n",
       "  var firstScriptTag = document.getElementsByTagName('script')[0];\n",
       "  firstScriptTag.parentNode.insertBefore(tag, firstScriptTag);\n",
       "});\n",
       "};\n",
       "\n",
       "if(typeof $3Dmolpromise === 'undefined') {\n",
       "$3Dmolpromise = null;\n",
       "  $3Dmolpromise = loadScriptAsync('https://cdn.jsdelivr.net/npm/3dmol@2.5.2/build/3Dmol-min.js');\n",
       "}\n",
       "\n",
       "var viewer_17544189114125896 = null;\n",
       "var warn = document.getElementById(\"3dmolwarning_17544189114125896\");\n",
       "if(warn) {\n",
       "    warn.parentNode.removeChild(warn);\n",
       "}\n",
       "$3Dmolpromise.then(function() {\n",
       "viewer_17544189114125896 = $3Dmol.createViewer(document.getElementById(\"3dmolviewer_17544189114125896\"),{backgroundColor:\"white\"});\n",
       "viewer_17544189114125896.zoomTo();\n",
       "\tviewer_17544189114125896.addModel(\"\\n  automech\\n\\n  0  0  0  0  0  0  0  0  0  0999 V3000\\nM  V30 BEGIN CTAB\\nM  V30 COUNTS 15 15 0 0 0\\nM  V30 BEGIN ATOM\\nM  V30 1 C -0.100 1.195 -0.189 RAD=1 VAL=4\\nM  V30 2 C -0.788 0.359 0.887 RAD=1 VAL=4\\nM  V30 3 C -0.923 -1.024 0.262 RAD=1 VAL=4\\nM  V30 4 C 0.260 -1.096 -0.643 RAD=2 VAL=3\\nM  V30 5 H 0.600 -1.996 -1.132 RAD=1 VAL=1\\nM  V30 6 C 0.894 0.236 -0.836 RAD=1 VAL=4\\nM  V30 7 O 2.131 0.251 -0.150 RAD=1 VAL=2\\nM  V30 8 H 0.378 2.081 0.240 RAD=1 VAL=1\\nM  V30 9 H -0.845 1.521 -0.926 RAD=1 VAL=1\\nM  V30 10 H -1.756 0.776 1.181 RAD=1 VAL=1\\nM  V30 11 H -0.158 0.309 1.785 RAD=1 VAL=1\\nM  V30 12 H -0.910 -1.812 1.019 RAD=1 VAL=1\\nM  V30 13 H -1.844 -1.104 -0.324 RAD=1 VAL=1\\nM  V30 14 H 1.063 0.474 -1.889 RAD=1 VAL=1\\nM  V30 15 H 1.998 -0.170 0.715 RAD=1 VAL=1\\nM  V30 END ATOM\\nM  V30 BEGIN BOND\\nM  V30 1 1 4 5 CFG=0\\nM  V30 2 1 2 10 CFG=0\\nM  V30 3 1 3 4 CFG=0\\nM  V30 4 1 2 3 CFG=0\\nM  V30 5 1 1 2 CFG=0\\nM  V30 6 1 7 15 CFG=0\\nM  V30 7 1 1 6 CFG=0\\nM  V30 8 1 3 13 CFG=0\\nM  V30 9 1 6 7 CFG=0\\nM  V30 10 1 4 6 CFG=0\\nM  V30 11 1 6 14 CFG=0\\nM  V30 12 1 3 12 CFG=0\\nM  V30 13 1 1 8 CFG=0\\nM  V30 14 1 2 11 CFG=0\\nM  V30 15 1 1 9 CFG=0\\nM  V30 END BOND\\nM  V30 END CTAB\\nM  END\\n\",\"sdf\");\n",
       "\tviewer_17544189114125896.setStyle({\"stick\": {}, \"sphere\": {\"radius\": 0.3}});\n",
       "\tviewer_17544189114125896.setBackgroundColor(\"0xeeeeee\");\n",
       "\tviewer_17544189114125896.zoomTo();\n",
       "\tviewer_17544189114125896.addLabel(0,{\"backgroundOpacity\": 0.0, \"fontColor\": \"black\", \"alignment\": \"center\", \"inFront\": true},{\"index\": 0});\n",
       "\tviewer_17544189114125896.addLabel(1,{\"backgroundOpacity\": 0.0, \"fontColor\": \"black\", \"alignment\": \"center\", \"inFront\": true},{\"index\": 1});\n",
       "\tviewer_17544189114125896.addLabel(2,{\"backgroundOpacity\": 0.0, \"fontColor\": \"black\", \"alignment\": \"center\", \"inFront\": true},{\"index\": 2});\n",
       "\tviewer_17544189114125896.addLabel(3,{\"backgroundOpacity\": 0.0, \"fontColor\": \"black\", \"alignment\": \"center\", \"inFront\": true},{\"index\": 3});\n",
       "\tviewer_17544189114125896.addLabel(4,{\"backgroundOpacity\": 0.0, \"fontColor\": \"black\", \"alignment\": \"center\", \"inFront\": true},{\"index\": 4});\n",
       "\tviewer_17544189114125896.addLabel(5,{\"backgroundOpacity\": 0.0, \"fontColor\": \"black\", \"alignment\": \"center\", \"inFront\": true},{\"index\": 5});\n",
       "\tviewer_17544189114125896.addLabel(6,{\"backgroundOpacity\": 0.0, \"fontColor\": \"black\", \"alignment\": \"center\", \"inFront\": true},{\"index\": 6});\n",
       "\tviewer_17544189114125896.addLabel(7,{\"backgroundOpacity\": 0.0, \"fontColor\": \"black\", \"alignment\": \"center\", \"inFront\": true},{\"index\": 7});\n",
       "\tviewer_17544189114125896.addLabel(8,{\"backgroundOpacity\": 0.0, \"fontColor\": \"black\", \"alignment\": \"center\", \"inFront\": true},{\"index\": 8});\n",
       "\tviewer_17544189114125896.addLabel(9,{\"backgroundOpacity\": 0.0, \"fontColor\": \"black\", \"alignment\": \"center\", \"inFront\": true},{\"index\": 9});\n",
       "\tviewer_17544189114125896.addLabel(10,{\"backgroundOpacity\": 0.0, \"fontColor\": \"black\", \"alignment\": \"center\", \"inFront\": true},{\"index\": 10});\n",
       "\tviewer_17544189114125896.addLabel(11,{\"backgroundOpacity\": 0.0, \"fontColor\": \"black\", \"alignment\": \"center\", \"inFront\": true},{\"index\": 11});\n",
       "\tviewer_17544189114125896.addLabel(12,{\"backgroundOpacity\": 0.0, \"fontColor\": \"black\", \"alignment\": \"center\", \"inFront\": true},{\"index\": 12});\n",
       "\tviewer_17544189114125896.addLabel(13,{\"backgroundOpacity\": 0.0, \"fontColor\": \"black\", \"alignment\": \"center\", \"inFront\": true},{\"index\": 13});\n",
       "\tviewer_17544189114125896.addLabel(14,{\"backgroundOpacity\": 0.0, \"fontColor\": \"black\", \"alignment\": \"center\", \"inFront\": true},{\"index\": 14});\n",
       "viewer_17544189114125896.render();\n",
       "});\n",
       "</script>"
      ]
     },
     "metadata": {},
     "output_type": "display_data"
    }
   ],
   "source": [
    "c5oh_geo = automol.smiles.geometry(\"C1CC[CH]C1O\")\n",
    "automol.geom.display(c5oh_geo, label=True)"
   ]
  },
  {
   "cell_type": "code",
   "execution_count": 4,
   "id": "2b7df0e3",
   "metadata": {},
   "outputs": [
    {
     "data": {
      "application/3dmoljs_load.v0": "<div id=\"3dmolviewer_17544189114655716\"  style=\"position: relative; width: 400px; height: 400px;\">\n        <p id=\"3dmolwarning_17544189114655716\" style=\"background-color:#ffcccc;color:black\">3Dmol.js failed to load for some reason.  Please check your browser console for error messages.<br></p>\n        </div>\n<script>\n\nvar loadScriptAsync = function(uri){\n  return new Promise((resolve, reject) => {\n    //this is to ignore the existence of requirejs amd\n    var savedexports, savedmodule;\n    if (typeof exports !== 'undefined') savedexports = exports;\n    else exports = {}\n    if (typeof module !== 'undefined') savedmodule = module;\n    else module = {}\n\n    var tag = document.createElement('script');\n    tag.src = uri;\n    tag.async = true;\n    tag.onload = () => {\n        exports = savedexports;\n        module = savedmodule;\n        resolve();\n    };\n  var firstScriptTag = document.getElementsByTagName('script')[0];\n  firstScriptTag.parentNode.insertBefore(tag, firstScriptTag);\n});\n};\n\nif(typeof $3Dmolpromise === 'undefined') {\n$3Dmolpromise = null;\n  $3Dmolpromise = loadScriptAsync('https://cdn.jsdelivr.net/npm/3dmol@2.5.2/build/3Dmol-min.js');\n}\n\nvar viewer_17544189114655716 = null;\nvar warn = document.getElementById(\"3dmolwarning_17544189114655716\");\nif(warn) {\n    warn.parentNode.removeChild(warn);\n}\n$3Dmolpromise.then(function() {\nviewer_17544189114655716 = $3Dmol.createViewer(document.getElementById(\"3dmolviewer_17544189114655716\"),{backgroundColor:\"white\"});\nviewer_17544189114655716.zoomTo();\n\tviewer_17544189114655716.addModel(\"\\n  automech\\n\\n  0  0  0  0  0  0  0  0  0  0999 V3000\\nM  V30 BEGIN CTAB\\nM  V30 COUNTS 15 14 0 0 0\\nM  V30 BEGIN ATOM\\nM  V30 1 C 1.887 1.416 -0.007 RAD=1 VAL=4\\nM  V30 2 C 0.664 2.293 0.289 RAD=1 VAL=4\\nM  V30 3 C -0.557 1.414 -0.013 RAD=1 VAL=4\\nM  V30 4 C 0.002 0.022 0.058 RAD=2 VAL=3\\nM  V30 5 C 1.330 0.024 0.059 RAD=2 VAL=3\\nM  V30 6 H 2.294 1.603 -1.004 RAD=1 VAL=1\\nM  V30 7 H 2.700 1.581 0.700 RAD=1 VAL=1\\nM  V30 8 H 0.664 3.221 -0.280 RAD=1 VAL=1\\nM  V30 9 H 0.664 2.563 1.346 RAD=1 VAL=1\\nM  V30 10 H -1.377 1.581 0.685 RAD=1 VAL=1\\nM  V30 11 H -0.957 1.599 -1.013 RAD=1 VAL=1\\nM  V30 12 H -0.614 -0.868 0.048 RAD=1 VAL=1\\nM  V30 13 H 1.949 -0.864 0.052 RAD=1 VAL=1\\nM  V30 14 O 0.982 -0.056 3.343 RAD=2 VAL=1\\nM  V30 15 H 0.727 -0.073 2.400 RAD=1 VAL=1\\nM  V30 END ATOM\\nM  V30 BEGIN BOND\\nM  V30 1 1 4 5 CFG=0\\nM  V30 2 1 2 8 CFG=0\\nM  V30 3 1 1 7 CFG=0\\nM  V30 4 1 3 4 CFG=0\\nM  V30 5 1 2 3 CFG=0\\nM  V30 6 1 3 11 CFG=0\\nM  V30 7 1 1 2 CFG=0\\nM  V30 8 1 14 15 CFG=0\\nM  V30 9 1 5 13 CFG=0\\nM  V30 10 1 1 5 CFG=0\\nM  V30 11 1 1 6 CFG=0\\nM  V30 12 1 2 9 CFG=0\\nM  V30 13 1 4 12 CFG=0\\nM  V30 14 1 3 10 CFG=0\\nM  V30 END BOND\\nM  V30 END CTAB\\nM  END\\n\",\"sdf\");\n\tviewer_17544189114655716.setStyle({\"stick\": {}, \"sphere\": {\"radius\": 0.3}});\n\tviewer_17544189114655716.setBackgroundColor(\"0xeeeeee\");\n\tviewer_17544189114655716.zoomTo();\n\tviewer_17544189114655716.addLabel(0,{\"backgroundOpacity\": 0.0, \"fontColor\": \"black\", \"alignment\": \"center\", \"inFront\": true},{\"index\": 0});\n\tviewer_17544189114655716.addLabel(1,{\"backgroundOpacity\": 0.0, \"fontColor\": \"black\", \"alignment\": \"center\", \"inFront\": true},{\"index\": 1});\n\tviewer_17544189114655716.addLabel(2,{\"backgroundOpacity\": 0.0, \"fontColor\": \"black\", \"alignment\": \"center\", \"inFront\": true},{\"index\": 2});\n\tviewer_17544189114655716.addLabel(3,{\"backgroundOpacity\": 0.0, \"fontColor\": \"black\", \"alignment\": \"center\", \"inFront\": true},{\"index\": 3});\n\tviewer_17544189114655716.addLabel(4,{\"backgroundOpacity\": 0.0, \"fontColor\": \"black\", \"alignment\": \"center\", \"inFront\": true},{\"index\": 4});\n\tviewer_17544189114655716.addLabel(5,{\"backgroundOpacity\": 0.0, \"fontColor\": \"black\", \"alignment\": \"center\", \"inFront\": true},{\"index\": 5});\n\tviewer_17544189114655716.addLabel(6,{\"backgroundOpacity\": 0.0, \"fontColor\": \"black\", \"alignment\": \"center\", \"inFront\": true},{\"index\": 6});\n\tviewer_17544189114655716.addLabel(7,{\"backgroundOpacity\": 0.0, \"fontColor\": \"black\", \"alignment\": \"center\", \"inFront\": true},{\"index\": 7});\n\tviewer_17544189114655716.addLabel(8,{\"backgroundOpacity\": 0.0, \"fontColor\": \"black\", \"alignment\": \"center\", \"inFront\": true},{\"index\": 8});\n\tviewer_17544189114655716.addLabel(9,{\"backgroundOpacity\": 0.0, \"fontColor\": \"black\", \"alignment\": \"center\", \"inFront\": true},{\"index\": 9});\n\tviewer_17544189114655716.addLabel(10,{\"backgroundOpacity\": 0.0, \"fontColor\": \"black\", \"alignment\": \"center\", \"inFront\": true},{\"index\": 10});\n\tviewer_17544189114655716.addLabel(11,{\"backgroundOpacity\": 0.0, \"fontColor\": \"black\", \"alignment\": \"center\", \"inFront\": true},{\"index\": 11});\n\tviewer_17544189114655716.addLabel(12,{\"backgroundOpacity\": 0.0, \"fontColor\": \"black\", \"alignment\": \"center\", \"inFront\": true},{\"index\": 12});\n\tviewer_17544189114655716.addLabel(13,{\"backgroundOpacity\": 0.0, \"fontColor\": \"black\", \"alignment\": \"center\", \"inFront\": true},{\"index\": 13});\n\tviewer_17544189114655716.addLabel(14,{\"backgroundOpacity\": 0.0, \"fontColor\": \"black\", \"alignment\": \"center\", \"inFront\": true},{\"index\": 14});\nviewer_17544189114655716.render();\n});\n</script>",
      "text/html": [
       "<div id=\"3dmolviewer_17544189114655716\"  style=\"position: relative; width: 400px; height: 400px;\">\n",
       "        <p id=\"3dmolwarning_17544189114655716\" style=\"background-color:#ffcccc;color:black\">3Dmol.js failed to load for some reason.  Please check your browser console for error messages.<br></p>\n",
       "        </div>\n",
       "<script>\n",
       "\n",
       "var loadScriptAsync = function(uri){\n",
       "  return new Promise((resolve, reject) => {\n",
       "    //this is to ignore the existence of requirejs amd\n",
       "    var savedexports, savedmodule;\n",
       "    if (typeof exports !== 'undefined') savedexports = exports;\n",
       "    else exports = {}\n",
       "    if (typeof module !== 'undefined') savedmodule = module;\n",
       "    else module = {}\n",
       "\n",
       "    var tag = document.createElement('script');\n",
       "    tag.src = uri;\n",
       "    tag.async = true;\n",
       "    tag.onload = () => {\n",
       "        exports = savedexports;\n",
       "        module = savedmodule;\n",
       "        resolve();\n",
       "    };\n",
       "  var firstScriptTag = document.getElementsByTagName('script')[0];\n",
       "  firstScriptTag.parentNode.insertBefore(tag, firstScriptTag);\n",
       "});\n",
       "};\n",
       "\n",
       "if(typeof $3Dmolpromise === 'undefined') {\n",
       "$3Dmolpromise = null;\n",
       "  $3Dmolpromise = loadScriptAsync('https://cdn.jsdelivr.net/npm/3dmol@2.5.2/build/3Dmol-min.js');\n",
       "}\n",
       "\n",
       "var viewer_17544189114655716 = null;\n",
       "var warn = document.getElementById(\"3dmolwarning_17544189114655716\");\n",
       "if(warn) {\n",
       "    warn.parentNode.removeChild(warn);\n",
       "}\n",
       "$3Dmolpromise.then(function() {\n",
       "viewer_17544189114655716 = $3Dmol.createViewer(document.getElementById(\"3dmolviewer_17544189114655716\"),{backgroundColor:\"white\"});\n",
       "viewer_17544189114655716.zoomTo();\n",
       "\tviewer_17544189114655716.addModel(\"\\n  automech\\n\\n  0  0  0  0  0  0  0  0  0  0999 V3000\\nM  V30 BEGIN CTAB\\nM  V30 COUNTS 15 14 0 0 0\\nM  V30 BEGIN ATOM\\nM  V30 1 C 1.887 1.416 -0.007 RAD=1 VAL=4\\nM  V30 2 C 0.664 2.293 0.289 RAD=1 VAL=4\\nM  V30 3 C -0.557 1.414 -0.013 RAD=1 VAL=4\\nM  V30 4 C 0.002 0.022 0.058 RAD=2 VAL=3\\nM  V30 5 C 1.330 0.024 0.059 RAD=2 VAL=3\\nM  V30 6 H 2.294 1.603 -1.004 RAD=1 VAL=1\\nM  V30 7 H 2.700 1.581 0.700 RAD=1 VAL=1\\nM  V30 8 H 0.664 3.221 -0.280 RAD=1 VAL=1\\nM  V30 9 H 0.664 2.563 1.346 RAD=1 VAL=1\\nM  V30 10 H -1.377 1.581 0.685 RAD=1 VAL=1\\nM  V30 11 H -0.957 1.599 -1.013 RAD=1 VAL=1\\nM  V30 12 H -0.614 -0.868 0.048 RAD=1 VAL=1\\nM  V30 13 H 1.949 -0.864 0.052 RAD=1 VAL=1\\nM  V30 14 O 0.982 -0.056 3.343 RAD=2 VAL=1\\nM  V30 15 H 0.727 -0.073 2.400 RAD=1 VAL=1\\nM  V30 END ATOM\\nM  V30 BEGIN BOND\\nM  V30 1 1 4 5 CFG=0\\nM  V30 2 1 2 8 CFG=0\\nM  V30 3 1 1 7 CFG=0\\nM  V30 4 1 3 4 CFG=0\\nM  V30 5 1 2 3 CFG=0\\nM  V30 6 1 3 11 CFG=0\\nM  V30 7 1 1 2 CFG=0\\nM  V30 8 1 14 15 CFG=0\\nM  V30 9 1 5 13 CFG=0\\nM  V30 10 1 1 5 CFG=0\\nM  V30 11 1 1 6 CFG=0\\nM  V30 12 1 2 9 CFG=0\\nM  V30 13 1 4 12 CFG=0\\nM  V30 14 1 3 10 CFG=0\\nM  V30 END BOND\\nM  V30 END CTAB\\nM  END\\n\",\"sdf\");\n",
       "\tviewer_17544189114655716.setStyle({\"stick\": {}, \"sphere\": {\"radius\": 0.3}});\n",
       "\tviewer_17544189114655716.setBackgroundColor(\"0xeeeeee\");\n",
       "\tviewer_17544189114655716.zoomTo();\n",
       "\tviewer_17544189114655716.addLabel(0,{\"backgroundOpacity\": 0.0, \"fontColor\": \"black\", \"alignment\": \"center\", \"inFront\": true},{\"index\": 0});\n",
       "\tviewer_17544189114655716.addLabel(1,{\"backgroundOpacity\": 0.0, \"fontColor\": \"black\", \"alignment\": \"center\", \"inFront\": true},{\"index\": 1});\n",
       "\tviewer_17544189114655716.addLabel(2,{\"backgroundOpacity\": 0.0, \"fontColor\": \"black\", \"alignment\": \"center\", \"inFront\": true},{\"index\": 2});\n",
       "\tviewer_17544189114655716.addLabel(3,{\"backgroundOpacity\": 0.0, \"fontColor\": \"black\", \"alignment\": \"center\", \"inFront\": true},{\"index\": 3});\n",
       "\tviewer_17544189114655716.addLabel(4,{\"backgroundOpacity\": 0.0, \"fontColor\": \"black\", \"alignment\": \"center\", \"inFront\": true},{\"index\": 4});\n",
       "\tviewer_17544189114655716.addLabel(5,{\"backgroundOpacity\": 0.0, \"fontColor\": \"black\", \"alignment\": \"center\", \"inFront\": true},{\"index\": 5});\n",
       "\tviewer_17544189114655716.addLabel(6,{\"backgroundOpacity\": 0.0, \"fontColor\": \"black\", \"alignment\": \"center\", \"inFront\": true},{\"index\": 6});\n",
       "\tviewer_17544189114655716.addLabel(7,{\"backgroundOpacity\": 0.0, \"fontColor\": \"black\", \"alignment\": \"center\", \"inFront\": true},{\"index\": 7});\n",
       "\tviewer_17544189114655716.addLabel(8,{\"backgroundOpacity\": 0.0, \"fontColor\": \"black\", \"alignment\": \"center\", \"inFront\": true},{\"index\": 8});\n",
       "\tviewer_17544189114655716.addLabel(9,{\"backgroundOpacity\": 0.0, \"fontColor\": \"black\", \"alignment\": \"center\", \"inFront\": true},{\"index\": 9});\n",
       "\tviewer_17544189114655716.addLabel(10,{\"backgroundOpacity\": 0.0, \"fontColor\": \"black\", \"alignment\": \"center\", \"inFront\": true},{\"index\": 10});\n",
       "\tviewer_17544189114655716.addLabel(11,{\"backgroundOpacity\": 0.0, \"fontColor\": \"black\", \"alignment\": \"center\", \"inFront\": true},{\"index\": 11});\n",
       "\tviewer_17544189114655716.addLabel(12,{\"backgroundOpacity\": 0.0, \"fontColor\": \"black\", \"alignment\": \"center\", \"inFront\": true},{\"index\": 12});\n",
       "\tviewer_17544189114655716.addLabel(13,{\"backgroundOpacity\": 0.0, \"fontColor\": \"black\", \"alignment\": \"center\", \"inFront\": true},{\"index\": 13});\n",
       "\tviewer_17544189114655716.addLabel(14,{\"backgroundOpacity\": 0.0, \"fontColor\": \"black\", \"alignment\": \"center\", \"inFront\": true},{\"index\": 14});\n",
       "viewer_17544189114655716.render();\n",
       "});\n",
       "</script>"
      ]
     },
     "metadata": {},
     "output_type": "display_data"
    }
   ],
   "source": [
    "complex_xyz_file = Path(\"cyC5e1+OH.xyz\")\n",
    "complex_geo = automol.geom.from_xyz_string(complex_xyz_file.read_text())\n",
    "automol.geom.display(complex_geo, label=True)"
   ]
  },
  {
   "cell_type": "code",
   "execution_count": 7,
   "id": "eb610211",
   "metadata": {},
   "outputs": [
    {
     "data": {
      "application/3dmoljs_load.v0": "<div id=\"3dmolviewer_17544192452150052\"  style=\"position: relative; width: 400px; height: 400px;\">\n        <p id=\"3dmolwarning_17544192452150052\" style=\"background-color:#ffcccc;color:black\">3Dmol.js failed to load for some reason.  Please check your browser console for error messages.<br></p>\n        </div>\n<script>\n\nvar loadScriptAsync = function(uri){\n  return new Promise((resolve, reject) => {\n    //this is to ignore the existence of requirejs amd\n    var savedexports, savedmodule;\n    if (typeof exports !== 'undefined') savedexports = exports;\n    else exports = {}\n    if (typeof module !== 'undefined') savedmodule = module;\n    else module = {}\n\n    var tag = document.createElement('script');\n    tag.src = uri;\n    tag.async = true;\n    tag.onload = () => {\n        exports = savedexports;\n        module = savedmodule;\n        resolve();\n    };\n  var firstScriptTag = document.getElementsByTagName('script')[0];\n  firstScriptTag.parentNode.insertBefore(tag, firstScriptTag);\n});\n};\n\nif(typeof $3Dmolpromise === 'undefined') {\n$3Dmolpromise = null;\n  $3Dmolpromise = loadScriptAsync('https://cdn.jsdelivr.net/npm/3dmol@2.5.2/build/3Dmol-min.js');\n}\n\nvar viewer_17544192452150052 = null;\nvar warn = document.getElementById(\"3dmolwarning_17544192452150052\");\nif(warn) {\n    warn.parentNode.removeChild(warn);\n}\n$3Dmolpromise.then(function() {\nviewer_17544192452150052 = $3Dmol.createViewer(document.getElementById(\"3dmolviewer_17544192452150052\"),{backgroundColor:\"white\"});\nviewer_17544192452150052.zoomTo();\n\tviewer_17544192452150052.addModel(\"\\n  automech\\n\\n  0  0  0  0  0  0  0  0  0  0999 V3000\\nM  V30 BEGIN CTAB\\nM  V30 COUNTS 15 15 0 0 0\\nM  V30 BEGIN ATOM\\nM  V30 1 C -0.100 1.195 -0.189 RAD=1 VAL=4\\nM  V30 2 C -0.788 0.359 0.887 RAD=1 VAL=4\\nM  V30 3 C -0.923 -1.024 0.262 RAD=1 VAL=4\\nM  V30 4 C 0.260 -1.096 -0.643 RAD=2 VAL=3\\nM  V30 5 C 0.894 0.236 -0.836 RAD=1 VAL=4\\nM  V30 6 H -0.845 1.521 -0.926 RAD=1 VAL=1\\nM  V30 7 H 0.378 2.081 0.240 RAD=1 VAL=1\\nM  V30 8 H -1.756 0.776 1.181 RAD=1 VAL=1\\nM  V30 9 H -0.158 0.309 1.785 RAD=1 VAL=1\\nM  V30 10 H -0.910 -1.812 1.019 RAD=1 VAL=1\\nM  V30 11 H -1.844 -1.104 -0.324 RAD=1 VAL=1\\nM  V30 12 H 0.600 -1.996 -1.132 RAD=1 VAL=1\\nM  V30 13 H 1.063 0.474 -1.889 RAD=1 VAL=1\\nM  V30 14 O 2.131 0.251 -0.150 RAD=1 VAL=2\\nM  V30 15 H 1.998 -0.170 0.715 RAD=1 VAL=1\\nM  V30 END ATOM\\nM  V30 BEGIN BOND\\nM  V30 1 1 4 5 CFG=0\\nM  V30 2 1 2 8 CFG=0\\nM  V30 3 1 1 7 CFG=0\\nM  V30 4 1 3 4 CFG=0\\nM  V30 5 1 2 3 CFG=0\\nM  V30 6 1 3 11 CFG=0\\nM  V30 7 1 1 2 CFG=0\\nM  V30 8 1 5 14 CFG=0\\nM  V30 9 1 5 13 CFG=0\\nM  V30 10 1 14 15 CFG=0\\nM  V30 11 1 1 5 CFG=0\\nM  V30 12 1 1 6 CFG=0\\nM  V30 13 1 2 9 CFG=0\\nM  V30 14 1 4 12 CFG=0\\nM  V30 15 1 3 10 CFG=0\\nM  V30 END BOND\\nM  V30 END CTAB\\nM  END\\n\",\"sdf\");\n\tviewer_17544192452150052.setStyle({\"stick\": {}, \"sphere\": {\"radius\": 0.3}});\n\tviewer_17544192452150052.setBackgroundColor(\"0xeeeeee\");\n\tviewer_17544192452150052.zoomTo();\n\tviewer_17544192452150052.addLabel(0,{\"backgroundOpacity\": 0.0, \"fontColor\": \"black\", \"alignment\": \"center\", \"inFront\": true},{\"index\": 0});\n\tviewer_17544192452150052.addLabel(1,{\"backgroundOpacity\": 0.0, \"fontColor\": \"black\", \"alignment\": \"center\", \"inFront\": true},{\"index\": 1});\n\tviewer_17544192452150052.addLabel(2,{\"backgroundOpacity\": 0.0, \"fontColor\": \"black\", \"alignment\": \"center\", \"inFront\": true},{\"index\": 2});\n\tviewer_17544192452150052.addLabel(3,{\"backgroundOpacity\": 0.0, \"fontColor\": \"black\", \"alignment\": \"center\", \"inFront\": true},{\"index\": 3});\n\tviewer_17544192452150052.addLabel(4,{\"backgroundOpacity\": 0.0, \"fontColor\": \"black\", \"alignment\": \"center\", \"inFront\": true},{\"index\": 4});\n\tviewer_17544192452150052.addLabel(5,{\"backgroundOpacity\": 0.0, \"fontColor\": \"black\", \"alignment\": \"center\", \"inFront\": true},{\"index\": 5});\n\tviewer_17544192452150052.addLabel(6,{\"backgroundOpacity\": 0.0, \"fontColor\": \"black\", \"alignment\": \"center\", \"inFront\": true},{\"index\": 6});\n\tviewer_17544192452150052.addLabel(7,{\"backgroundOpacity\": 0.0, \"fontColor\": \"black\", \"alignment\": \"center\", \"inFront\": true},{\"index\": 7});\n\tviewer_17544192452150052.addLabel(8,{\"backgroundOpacity\": 0.0, \"fontColor\": \"black\", \"alignment\": \"center\", \"inFront\": true},{\"index\": 8});\n\tviewer_17544192452150052.addLabel(9,{\"backgroundOpacity\": 0.0, \"fontColor\": \"black\", \"alignment\": \"center\", \"inFront\": true},{\"index\": 9});\n\tviewer_17544192452150052.addLabel(10,{\"backgroundOpacity\": 0.0, \"fontColor\": \"black\", \"alignment\": \"center\", \"inFront\": true},{\"index\": 10});\n\tviewer_17544192452150052.addLabel(11,{\"backgroundOpacity\": 0.0, \"fontColor\": \"black\", \"alignment\": \"center\", \"inFront\": true},{\"index\": 11});\n\tviewer_17544192452150052.addLabel(12,{\"backgroundOpacity\": 0.0, \"fontColor\": \"black\", \"alignment\": \"center\", \"inFront\": true},{\"index\": 12});\n\tviewer_17544192452150052.addLabel(13,{\"backgroundOpacity\": 0.0, \"fontColor\": \"black\", \"alignment\": \"center\", \"inFront\": true},{\"index\": 13});\n\tviewer_17544192452150052.addLabel(14,{\"backgroundOpacity\": 0.0, \"fontColor\": \"black\", \"alignment\": \"center\", \"inFront\": true},{\"index\": 14});\nviewer_17544192452150052.render();\n});\n</script>",
      "text/html": [
       "<div id=\"3dmolviewer_17544192452150052\"  style=\"position: relative; width: 400px; height: 400px;\">\n",
       "        <p id=\"3dmolwarning_17544192452150052\" style=\"background-color:#ffcccc;color:black\">3Dmol.js failed to load for some reason.  Please check your browser console for error messages.<br></p>\n",
       "        </div>\n",
       "<script>\n",
       "\n",
       "var loadScriptAsync = function(uri){\n",
       "  return new Promise((resolve, reject) => {\n",
       "    //this is to ignore the existence of requirejs amd\n",
       "    var savedexports, savedmodule;\n",
       "    if (typeof exports !== 'undefined') savedexports = exports;\n",
       "    else exports = {}\n",
       "    if (typeof module !== 'undefined') savedmodule = module;\n",
       "    else module = {}\n",
       "\n",
       "    var tag = document.createElement('script');\n",
       "    tag.src = uri;\n",
       "    tag.async = true;\n",
       "    tag.onload = () => {\n",
       "        exports = savedexports;\n",
       "        module = savedmodule;\n",
       "        resolve();\n",
       "    };\n",
       "  var firstScriptTag = document.getElementsByTagName('script')[0];\n",
       "  firstScriptTag.parentNode.insertBefore(tag, firstScriptTag);\n",
       "});\n",
       "};\n",
       "\n",
       "if(typeof $3Dmolpromise === 'undefined') {\n",
       "$3Dmolpromise = null;\n",
       "  $3Dmolpromise = loadScriptAsync('https://cdn.jsdelivr.net/npm/3dmol@2.5.2/build/3Dmol-min.js');\n",
       "}\n",
       "\n",
       "var viewer_17544192452150052 = null;\n",
       "var warn = document.getElementById(\"3dmolwarning_17544192452150052\");\n",
       "if(warn) {\n",
       "    warn.parentNode.removeChild(warn);\n",
       "}\n",
       "$3Dmolpromise.then(function() {\n",
       "viewer_17544192452150052 = $3Dmol.createViewer(document.getElementById(\"3dmolviewer_17544192452150052\"),{backgroundColor:\"white\"});\n",
       "viewer_17544192452150052.zoomTo();\n",
       "\tviewer_17544192452150052.addModel(\"\\n  automech\\n\\n  0  0  0  0  0  0  0  0  0  0999 V3000\\nM  V30 BEGIN CTAB\\nM  V30 COUNTS 15 15 0 0 0\\nM  V30 BEGIN ATOM\\nM  V30 1 C -0.100 1.195 -0.189 RAD=1 VAL=4\\nM  V30 2 C -0.788 0.359 0.887 RAD=1 VAL=4\\nM  V30 3 C -0.923 -1.024 0.262 RAD=1 VAL=4\\nM  V30 4 C 0.260 -1.096 -0.643 RAD=2 VAL=3\\nM  V30 5 C 0.894 0.236 -0.836 RAD=1 VAL=4\\nM  V30 6 H -0.845 1.521 -0.926 RAD=1 VAL=1\\nM  V30 7 H 0.378 2.081 0.240 RAD=1 VAL=1\\nM  V30 8 H -1.756 0.776 1.181 RAD=1 VAL=1\\nM  V30 9 H -0.158 0.309 1.785 RAD=1 VAL=1\\nM  V30 10 H -0.910 -1.812 1.019 RAD=1 VAL=1\\nM  V30 11 H -1.844 -1.104 -0.324 RAD=1 VAL=1\\nM  V30 12 H 0.600 -1.996 -1.132 RAD=1 VAL=1\\nM  V30 13 H 1.063 0.474 -1.889 RAD=1 VAL=1\\nM  V30 14 O 2.131 0.251 -0.150 RAD=1 VAL=2\\nM  V30 15 H 1.998 -0.170 0.715 RAD=1 VAL=1\\nM  V30 END ATOM\\nM  V30 BEGIN BOND\\nM  V30 1 1 4 5 CFG=0\\nM  V30 2 1 2 8 CFG=0\\nM  V30 3 1 1 7 CFG=0\\nM  V30 4 1 3 4 CFG=0\\nM  V30 5 1 2 3 CFG=0\\nM  V30 6 1 3 11 CFG=0\\nM  V30 7 1 1 2 CFG=0\\nM  V30 8 1 5 14 CFG=0\\nM  V30 9 1 5 13 CFG=0\\nM  V30 10 1 14 15 CFG=0\\nM  V30 11 1 1 5 CFG=0\\nM  V30 12 1 1 6 CFG=0\\nM  V30 13 1 2 9 CFG=0\\nM  V30 14 1 4 12 CFG=0\\nM  V30 15 1 3 10 CFG=0\\nM  V30 END BOND\\nM  V30 END CTAB\\nM  END\\n\",\"sdf\");\n",
       "\tviewer_17544192452150052.setStyle({\"stick\": {}, \"sphere\": {\"radius\": 0.3}});\n",
       "\tviewer_17544192452150052.setBackgroundColor(\"0xeeeeee\");\n",
       "\tviewer_17544192452150052.zoomTo();\n",
       "\tviewer_17544192452150052.addLabel(0,{\"backgroundOpacity\": 0.0, \"fontColor\": \"black\", \"alignment\": \"center\", \"inFront\": true},{\"index\": 0});\n",
       "\tviewer_17544192452150052.addLabel(1,{\"backgroundOpacity\": 0.0, \"fontColor\": \"black\", \"alignment\": \"center\", \"inFront\": true},{\"index\": 1});\n",
       "\tviewer_17544192452150052.addLabel(2,{\"backgroundOpacity\": 0.0, \"fontColor\": \"black\", \"alignment\": \"center\", \"inFront\": true},{\"index\": 2});\n",
       "\tviewer_17544192452150052.addLabel(3,{\"backgroundOpacity\": 0.0, \"fontColor\": \"black\", \"alignment\": \"center\", \"inFront\": true},{\"index\": 3});\n",
       "\tviewer_17544192452150052.addLabel(4,{\"backgroundOpacity\": 0.0, \"fontColor\": \"black\", \"alignment\": \"center\", \"inFront\": true},{\"index\": 4});\n",
       "\tviewer_17544192452150052.addLabel(5,{\"backgroundOpacity\": 0.0, \"fontColor\": \"black\", \"alignment\": \"center\", \"inFront\": true},{\"index\": 5});\n",
       "\tviewer_17544192452150052.addLabel(6,{\"backgroundOpacity\": 0.0, \"fontColor\": \"black\", \"alignment\": \"center\", \"inFront\": true},{\"index\": 6});\n",
       "\tviewer_17544192452150052.addLabel(7,{\"backgroundOpacity\": 0.0, \"fontColor\": \"black\", \"alignment\": \"center\", \"inFront\": true},{\"index\": 7});\n",
       "\tviewer_17544192452150052.addLabel(8,{\"backgroundOpacity\": 0.0, \"fontColor\": \"black\", \"alignment\": \"center\", \"inFront\": true},{\"index\": 8});\n",
       "\tviewer_17544192452150052.addLabel(9,{\"backgroundOpacity\": 0.0, \"fontColor\": \"black\", \"alignment\": \"center\", \"inFront\": true},{\"index\": 9});\n",
       "\tviewer_17544192452150052.addLabel(10,{\"backgroundOpacity\": 0.0, \"fontColor\": \"black\", \"alignment\": \"center\", \"inFront\": true},{\"index\": 10});\n",
       "\tviewer_17544192452150052.addLabel(11,{\"backgroundOpacity\": 0.0, \"fontColor\": \"black\", \"alignment\": \"center\", \"inFront\": true},{\"index\": 11});\n",
       "\tviewer_17544192452150052.addLabel(12,{\"backgroundOpacity\": 0.0, \"fontColor\": \"black\", \"alignment\": \"center\", \"inFront\": true},{\"index\": 12});\n",
       "\tviewer_17544192452150052.addLabel(13,{\"backgroundOpacity\": 0.0, \"fontColor\": \"black\", \"alignment\": \"center\", \"inFront\": true},{\"index\": 13});\n",
       "\tviewer_17544192452150052.addLabel(14,{\"backgroundOpacity\": 0.0, \"fontColor\": \"black\", \"alignment\": \"center\", \"inFront\": true},{\"index\": 14});\n",
       "viewer_17544192452150052.render();\n",
       "});\n",
       "</script>"
      ]
     },
     "metadata": {},
     "output_type": "display_data"
    }
   ],
   "source": [
    "guess_geo = automol.geom.reorder(\n",
    "    c5oh_geo,\n",
    "    {\n",
    "        0: 0,\n",
    "        1: 1,\n",
    "        2: 2,\n",
    "        3: 3,\n",
    "        4: 11,\n",
    "        5: 4,\n",
    "        6: 13,\n",
    "        7: 6,\n",
    "        8: 5,\n",
    "        9: 7,\n",
    "        10: 8,\n",
    "        11: 9,\n",
    "        12: 10,\n",
    "        13: 12,\n",
    "        14: 14,\n",
    "    },\n",
    ")\n",
    "automol.geom.display(guess_geo, label=True)"
   ]
  },
  {
   "cell_type": "code",
   "execution_count": 8,
   "id": "ebfd6bc0",
   "metadata": {},
   "outputs": [
    {
     "data": {
      "text/plain": [
       "544"
      ]
     },
     "execution_count": 8,
     "metadata": {},
     "output_type": "execute_result"
    }
   ],
   "source": [
    "guess_xyz_file = Path(\"guess.xyz\")\n",
    "guess_xyz_file.write_text(automol.geom.xyz_string(guess_geo))"
   ]
  },
  {
   "cell_type": "code",
   "execution_count": null,
   "id": "2623d0f5",
   "metadata": {},
   "outputs": [],
   "source": []
  }
 ],
 "metadata": {
  "kernelspec": {
   "display_name": "dev",
   "language": "python",
   "name": "python3"
  },
  "language_info": {
   "codemirror_mode": {
    "name": "ipython",
    "version": 3
   },
   "file_extension": ".py",
   "mimetype": "text/x-python",
   "name": "python",
   "nbconvert_exporter": "python",
   "pygments_lexer": "ipython3",
   "version": "3.11.13"
  }
 },
 "nbformat": 4,
 "nbformat_minor": 5
}
