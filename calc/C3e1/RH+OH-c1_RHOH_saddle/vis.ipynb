{
 "cells": [
  {
   "cell_type": "code",
   "execution_count": null,
   "id": "dae560b5",
   "metadata": {},
   "outputs": [],
   "source": [
    "from pathlib import Path\n",
    "\n",
    "import automol\n",
    "\n",
    "geo_file = Path(\"path_back_trj.xyz\")\n",
    "geos, comments = zip(\n",
    "    *automol.geom.from_xyz_trajectory_string(geo_file.read_text()),\n",
    "    strict=True,\n",
    ")\n",
    "automol.geom.display_trajectory(geos)"
   ]
  },
  {
   "cell_type": "code",
   "execution_count": null,
   "id": "bc2d14b3",
   "metadata": {},
   "outputs": [],
   "source": []
  }
 ],
 "metadata": {
  "jupytext": {
   "cell_metadata_filter": "-all",
   "main_language": "python",
   "notebook_metadata_filter": "-all"
  },
  "kernelspec": {
   "display_name": "dev",
   "language": "python",
   "name": "python3"
  },
  "language_info": {
   "codemirror_mode": {
    "name": "ipython",
    "version": 3
   },
   "file_extension": ".py",
   "mimetype": "text/x-python",
   "name": "python",
   "nbconvert_exporter": "python",
   "pygments_lexer": "ipython3",
   "version": "3.11.13"
  }
 },
 "nbformat": 4,
 "nbformat_minor": 5
}
