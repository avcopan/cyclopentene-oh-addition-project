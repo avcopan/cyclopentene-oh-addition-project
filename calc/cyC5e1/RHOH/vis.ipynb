{
 "cells": [
  {
   "cell_type": "code",
   "execution_count": 1,
   "id": "1904d85c-6d94-4a91-8437-f98f95250365",
   "metadata": {},
   "outputs": [
    {
     "data": {
      "application/3dmoljs_load.v0": "<div id=\"3dmolviewer_17556370105798078\"  style=\"position: relative; width: 400px; height: 400px;\">\n        <p id=\"3dmolwarning_17556370105798078\" style=\"background-color:#ffcccc;color:black\">3Dmol.js failed to load for some reason.  Please check your browser console for error messages.<br></p>\n        </div>\n<script>\n\nvar loadScriptAsync = function(uri){\n  return new Promise((resolve, reject) => {\n    //this is to ignore the existence of requirejs amd\n    var savedexports, savedmodule;\n    if (typeof exports !== 'undefined') savedexports = exports;\n    else exports = {}\n    if (typeof module !== 'undefined') savedmodule = module;\n    else module = {}\n\n    var tag = document.createElement('script');\n    tag.src = uri;\n    tag.async = true;\n    tag.onload = () => {\n        exports = savedexports;\n        module = savedmodule;\n        resolve();\n    };\n  var firstScriptTag = document.getElementsByTagName('script')[0];\n  firstScriptTag.parentNode.insertBefore(tag, firstScriptTag);\n});\n};\n\nif(typeof $3Dmolpromise === 'undefined') {\n$3Dmolpromise = null;\n  $3Dmolpromise = loadScriptAsync('https://cdn.jsdelivr.net/npm/3dmol@2.5.2/build/3Dmol-min.js');\n}\n\nvar viewer_17556370105798078 = null;\nvar warn = document.getElementById(\"3dmolwarning_17556370105798078\");\nif(warn) {\n    warn.parentNode.removeChild(warn);\n}\n$3Dmolpromise.then(function() {\nviewer_17556370105798078 = $3Dmol.createViewer(document.getElementById(\"3dmolviewer_17556370105798078\"),{backgroundColor:\"white\"});\nviewer_17556370105798078.zoomTo();\n\tviewer_17556370105798078.addModel(\"\\n  automech\\n\\n  0  0  0  0  0  0  0  0  0  0999 V3000\\nM  V30 BEGIN CTAB\\nM  V30 COUNTS 15 15 0 0 0\\nM  V30 BEGIN ATOM\\nM  V30 1 C -0.123 1.198 -0.181 RAD=1 VAL=4\\nM  V30 2 C -0.812 0.364 0.908 RAD=1 VAL=4\\nM  V30 3 C -0.944 -1.027 0.260 RAD=1 VAL=4\\nM  V30 4 C 0.252 -1.102 -0.636 RAD=2 VAL=3\\nM  V30 5 C 0.899 0.236 -0.807 RAD=1 VAL=4\\nM  V30 6 H -0.856 1.482 -0.942 RAD=1 VAL=1\\nM  V30 7 H 0.357 2.103 0.189 RAD=1 VAL=1\\nM  V30 8 H -1.769 0.781 1.225 RAD=1 VAL=1\\nM  V30 9 H -0.173 0.301 1.793 RAD=1 VAL=1\\nM  V30 10 H -0.989 -1.842 0.988 RAD=1 VAL=1\\nM  V30 11 H -1.873 -1.086 -0.325 RAD=1 VAL=1\\nM  V30 12 H 0.609 -2.002 -1.115 RAD=1 VAL=1\\nM  V30 13 H 1.109 0.483 -1.849 RAD=1 VAL=1\\nM  V30 14 O 2.188 0.303 -0.166 RAD=1 VAL=2\\nM  V30 15 H 2.124 -0.191 0.657 RAD=1 VAL=1\\nM  V30 END ATOM\\nM  V30 BEGIN BOND\\nM  V30 1 1 4 5 CFG=0\\nM  V30 2 1 2 8 CFG=0\\nM  V30 3 1 1 7 CFG=0\\nM  V30 4 1 3 4 CFG=0\\nM  V30 5 1 2 3 CFG=0\\nM  V30 6 1 3 11 CFG=0\\nM  V30 7 1 1 2 CFG=0\\nM  V30 8 1 5 14 CFG=0\\nM  V30 9 1 5 13 CFG=0\\nM  V30 10 1 14 15 CFG=0\\nM  V30 11 1 1 5 CFG=0\\nM  V30 12 1 1 6 CFG=0\\nM  V30 13 1 2 9 CFG=0\\nM  V30 14 1 4 12 CFG=0\\nM  V30 15 1 3 10 CFG=0\\nM  V30 END BOND\\nM  V30 END CTAB\\nM  END\\n\",\"sdf\");\n\tviewer_17556370105798078.setStyle({\"stick\": {}, \"sphere\": {\"radius\": 0.3}});\n\tviewer_17556370105798078.setBackgroundColor(\"0xeeeeee\");\n\tviewer_17556370105798078.zoomTo();\n\tviewer_17556370105798078.addLabel(0,{\"backgroundOpacity\": 0.0, \"fontColor\": \"black\", \"alignment\": \"center\", \"inFront\": true},{\"index\": 0});\n\tviewer_17556370105798078.addLabel(1,{\"backgroundOpacity\": 0.0, \"fontColor\": \"black\", \"alignment\": \"center\", \"inFront\": true},{\"index\": 1});\n\tviewer_17556370105798078.addLabel(2,{\"backgroundOpacity\": 0.0, \"fontColor\": \"black\", \"alignment\": \"center\", \"inFront\": true},{\"index\": 2});\n\tviewer_17556370105798078.addLabel(3,{\"backgroundOpacity\": 0.0, \"fontColor\": \"black\", \"alignment\": \"center\", \"inFront\": true},{\"index\": 3});\n\tviewer_17556370105798078.addLabel(4,{\"backgroundOpacity\": 0.0, \"fontColor\": \"black\", \"alignment\": \"center\", \"inFront\": true},{\"index\": 4});\n\tviewer_17556370105798078.addLabel(5,{\"backgroundOpacity\": 0.0, \"fontColor\": \"black\", \"alignment\": \"center\", \"inFront\": true},{\"index\": 5});\n\tviewer_17556370105798078.addLabel(6,{\"backgroundOpacity\": 0.0, \"fontColor\": \"black\", \"alignment\": \"center\", \"inFront\": true},{\"index\": 6});\n\tviewer_17556370105798078.addLabel(7,{\"backgroundOpacity\": 0.0, \"fontColor\": \"black\", \"alignment\": \"center\", \"inFront\": true},{\"index\": 7});\n\tviewer_17556370105798078.addLabel(8,{\"backgroundOpacity\": 0.0, \"fontColor\": \"black\", \"alignment\": \"center\", \"inFront\": true},{\"index\": 8});\n\tviewer_17556370105798078.addLabel(9,{\"backgroundOpacity\": 0.0, \"fontColor\": \"black\", \"alignment\": \"center\", \"inFront\": true},{\"index\": 9});\n\tviewer_17556370105798078.addLabel(10,{\"backgroundOpacity\": 0.0, \"fontColor\": \"black\", \"alignment\": \"center\", \"inFront\": true},{\"index\": 10});\n\tviewer_17556370105798078.addLabel(11,{\"backgroundOpacity\": 0.0, \"fontColor\": \"black\", \"alignment\": \"center\", \"inFront\": true},{\"index\": 11});\n\tviewer_17556370105798078.addLabel(12,{\"backgroundOpacity\": 0.0, \"fontColor\": \"black\", \"alignment\": \"center\", \"inFront\": true},{\"index\": 12});\n\tviewer_17556370105798078.addLabel(13,{\"backgroundOpacity\": 0.0, \"fontColor\": \"black\", \"alignment\": \"center\", \"inFront\": true},{\"index\": 13});\n\tviewer_17556370105798078.addLabel(14,{\"backgroundOpacity\": 0.0, \"fontColor\": \"black\", \"alignment\": \"center\", \"inFront\": true},{\"index\": 14});\nviewer_17556370105798078.render();\n});\n</script>",
      "text/html": [
       "<div id=\"3dmolviewer_17556370105798078\"  style=\"position: relative; width: 400px; height: 400px;\">\n",
       "        <p id=\"3dmolwarning_17556370105798078\" style=\"background-color:#ffcccc;color:black\">3Dmol.js failed to load for some reason.  Please check your browser console for error messages.<br></p>\n",
       "        </div>\n",
       "<script>\n",
       "\n",
       "var loadScriptAsync = function(uri){\n",
       "  return new Promise((resolve, reject) => {\n",
       "    //this is to ignore the existence of requirejs amd\n",
       "    var savedexports, savedmodule;\n",
       "    if (typeof exports !== 'undefined') savedexports = exports;\n",
       "    else exports = {}\n",
       "    if (typeof module !== 'undefined') savedmodule = module;\n",
       "    else module = {}\n",
       "\n",
       "    var tag = document.createElement('script');\n",
       "    tag.src = uri;\n",
       "    tag.async = true;\n",
       "    tag.onload = () => {\n",
       "        exports = savedexports;\n",
       "        module = savedmodule;\n",
       "        resolve();\n",
       "    };\n",
       "  var firstScriptTag = document.getElementsByTagName('script')[0];\n",
       "  firstScriptTag.parentNode.insertBefore(tag, firstScriptTag);\n",
       "});\n",
       "};\n",
       "\n",
       "if(typeof $3Dmolpromise === 'undefined') {\n",
       "$3Dmolpromise = null;\n",
       "  $3Dmolpromise = loadScriptAsync('https://cdn.jsdelivr.net/npm/3dmol@2.5.2/build/3Dmol-min.js');\n",
       "}\n",
       "\n",
       "var viewer_17556370105798078 = null;\n",
       "var warn = document.getElementById(\"3dmolwarning_17556370105798078\");\n",
       "if(warn) {\n",
       "    warn.parentNode.removeChild(warn);\n",
       "}\n",
       "$3Dmolpromise.then(function() {\n",
       "viewer_17556370105798078 = $3Dmol.createViewer(document.getElementById(\"3dmolviewer_17556370105798078\"),{backgroundColor:\"white\"});\n",
       "viewer_17556370105798078.zoomTo();\n",
       "\tviewer_17556370105798078.addModel(\"\\n  automech\\n\\n  0  0  0  0  0  0  0  0  0  0999 V3000\\nM  V30 BEGIN CTAB\\nM  V30 COUNTS 15 15 0 0 0\\nM  V30 BEGIN ATOM\\nM  V30 1 C -0.123 1.198 -0.181 RAD=1 VAL=4\\nM  V30 2 C -0.812 0.364 0.908 RAD=1 VAL=4\\nM  V30 3 C -0.944 -1.027 0.260 RAD=1 VAL=4\\nM  V30 4 C 0.252 -1.102 -0.636 RAD=2 VAL=3\\nM  V30 5 C 0.899 0.236 -0.807 RAD=1 VAL=4\\nM  V30 6 H -0.856 1.482 -0.942 RAD=1 VAL=1\\nM  V30 7 H 0.357 2.103 0.189 RAD=1 VAL=1\\nM  V30 8 H -1.769 0.781 1.225 RAD=1 VAL=1\\nM  V30 9 H -0.173 0.301 1.793 RAD=1 VAL=1\\nM  V30 10 H -0.989 -1.842 0.988 RAD=1 VAL=1\\nM  V30 11 H -1.873 -1.086 -0.325 RAD=1 VAL=1\\nM  V30 12 H 0.609 -2.002 -1.115 RAD=1 VAL=1\\nM  V30 13 H 1.109 0.483 -1.849 RAD=1 VAL=1\\nM  V30 14 O 2.188 0.303 -0.166 RAD=1 VAL=2\\nM  V30 15 H 2.124 -0.191 0.657 RAD=1 VAL=1\\nM  V30 END ATOM\\nM  V30 BEGIN BOND\\nM  V30 1 1 4 5 CFG=0\\nM  V30 2 1 2 8 CFG=0\\nM  V30 3 1 1 7 CFG=0\\nM  V30 4 1 3 4 CFG=0\\nM  V30 5 1 2 3 CFG=0\\nM  V30 6 1 3 11 CFG=0\\nM  V30 7 1 1 2 CFG=0\\nM  V30 8 1 5 14 CFG=0\\nM  V30 9 1 5 13 CFG=0\\nM  V30 10 1 14 15 CFG=0\\nM  V30 11 1 1 5 CFG=0\\nM  V30 12 1 1 6 CFG=0\\nM  V30 13 1 2 9 CFG=0\\nM  V30 14 1 4 12 CFG=0\\nM  V30 15 1 3 10 CFG=0\\nM  V30 END BOND\\nM  V30 END CTAB\\nM  END\\n\",\"sdf\");\n",
       "\tviewer_17556370105798078.setStyle({\"stick\": {}, \"sphere\": {\"radius\": 0.3}});\n",
       "\tviewer_17556370105798078.setBackgroundColor(\"0xeeeeee\");\n",
       "\tviewer_17556370105798078.zoomTo();\n",
       "\tviewer_17556370105798078.addLabel(0,{\"backgroundOpacity\": 0.0, \"fontColor\": \"black\", \"alignment\": \"center\", \"inFront\": true},{\"index\": 0});\n",
       "\tviewer_17556370105798078.addLabel(1,{\"backgroundOpacity\": 0.0, \"fontColor\": \"black\", \"alignment\": \"center\", \"inFront\": true},{\"index\": 1});\n",
       "\tviewer_17556370105798078.addLabel(2,{\"backgroundOpacity\": 0.0, \"fontColor\": \"black\", \"alignment\": \"center\", \"inFront\": true},{\"index\": 2});\n",
       "\tviewer_17556370105798078.addLabel(3,{\"backgroundOpacity\": 0.0, \"fontColor\": \"black\", \"alignment\": \"center\", \"inFront\": true},{\"index\": 3});\n",
       "\tviewer_17556370105798078.addLabel(4,{\"backgroundOpacity\": 0.0, \"fontColor\": \"black\", \"alignment\": \"center\", \"inFront\": true},{\"index\": 4});\n",
       "\tviewer_17556370105798078.addLabel(5,{\"backgroundOpacity\": 0.0, \"fontColor\": \"black\", \"alignment\": \"center\", \"inFront\": true},{\"index\": 5});\n",
       "\tviewer_17556370105798078.addLabel(6,{\"backgroundOpacity\": 0.0, \"fontColor\": \"black\", \"alignment\": \"center\", \"inFront\": true},{\"index\": 6});\n",
       "\tviewer_17556370105798078.addLabel(7,{\"backgroundOpacity\": 0.0, \"fontColor\": \"black\", \"alignment\": \"center\", \"inFront\": true},{\"index\": 7});\n",
       "\tviewer_17556370105798078.addLabel(8,{\"backgroundOpacity\": 0.0, \"fontColor\": \"black\", \"alignment\": \"center\", \"inFront\": true},{\"index\": 8});\n",
       "\tviewer_17556370105798078.addLabel(9,{\"backgroundOpacity\": 0.0, \"fontColor\": \"black\", \"alignment\": \"center\", \"inFront\": true},{\"index\": 9});\n",
       "\tviewer_17556370105798078.addLabel(10,{\"backgroundOpacity\": 0.0, \"fontColor\": \"black\", \"alignment\": \"center\", \"inFront\": true},{\"index\": 10});\n",
       "\tviewer_17556370105798078.addLabel(11,{\"backgroundOpacity\": 0.0, \"fontColor\": \"black\", \"alignment\": \"center\", \"inFront\": true},{\"index\": 11});\n",
       "\tviewer_17556370105798078.addLabel(12,{\"backgroundOpacity\": 0.0, \"fontColor\": \"black\", \"alignment\": \"center\", \"inFront\": true},{\"index\": 12});\n",
       "\tviewer_17556370105798078.addLabel(13,{\"backgroundOpacity\": 0.0, \"fontColor\": \"black\", \"alignment\": \"center\", \"inFront\": true},{\"index\": 13});\n",
       "\tviewer_17556370105798078.addLabel(14,{\"backgroundOpacity\": 0.0, \"fontColor\": \"black\", \"alignment\": \"center\", \"inFront\": true},{\"index\": 14});\n",
       "viewer_17556370105798078.render();\n",
       "});\n",
       "</script>"
      ]
     },
     "metadata": {},
     "output_type": "display_data"
    }
   ],
   "source": [
    "from pathlib import Path\n",
    "\n",
    "import automol\n",
    "\n",
    "geo = automol.geom.from_xyz_string(Path(\"opt.xyz\").read_text())\n",
    "automol.geom.display(geo, label=True)"
   ]
  }
 ],
 "metadata": {
  "kernelspec": {
   "display_name": "dev",
   "language": "python",
   "name": "python3"
  },
  "language_info": {
   "codemirror_mode": {
    "name": "ipython",
    "version": 3
   },
   "file_extension": ".py",
   "mimetype": "text/x-python",
   "name": "python",
   "nbconvert_exporter": "python",
   "pygments_lexer": "ipython3",
   "version": "3.11.13"
  }
 },
 "nbformat": 4,
 "nbformat_minor": 2
}
